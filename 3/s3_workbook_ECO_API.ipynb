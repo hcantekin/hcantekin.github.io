{
  "cells": [
    {
      "cell_type": "markdown",
      "metadata": {
        "id": "view-in-github",
        "colab_type": "text"
      },
      "source": [
        "<a href=\"https://colab.research.google.com/github/hcantekin/hcantekin.github.io/blob/main/3/s3_workbook_ECO_API.ipynb\" target=\"_parent\"><img src=\"https://colab.research.google.com/assets/colab-badge.svg\" alt=\"Open In Colab\"/></a>"
      ]
    },
    {
      "cell_type": "markdown",
      "metadata": {
        "id": "pC-R7nWsVbBm"
      },
      "source": [
        "[![Binder](http://mybinder.org/badge_logo.svg)](https://mybinder.org/v2/gh/EconomicsObservatory/courses/HEAD?labpath=3%2Fs3_workbook_Loops_APIs.ipynb)\n",
        "\n",
        "<a href=\"https://colab.research.google.com/github/EconomicsObservatory/courses/blob/main/3/s3_workbook_ECO_API.ipynb\" target=\"_blank\"><img src=\"https://colab.research.google.com/assets/colab-badge.svg\" alt=\"Open In Colab\"/></a>"
      ]
    },
    {
      "cell_type": "markdown",
      "metadata": {
        "id": "b77eKBKFAf5W"
      },
      "source": [
        "**Richard Davies** Data Science Masterclass - 2024\n",
        "\n",
        "In this notebook we download a chart that we like and want to recreate, then looping over a list of countries to create multiple copies using different API-linked datasets."
      ]
    },
    {
      "cell_type": "markdown",
      "metadata": {
        "id": "ig9x6uozUulP"
      },
      "source": [
        "<br>\n",
        "<br>\n",
        "\n",
        "### Preparatory Steps\n",
        "\n",
        "There are a few add-ons to Python that we import to our session at the start. Run this to prepare your session for what follows."
      ]
    },
    {
      "cell_type": "code",
      "execution_count": null,
      "metadata": {
        "id": "mYjv4xnjssaP",
        "outputId": "4e7746f0-2fb9-4ea6-9479-d142ac958a51",
        "colab": {
          "base_uri": "https://localhost:8080/"
        }
      },
      "outputs": [
        {
          "output_type": "stream",
          "name": "stdout",
          "text": [
            "Requirement already satisfied: altair in /usr/local/lib/python3.10/dist-packages (4.2.2)\n",
            "Requirement already satisfied: entrypoints in /usr/local/lib/python3.10/dist-packages (from altair) (0.4)\n",
            "Requirement already satisfied: jinja2 in /usr/local/lib/python3.10/dist-packages (from altair) (3.1.4)\n",
            "Requirement already satisfied: jsonschema>=3.0 in /usr/local/lib/python3.10/dist-packages (from altair) (4.19.2)\n",
            "Requirement already satisfied: numpy in /usr/local/lib/python3.10/dist-packages (from altair) (1.25.2)\n",
            "Requirement already satisfied: pandas>=0.18 in /usr/local/lib/python3.10/dist-packages (from altair) (2.0.3)\n",
            "Requirement already satisfied: toolz in /usr/local/lib/python3.10/dist-packages (from altair) (0.12.1)\n",
            "Requirement already satisfied: attrs>=22.2.0 in /usr/local/lib/python3.10/dist-packages (from jsonschema>=3.0->altair) (23.2.0)\n",
            "Requirement already satisfied: jsonschema-specifications>=2023.03.6 in /usr/local/lib/python3.10/dist-packages (from jsonschema>=3.0->altair) (2023.12.1)\n",
            "Requirement already satisfied: referencing>=0.28.4 in /usr/local/lib/python3.10/dist-packages (from jsonschema>=3.0->altair) (0.35.1)\n",
            "Requirement already satisfied: rpds-py>=0.7.1 in /usr/local/lib/python3.10/dist-packages (from jsonschema>=3.0->altair) (0.18.1)\n",
            "Requirement already satisfied: python-dateutil>=2.8.2 in /usr/local/lib/python3.10/dist-packages (from pandas>=0.18->altair) (2.8.2)\n",
            "Requirement already satisfied: pytz>=2020.1 in /usr/local/lib/python3.10/dist-packages (from pandas>=0.18->altair) (2023.4)\n",
            "Requirement already satisfied: tzdata>=2022.1 in /usr/local/lib/python3.10/dist-packages (from pandas>=0.18->altair) (2024.1)\n",
            "Requirement already satisfied: MarkupSafe>=2.0 in /usr/local/lib/python3.10/dist-packages (from jinja2->altair) (2.1.5)\n",
            "Requirement already satisfied: six>=1.5 in /usr/local/lib/python3.10/dist-packages (from python-dateutil>=2.8.2->pandas>=0.18->altair) (1.16.0)\n"
          ]
        }
      ],
      "source": [
        "# 1. PREPARATORY STEPS - ACCESS PACKAGES WE NEED\n",
        "\n",
        "## // The \"requests\" package, for opening web sites and retrieving information:\n",
        "import requests\n",
        "\n",
        "## // The \"json\" package, for helping us: make JSON easier to read, converting to JSON from Python data (dictionaries).\n",
        "import json\n",
        "\n",
        "## /// Altair. This is a way of visualiting Vega charts in Colab\n",
        "%pip install altair   # Some packagaes need to be installed to the virtual machine before we can import them into our notebook. We can do this with '!pip install'\n",
        "import altair as alt"
      ]
    },
    {
      "cell_type": "markdown",
      "metadata": {
        "id": "kjOaFDGMtAIW"
      },
      "source": [
        "<br>\n",
        "<br>\n",
        "\n",
        "### Access a chart specification that I like\n",
        "\n",
        "Suppose that you see a chart you like on the library page of our website. https://rdeconomist.github.io/library.\n",
        "\n",
        "Here is a spec that we might want to use:\n",
        "https://github.com/RDeconomist/RDeconomist.github.io/blob/main/charts/library/chartLine0.json.\n",
        "\n",
        "Lets first get that onto our machines, and edit it.\n"
      ]
    },
    {
      "cell_type": "code",
      "execution_count": null,
      "metadata": {
        "id": "QsxXxWrL_0vJ",
        "outputId": "de031d4c-942b-4032-dffd-c36bd06700b5"
      },
      "outputs": [
        {
          "name": "stdout",
          "output_type": "stream",
          "text": [
            "{'$schema': 'https://vega.github.io/schema/vega-lite/v5.json', 'data': {'url': 'https://raw.githubusercontent.com/RDeconomist/RDeconomist.github.io/main/charts/library/ukProdOutPerWork.csv'}, 'title': {'text': 'UK Productivity 1960-2023'}, 'width': 300, 'height': 300, 'mark': {'type': 'line', 'color': 'red'}, 'encoding': {'x': {'field': 'Year', 'type': 'temporal'}, 'y': {'field': 'outputPerWorker', 'type': 'quantitative'}}}\n",
            "\n",
            "\n",
            "{\n",
            "    \"$schema\": \"https://vega.github.io/schema/vega-lite/v5.json\",\n",
            "    \"data\": {\n",
            "        \"url\": \"https://raw.githubusercontent.com/RDeconomist/RDeconomist.github.io/main/charts/library/ukProdOutPerWork.csv\"\n",
            "    },\n",
            "    \"title\": {\n",
            "        \"text\": \"UK Productivity 1960-2023\"\n",
            "    },\n",
            "    \"width\": 300,\n",
            "    \"height\": 300,\n",
            "    \"mark\": {\n",
            "        \"type\": \"line\",\n",
            "        \"color\": \"red\"\n",
            "    },\n",
            "    \"encoding\": {\n",
            "        \"x\": {\n",
            "            \"field\": \"Year\",\n",
            "            \"type\": \"temporal\"\n",
            "        },\n",
            "        \"y\": {\n",
            "            \"field\": \"outputPerWorker\",\n",
            "            \"type\": \"quantitative\"\n",
            "        }\n",
            "    }\n",
            "}\n"
          ]
        }
      ],
      "source": [
        "# 2.  ACCESSING AND EXAMINING MY CHART SPEC:\n",
        "\n",
        "## // Define my target URL (note that this is the RAW file)\n",
        "url = \"https://raw.githubusercontent.com/RDeconomist/RDeconomist.github.io/main/charts/library/chartLine0.json\"\n",
        "\n",
        "## // Get this\n",
        "chartSpec = requests.get(url).json()\n",
        "\n",
        "## // Now let's print it out, two different ways:\n",
        "\n",
        "## // First, just the data (no formatting)\n",
        "print(chartSpec)\n",
        "print('\\n')\n",
        "\n",
        "## // Convert to json [using json.dumps()] then print with formatting\n",
        "print(json.dumps(chartSpec, indent=4))"
      ]
    },
    {
      "cell_type": "markdown",
      "metadata": {
        "id": "bMblrItpwOSk"
      },
      "source": [
        "<br>\n",
        "<br>\n",
        "\n",
        "### Editing the specification of a chart. Python Dictionaries\n",
        "\n",
        "Next, note that I can edit parts of a chart spec in Python. Following the steps that we have taken about, the variable we have is a Python \"dictionary\". Once dictionaries have been created we can edit them as we please. You can read about Python dictionaries [here](https://www.w3schools.com/python/python_dictionaries.asp)."
      ]
    },
    {
      "cell_type": "code",
      "execution_count": null,
      "metadata": {
        "id": "uDOxs-TVuBfe",
        "outputId": "8f3d94b1-1219-4936-a19a-ed5c39e1409b"
      },
      "outputs": [
        {
          "data": {
            "text/plain": [
              "{'$schema': 'https://vega.github.io/schema/vega-lite/v5.json',\n",
              " 'data': {'url': 'https://raw.githubusercontent.com/RDeconomist/RDeconomist.github.io/main/charts/library/ukProdOutPerWork.csv'},\n",
              " 'title': {'text': 'UK Productivity 1960-2023'},\n",
              " 'width': 300,\n",
              " 'height': 300,\n",
              " 'mark': {'type': 'line', 'color': 'red'},\n",
              " 'encoding': {'x': {'field': 'Year', 'type': 'temporal'},\n",
              "  'y': {'field': 'outputPerWorker', 'type': 'quantitative'}}}"
            ]
          },
          "execution_count": 7,
          "metadata": {},
          "output_type": "execute_result"
        }
      ],
      "source": [
        "chartSpec"
      ]
    },
    {
      "cell_type": "code",
      "execution_count": null,
      "metadata": {
        "id": "rLRzeA6nuBfe",
        "outputId": "c351bc15-2d45-4f19-db50-d824180d45a6"
      },
      "outputs": [
        {
          "ename": "KeyError",
          "evalue": "'url'",
          "output_type": "error",
          "traceback": [
            "\u001b[0;31m---------------------------------------------------------------------------\u001b[0m",
            "\u001b[0;31mKeyError\u001b[0m                                  Traceback (most recent call last)",
            "Cell \u001b[0;32mIn[13], line 1\u001b[0m\n\u001b[0;32m----> 1\u001b[0m \u001b[43mchartSpec\u001b[49m\u001b[43m[\u001b[49m\u001b[38;5;124;43m'\u001b[39;49m\u001b[38;5;124;43murl\u001b[39;49m\u001b[38;5;124;43m'\u001b[39;49m\u001b[43m]\u001b[49m\n",
            "\u001b[0;31mKeyError\u001b[0m: 'url'"
          ]
        }
      ],
      "source": [
        "chartSpec['url']"
      ]
    },
    {
      "cell_type": "code",
      "execution_count": null,
      "metadata": {
        "id": "7ISvu1kHuBff"
      },
      "outputs": [],
      "source": [
        "chartSpec['description'] = 'This is a line chart showing UK productivity'"
      ]
    },
    {
      "cell_type": "code",
      "execution_count": null,
      "metadata": {
        "id": "giXrGhDCuBff",
        "outputId": "7d6eb971-091a-4291-ddf4-26ed90c4fab8"
      },
      "outputs": [
        {
          "data": {
            "text/plain": [
              "{'$schema': 'https://vega.github.io/schema/vega-lite/v5.json',\n",
              " 'data': {'url': 'https://raw.githubusercontent.com/RDeconomist/RDeconomist.github.io/main/charts/library/ukProdOutPerWork.csv'},\n",
              " 'title': {'text': 'UK Productivity 1960-2023'},\n",
              " 'width': 300,\n",
              " 'height': 300,\n",
              " 'mark': {'type': 'line', 'color': 'red'},\n",
              " 'encoding': {'x': {'field': 'Year', 'type': 'temporal'},\n",
              "  'y': {'field': 'outputPerWorker', 'type': 'quantitative'}},\n",
              " 'description': 'This is a line chart showing UK productivity'}"
            ]
          },
          "execution_count": 25,
          "metadata": {},
          "output_type": "execute_result"
        }
      ],
      "source": [
        "chartSpec"
      ]
    },
    {
      "cell_type": "code",
      "execution_count": null,
      "metadata": {
        "id": "VNM6lce5uBff",
        "outputId": "67680c2b-1fe7-43a1-ddab-8e25fd29484c"
      },
      "outputs": [
        {
          "data": {
            "text/plain": [
              "{'$schema': 'https://vega.github.io/schema/vega-lite/v5.json',\n",
              " 'data': {'url': 'https://raw.githubusercontent.com/RDeconomist/RDeconomist.github.io/main/charts/library/ukProdOutPerWork.csv'},\n",
              " 'title': {'text': 'UK Productivity 1960-2023'},\n",
              " 'width': 300,\n",
              " 'height': 300,\n",
              " 'mark': {'type': 'line', 'color': 'red'},\n",
              " 'encoding': {'x': {'field': 'Year', 'type': 'temporal'},\n",
              "  'y': {'field': 'outputPerWorker', 'type': 'quantitative'}}}"
            ]
          },
          "execution_count": 19,
          "metadata": {},
          "output_type": "execute_result"
        }
      ],
      "source": [
        "chartSpec"
      ]
    },
    {
      "cell_type": "code",
      "execution_count": null,
      "metadata": {
        "id": "3dfadyUMvN9r",
        "outputId": "23e29623-b8a8-4662-f48c-7328a10124c4"
      },
      "outputs": [
        {
          "name": "stdout",
          "output_type": "stream",
          "text": [
            "300\n",
            "UK Productivity 1960-2023\n",
            "{\n",
            "  \"$schema\": \"https://vega.github.io/schema/vega-lite/v5.json\",\n",
            "  \"data\": {\n",
            "    \"url\": \"https://raw.githubusercontent.com/RDeconomist/RDeconomist.github.io/main/charts/library/ukProdOutPerWork.csv\"\n",
            "  },\n",
            "  \"title\": {\n",
            "    \"text\": \"I like Data\"\n",
            "  },\n",
            "  \"width\": 1000,\n",
            "  \"height\": 300,\n",
            "  \"mark\": {\n",
            "    \"type\": \"line\",\n",
            "    \"color\": \"red\"\n",
            "  },\n",
            "  \"encoding\": {\n",
            "    \"x\": {\n",
            "      \"field\": \"Year\",\n",
            "      \"type\": \"temporal\"\n",
            "    },\n",
            "    \"y\": {\n",
            "      \"field\": \"outputPerWorker\",\n",
            "      \"type\": \"quantitative\"\n",
            "    }\n",
            "  },\n",
            "  \"description\": \"This is a line chart showing UK productivity\"\n",
            "}\n"
          ]
        }
      ],
      "source": [
        "## Print the width of the chart:\n",
        "print(chartSpec[\"width\"])\n",
        "\n",
        "## Change the width of the chart to 500\n",
        "chartSpec[\"width\"] = 1000\n",
        "\n",
        "## Print the title of the chart:\n",
        "print(chartSpec[\"title\"][\"text\"])\n",
        "\n",
        "## Change the title of the chart:\n",
        "chartSpec[\"title\"][\"text\"] = \"I like Data\"\n",
        "\n",
        "## Print out our new Spec:\n",
        "print(json.dumps(chartSpec, indent=2))"
      ]
    },
    {
      "cell_type": "markdown",
      "metadata": {
        "id": "_Xg3y_PszFZL"
      },
      "source": [
        "<br>\n",
        "<br>\n",
        "\n",
        "### Loop + Dictionary\n",
        "\n",
        "Now we can combine a loop and a dictionary to make multiple different, but similar, dictionaries.\n",
        "\n",
        "*(To see why this is useful, recall from before that ALL we need to make a different chart is a different data source, and that this is just a value in a JSON object.)*\n"
      ]
    },
    {
      "cell_type": "code",
      "execution_count": null,
      "metadata": {
        "id": "NTUHzxYtuBff",
        "outputId": "a7206851-2e37-4135-bdec-e37fa8b48b65"
      },
      "outputs": [
        {
          "name": "stdout",
          "output_type": "stream",
          "text": [
            "['Westminster', 'Camden', 'Islington', 203, 103141, [23, 201, 'kdsc']]\n",
            "\n",
            "\n"
          ]
        }
      ],
      "source": [
        "## create a list of boroughs\n",
        "boroughs = [\"Westminster\", \"Camden\", \"Islington\", 203, 103141, [23, 201, \"kdsc\"]]\n",
        "print(boroughs)\n",
        "print('\\n')"
      ]
    },
    {
      "cell_type": "code",
      "execution_count": null,
      "metadata": {
        "id": "uTDaoKpJuBfg",
        "outputId": "baa145e6-f3e8-441e-cc5c-a0eef9c5e67f"
      },
      "outputs": [
        {
          "name": "stdout",
          "output_type": "stream",
          "text": [
            "{'borough': 'X', 'city': 'London', 'temperature': 5, 'country': 'England'}\n",
            "\n",
            "\n"
          ]
        }
      ],
      "source": [
        "## Create an example dictionary, using the dict() constructor:\n",
        "x = dict(borough=\"X\", city = \"London\", temperature=5, country = \"England\")\n",
        "print(x)\n",
        "print('\\n')"
      ]
    },
    {
      "cell_type": "code",
      "execution_count": null,
      "metadata": {
        "id": "3O9TmoIquBfg",
        "outputId": "ff271fb2-b83f-4af2-ca42-290380b20218"
      },
      "outputs": [
        {
          "name": "stdout",
          "output_type": "stream",
          "text": [
            "Westminster\n",
            "Camden\n",
            "Islington\n"
          ]
        }
      ],
      "source": [
        "for xyz in boroughs:\n",
        "    print(xyz)"
      ]
    },
    {
      "cell_type": "code",
      "execution_count": null,
      "metadata": {
        "id": "CHEyHq8vVbBt",
        "outputId": "de24d49e-5638-4a1c-8358-35d09301bdea"
      },
      "outputs": [
        {
          "name": "stdout",
          "output_type": "stream",
          "text": [
            "['Westminster', 'Camden', 'Islington']\n",
            "\n",
            "\n",
            "{'borough': 'X', 'city': 'London', 'temperature': 5, 'country': 'England'}\n",
            "\n",
            "\n",
            "Westminster\n",
            "Camden\n",
            "Islington\n",
            "Westminster\n",
            "11\n",
            "Camden\n",
            "6\n",
            "Islington\n",
            "9\n",
            "{'borough': 'Westminster', 'city': 'London', 'temperature': 5, 'country': 'England'}\n",
            "{'borough': 'Camden', 'city': 'London', 'temperature': 5, 'country': 'England'}\n",
            "{'borough': 'Islington', 'city': 'London', 'temperature': 5, 'country': 'England'}\n"
          ]
        }
      ],
      "source": [
        "## create a list of boroughs\n",
        "boroughs = [\"Westminster\", \"Camden\", \"Islington\"]\n",
        "print(boroughs)\n",
        "print('\\n')\n",
        "\n",
        "## Create an example dictionary, using the dict() constructor:\n",
        "x = dict(borough=\"X\", city = \"London\", temperature = 5, country = \"England\")\n",
        "print(x)\n",
        "print('\\n')\n",
        "\n",
        "\n",
        "## Now loop over the counties, printing each one.\n",
        "for i in boroughs:\n",
        "  print(i)\n",
        "\n",
        "\n",
        "## Now loop over the counties, printing each one, and calculating their length, and printing this out\n",
        "for i in boroughs:\n",
        "  print(i)\n",
        "  y = len(i)\n",
        "  print(y)\n",
        "\n",
        "## Now loop over the counties, printing each one.\n",
        "for i in boroughs:\n",
        "  x['borough'] = i\n",
        "  print(x)\n",
        "\n"
      ]
    },
    {
      "cell_type": "markdown",
      "metadata": {
        "id": "J4h7JCJm4Gmr"
      },
      "source": [
        "<br>\n",
        "<br>\n",
        "\n",
        "### API + Loop + Dictionary\n",
        "\n",
        "Combining three of the tools we have learned. In the code below there are two main steps.\n",
        "1. Prepare for the loop, by creatings a kind of \"shell\" dictionary (a simi complete chart spec) that needs some more information (the data source).\n",
        "2. Loop over the list of countries, creating an API link, inserting this into a chart spec, and visualise this."
      ]
    },
    {
      "cell_type": "code",
      "execution_count": null,
      "metadata": {
        "id": "cYmgZyTN4AO2",
        "outputId": "cfb1ed49-328b-490d-8749-d45a2c471a8b"
      },
      "outputs": [
        {
          "name": "stdout",
          "output_type": "stream",
          "text": [
            "{\n",
            "  \"$schema\": \"https://vega.github.io/schema/vega-lite/v5.json\",\n",
            "  \"data\": {\n",
            "    \"url\": \"XYZ\"\n",
            "  },\n",
            "  \"title\": {\n",
            "    \"text\": \"Unemployment\"\n",
            "  },\n",
            "  \"width\": 300,\n",
            "  \"height\": 300,\n",
            "  \"mark\": {\n",
            "    \"type\": \"line\",\n",
            "    \"color\": \"red\"\n",
            "  },\n",
            "  \"encoding\": {\n",
            "    \"x\": {\n",
            "      \"field\": \"date\",\n",
            "      \"type\": \"temporal\"\n",
            "    },\n",
            "    \"y\": {\n",
            "      \"field\": \"value\",\n",
            "      \"type\": \"quantitative\"\n",
            "    }\n",
            "  }\n",
            "}\n"
          ]
        }
      ],
      "source": [
        "### PREPARING OUR BASE SPEC\n",
        "\n",
        "# // Get out base spec (as above)\n",
        "url = \"https://raw.githubusercontent.com/RDeconomist/RDeconomist.github.io/main/charts/library/chartLine0.json\"\n",
        "base_spec = requests.get(url).json()\n",
        "\n",
        "# // Now since all of our work is going to be on unemployment, we need to change the base spec:\n",
        "base_spec['title']['text'] = \"Unemployment\"\n",
        "base_spec['encoding']['x']['field'] = 'date'\n",
        "base_spec['encoding']['y']['field'] = 'value'\n",
        "base_spec['data']['url'] = 'XYZ'\n",
        "\n",
        "# // Print out our new Spec:\n",
        "print(json.dumps(base_spec, indent=2))\n"
      ]
    },
    {
      "cell_type": "markdown",
      "metadata": {
        "id": "wiEgU1Y5AT2r"
      },
      "source": [
        "With that preparation in place we can run our loop:"
      ]
    },
    {
      "cell_type": "code",
      "execution_count": null,
      "metadata": {
        "id": "XLwdTUVouBfg",
        "outputId": "c81da434-a061-4d18-a71f-f6ee720f404e"
      },
      "outputs": [
        {
          "name": "stdout",
          "output_type": "stream",
          "text": [
            "https://api.economicsobservatory.com/gbr/unem?vega\n"
          ]
        }
      ],
      "source": [
        "# // Define our base url with the {} placeholder for the country code.\n",
        "base_api = 'https://api.economicsobservatory.com/{}/unem?vega'\n",
        "\n",
        "print(base_api.format('gbr'))\n",
        "\n"
      ]
    },
    {
      "cell_type": "code",
      "execution_count": null,
      "metadata": {
        "id": "XsJrbIphuBfg"
      },
      "outputs": [],
      "source": [
        "()"
      ]
    },
    {
      "cell_type": "code",
      "execution_count": null,
      "metadata": {
        "id": "FwRBmOcbAS2r",
        "outputId": "81cde393-6436-4f82-f52f-d917bf265ea9"
      },
      "outputs": [
        {
          "data": {
            "text/html": [
              "\n",
              "<style>\n",
              "  #altair-viz-683eb4e9c86741b98d45bace9493e235.vega-embed {\n",
              "    width: 100%;\n",
              "    display: flex;\n",
              "  }\n",
              "\n",
              "  #altair-viz-683eb4e9c86741b98d45bace9493e235.vega-embed details,\n",
              "  #altair-viz-683eb4e9c86741b98d45bace9493e235.vega-embed details summary {\n",
              "    position: relative;\n",
              "  }\n",
              "</style>\n",
              "<div id=\"altair-viz-683eb4e9c86741b98d45bace9493e235\"></div>\n",
              "<script type=\"text/javascript\">\n",
              "  var VEGA_DEBUG = (typeof VEGA_DEBUG == \"undefined\") ? {} : VEGA_DEBUG;\n",
              "  (function(spec, embedOpt){\n",
              "    let outputDiv = document.currentScript.previousElementSibling;\n",
              "    if (outputDiv.id !== \"altair-viz-683eb4e9c86741b98d45bace9493e235\") {\n",
              "      outputDiv = document.getElementById(\"altair-viz-683eb4e9c86741b98d45bace9493e235\");\n",
              "    }\n",
              "    const paths = {\n",
              "      \"vega\": \"https://cdn.jsdelivr.net/npm/vega@5?noext\",\n",
              "      \"vega-lib\": \"https://cdn.jsdelivr.net/npm/vega-lib?noext\",\n",
              "      \"vega-lite\": \"https://cdn.jsdelivr.net/npm/vega-lite@5.16.3?noext\",\n",
              "      \"vega-embed\": \"https://cdn.jsdelivr.net/npm/vega-embed@6?noext\",\n",
              "    };\n",
              "\n",
              "    function maybeLoadScript(lib, version) {\n",
              "      var key = `${lib.replace(\"-\", \"\")}_version`;\n",
              "      return (VEGA_DEBUG[key] == version) ?\n",
              "        Promise.resolve(paths[lib]) :\n",
              "        new Promise(function(resolve, reject) {\n",
              "          var s = document.createElement('script');\n",
              "          document.getElementsByTagName(\"head\")[0].appendChild(s);\n",
              "          s.async = true;\n",
              "          s.onload = () => {\n",
              "            VEGA_DEBUG[key] = version;\n",
              "            return resolve(paths[lib]);\n",
              "          };\n",
              "          s.onerror = () => reject(`Error loading script: ${paths[lib]}`);\n",
              "          s.src = paths[lib];\n",
              "        });\n",
              "    }\n",
              "\n",
              "    function showError(err) {\n",
              "      outputDiv.innerHTML = `<div class=\"error\" style=\"color:red;\">${err}</div>`;\n",
              "      throw err;\n",
              "    }\n",
              "\n",
              "    function displayChart(vegaEmbed) {\n",
              "      vegaEmbed(outputDiv, spec, embedOpt)\n",
              "        .catch(err => showError(`Javascript Error: ${err.message}<br>This usually means there's a typo in your chart specification. See the javascript console for the full traceback.`));\n",
              "    }\n",
              "\n",
              "    if(typeof define === \"function\" && define.amd) {\n",
              "      requirejs.config({paths});\n",
              "      require([\"vega-embed\"], displayChart, err => showError(`Error loading script: ${err.message}`));\n",
              "    } else {\n",
              "      maybeLoadScript(\"vega\", \"5\")\n",
              "        .then(() => maybeLoadScript(\"vega-lite\", \"5.16.3\"))\n",
              "        .then(() => maybeLoadScript(\"vega-embed\", \"6\"))\n",
              "        .catch(showError)\n",
              "        .then(() => displayChart(vegaEmbed));\n",
              "    }\n",
              "  })({\"config\": {\"view\": {\"continuousWidth\": 300, \"continuousHeight\": 300}}, \"data\": {\"url\": \"https://api.economicsobservatory.com/gbr/unem?vega\"}, \"mark\": {\"type\": \"line\", \"color\": \"red\"}, \"encoding\": {\"x\": {\"field\": \"date\", \"type\": \"temporal\"}, \"y\": {\"field\": \"value\", \"type\": \"quantitative\"}}, \"height\": 300, \"title\": {\"text\": \"Unemployment\", \"subtitle\": \"gbr\"}, \"width\": 300, \"$schema\": \"https://vega.github.io/schema/vega-lite/v5.json\"}, {\"mode\": \"vega-lite\"});\n",
              "</script>"
            ],
            "text/plain": [
              "alt.Chart(...)"
            ]
          },
          "metadata": {},
          "output_type": "display_data"
        },
        {
          "data": {
            "text/html": [
              "\n",
              "<style>\n",
              "  #altair-viz-ad25ca4e5bc34f5e9fa1741262b32d48.vega-embed {\n",
              "    width: 100%;\n",
              "    display: flex;\n",
              "  }\n",
              "\n",
              "  #altair-viz-ad25ca4e5bc34f5e9fa1741262b32d48.vega-embed details,\n",
              "  #altair-viz-ad25ca4e5bc34f5e9fa1741262b32d48.vega-embed details summary {\n",
              "    position: relative;\n",
              "  }\n",
              "</style>\n",
              "<div id=\"altair-viz-ad25ca4e5bc34f5e9fa1741262b32d48\"></div>\n",
              "<script type=\"text/javascript\">\n",
              "  var VEGA_DEBUG = (typeof VEGA_DEBUG == \"undefined\") ? {} : VEGA_DEBUG;\n",
              "  (function(spec, embedOpt){\n",
              "    let outputDiv = document.currentScript.previousElementSibling;\n",
              "    if (outputDiv.id !== \"altair-viz-ad25ca4e5bc34f5e9fa1741262b32d48\") {\n",
              "      outputDiv = document.getElementById(\"altair-viz-ad25ca4e5bc34f5e9fa1741262b32d48\");\n",
              "    }\n",
              "    const paths = {\n",
              "      \"vega\": \"https://cdn.jsdelivr.net/npm/vega@5?noext\",\n",
              "      \"vega-lib\": \"https://cdn.jsdelivr.net/npm/vega-lib?noext\",\n",
              "      \"vega-lite\": \"https://cdn.jsdelivr.net/npm/vega-lite@5.16.3?noext\",\n",
              "      \"vega-embed\": \"https://cdn.jsdelivr.net/npm/vega-embed@6?noext\",\n",
              "    };\n",
              "\n",
              "    function maybeLoadScript(lib, version) {\n",
              "      var key = `${lib.replace(\"-\", \"\")}_version`;\n",
              "      return (VEGA_DEBUG[key] == version) ?\n",
              "        Promise.resolve(paths[lib]) :\n",
              "        new Promise(function(resolve, reject) {\n",
              "          var s = document.createElement('script');\n",
              "          document.getElementsByTagName(\"head\")[0].appendChild(s);\n",
              "          s.async = true;\n",
              "          s.onload = () => {\n",
              "            VEGA_DEBUG[key] = version;\n",
              "            return resolve(paths[lib]);\n",
              "          };\n",
              "          s.onerror = () => reject(`Error loading script: ${paths[lib]}`);\n",
              "          s.src = paths[lib];\n",
              "        });\n",
              "    }\n",
              "\n",
              "    function showError(err) {\n",
              "      outputDiv.innerHTML = `<div class=\"error\" style=\"color:red;\">${err}</div>`;\n",
              "      throw err;\n",
              "    }\n",
              "\n",
              "    function displayChart(vegaEmbed) {\n",
              "      vegaEmbed(outputDiv, spec, embedOpt)\n",
              "        .catch(err => showError(`Javascript Error: ${err.message}<br>This usually means there's a typo in your chart specification. See the javascript console for the full traceback.`));\n",
              "    }\n",
              "\n",
              "    if(typeof define === \"function\" && define.amd) {\n",
              "      requirejs.config({paths});\n",
              "      require([\"vega-embed\"], displayChart, err => showError(`Error loading script: ${err.message}`));\n",
              "    } else {\n",
              "      maybeLoadScript(\"vega\", \"5\")\n",
              "        .then(() => maybeLoadScript(\"vega-lite\", \"5.16.3\"))\n",
              "        .then(() => maybeLoadScript(\"vega-embed\", \"6\"))\n",
              "        .catch(showError)\n",
              "        .then(() => displayChart(vegaEmbed));\n",
              "    }\n",
              "  })({\"config\": {\"view\": {\"continuousWidth\": 300, \"continuousHeight\": 300}}, \"data\": {\"url\": \"https://api.economicsobservatory.com/usa/unem?vega\"}, \"mark\": {\"type\": \"line\", \"color\": \"red\"}, \"encoding\": {\"x\": {\"field\": \"date\", \"type\": \"temporal\"}, \"y\": {\"field\": \"value\", \"type\": \"quantitative\"}}, \"height\": 300, \"title\": {\"text\": \"Unemployment\", \"subtitle\": \"usa\"}, \"width\": 300, \"$schema\": \"https://vega.github.io/schema/vega-lite/v5.json\"}, {\"mode\": \"vega-lite\"});\n",
              "</script>"
            ],
            "text/plain": [
              "alt.Chart(...)"
            ]
          },
          "metadata": {},
          "output_type": "display_data"
        },
        {
          "data": {
            "text/html": [
              "\n",
              "<style>\n",
              "  #altair-viz-cdc13970306849eaaa14805c6619f5cd.vega-embed {\n",
              "    width: 100%;\n",
              "    display: flex;\n",
              "  }\n",
              "\n",
              "  #altair-viz-cdc13970306849eaaa14805c6619f5cd.vega-embed details,\n",
              "  #altair-viz-cdc13970306849eaaa14805c6619f5cd.vega-embed details summary {\n",
              "    position: relative;\n",
              "  }\n",
              "</style>\n",
              "<div id=\"altair-viz-cdc13970306849eaaa14805c6619f5cd\"></div>\n",
              "<script type=\"text/javascript\">\n",
              "  var VEGA_DEBUG = (typeof VEGA_DEBUG == \"undefined\") ? {} : VEGA_DEBUG;\n",
              "  (function(spec, embedOpt){\n",
              "    let outputDiv = document.currentScript.previousElementSibling;\n",
              "    if (outputDiv.id !== \"altair-viz-cdc13970306849eaaa14805c6619f5cd\") {\n",
              "      outputDiv = document.getElementById(\"altair-viz-cdc13970306849eaaa14805c6619f5cd\");\n",
              "    }\n",
              "    const paths = {\n",
              "      \"vega\": \"https://cdn.jsdelivr.net/npm/vega@5?noext\",\n",
              "      \"vega-lib\": \"https://cdn.jsdelivr.net/npm/vega-lib?noext\",\n",
              "      \"vega-lite\": \"https://cdn.jsdelivr.net/npm/vega-lite@5.16.3?noext\",\n",
              "      \"vega-embed\": \"https://cdn.jsdelivr.net/npm/vega-embed@6?noext\",\n",
              "    };\n",
              "\n",
              "    function maybeLoadScript(lib, version) {\n",
              "      var key = `${lib.replace(\"-\", \"\")}_version`;\n",
              "      return (VEGA_DEBUG[key] == version) ?\n",
              "        Promise.resolve(paths[lib]) :\n",
              "        new Promise(function(resolve, reject) {\n",
              "          var s = document.createElement('script');\n",
              "          document.getElementsByTagName(\"head\")[0].appendChild(s);\n",
              "          s.async = true;\n",
              "          s.onload = () => {\n",
              "            VEGA_DEBUG[key] = version;\n",
              "            return resolve(paths[lib]);\n",
              "          };\n",
              "          s.onerror = () => reject(`Error loading script: ${paths[lib]}`);\n",
              "          s.src = paths[lib];\n",
              "        });\n",
              "    }\n",
              "\n",
              "    function showError(err) {\n",
              "      outputDiv.innerHTML = `<div class=\"error\" style=\"color:red;\">${err}</div>`;\n",
              "      throw err;\n",
              "    }\n",
              "\n",
              "    function displayChart(vegaEmbed) {\n",
              "      vegaEmbed(outputDiv, spec, embedOpt)\n",
              "        .catch(err => showError(`Javascript Error: ${err.message}<br>This usually means there's a typo in your chart specification. See the javascript console for the full traceback.`));\n",
              "    }\n",
              "\n",
              "    if(typeof define === \"function\" && define.amd) {\n",
              "      requirejs.config({paths});\n",
              "      require([\"vega-embed\"], displayChart, err => showError(`Error loading script: ${err.message}`));\n",
              "    } else {\n",
              "      maybeLoadScript(\"vega\", \"5\")\n",
              "        .then(() => maybeLoadScript(\"vega-lite\", \"5.16.3\"))\n",
              "        .then(() => maybeLoadScript(\"vega-embed\", \"6\"))\n",
              "        .catch(showError)\n",
              "        .then(() => displayChart(vegaEmbed));\n",
              "    }\n",
              "  })({\"config\": {\"view\": {\"continuousWidth\": 300, \"continuousHeight\": 300}}, \"data\": {\"url\": \"https://api.economicsobservatory.com/can/unem?vega\"}, \"mark\": {\"type\": \"line\", \"color\": \"red\"}, \"encoding\": {\"x\": {\"field\": \"date\", \"type\": \"temporal\"}, \"y\": {\"field\": \"value\", \"type\": \"quantitative\"}}, \"height\": 300, \"title\": {\"text\": \"Unemployment\", \"subtitle\": \"can\"}, \"width\": 300, \"$schema\": \"https://vega.github.io/schema/vega-lite/v5.json\"}, {\"mode\": \"vega-lite\"});\n",
              "</script>"
            ],
            "text/plain": [
              "alt.Chart(...)"
            ]
          },
          "metadata": {},
          "output_type": "display_data"
        },
        {
          "data": {
            "text/html": [
              "\n",
              "<style>\n",
              "  #altair-viz-e2aff17a48cd43d7becbd2657e6a0029.vega-embed {\n",
              "    width: 100%;\n",
              "    display: flex;\n",
              "  }\n",
              "\n",
              "  #altair-viz-e2aff17a48cd43d7becbd2657e6a0029.vega-embed details,\n",
              "  #altair-viz-e2aff17a48cd43d7becbd2657e6a0029.vega-embed details summary {\n",
              "    position: relative;\n",
              "  }\n",
              "</style>\n",
              "<div id=\"altair-viz-e2aff17a48cd43d7becbd2657e6a0029\"></div>\n",
              "<script type=\"text/javascript\">\n",
              "  var VEGA_DEBUG = (typeof VEGA_DEBUG == \"undefined\") ? {} : VEGA_DEBUG;\n",
              "  (function(spec, embedOpt){\n",
              "    let outputDiv = document.currentScript.previousElementSibling;\n",
              "    if (outputDiv.id !== \"altair-viz-e2aff17a48cd43d7becbd2657e6a0029\") {\n",
              "      outputDiv = document.getElementById(\"altair-viz-e2aff17a48cd43d7becbd2657e6a0029\");\n",
              "    }\n",
              "    const paths = {\n",
              "      \"vega\": \"https://cdn.jsdelivr.net/npm/vega@5?noext\",\n",
              "      \"vega-lib\": \"https://cdn.jsdelivr.net/npm/vega-lib?noext\",\n",
              "      \"vega-lite\": \"https://cdn.jsdelivr.net/npm/vega-lite@5.16.3?noext\",\n",
              "      \"vega-embed\": \"https://cdn.jsdelivr.net/npm/vega-embed@6?noext\",\n",
              "    };\n",
              "\n",
              "    function maybeLoadScript(lib, version) {\n",
              "      var key = `${lib.replace(\"-\", \"\")}_version`;\n",
              "      return (VEGA_DEBUG[key] == version) ?\n",
              "        Promise.resolve(paths[lib]) :\n",
              "        new Promise(function(resolve, reject) {\n",
              "          var s = document.createElement('script');\n",
              "          document.getElementsByTagName(\"head\")[0].appendChild(s);\n",
              "          s.async = true;\n",
              "          s.onload = () => {\n",
              "            VEGA_DEBUG[key] = version;\n",
              "            return resolve(paths[lib]);\n",
              "          };\n",
              "          s.onerror = () => reject(`Error loading script: ${paths[lib]}`);\n",
              "          s.src = paths[lib];\n",
              "        });\n",
              "    }\n",
              "\n",
              "    function showError(err) {\n",
              "      outputDiv.innerHTML = `<div class=\"error\" style=\"color:red;\">${err}</div>`;\n",
              "      throw err;\n",
              "    }\n",
              "\n",
              "    function displayChart(vegaEmbed) {\n",
              "      vegaEmbed(outputDiv, spec, embedOpt)\n",
              "        .catch(err => showError(`Javascript Error: ${err.message}<br>This usually means there's a typo in your chart specification. See the javascript console for the full traceback.`));\n",
              "    }\n",
              "\n",
              "    if(typeof define === \"function\" && define.amd) {\n",
              "      requirejs.config({paths});\n",
              "      require([\"vega-embed\"], displayChart, err => showError(`Error loading script: ${err.message}`));\n",
              "    } else {\n",
              "      maybeLoadScript(\"vega\", \"5\")\n",
              "        .then(() => maybeLoadScript(\"vega-lite\", \"5.16.3\"))\n",
              "        .then(() => maybeLoadScript(\"vega-embed\", \"6\"))\n",
              "        .catch(showError)\n",
              "        .then(() => displayChart(vegaEmbed));\n",
              "    }\n",
              "  })({\"config\": {\"view\": {\"continuousWidth\": 300, \"continuousHeight\": 300}}, \"data\": {\"url\": \"https://api.economicsobservatory.com/egy/unem?vega\"}, \"mark\": {\"type\": \"line\", \"color\": \"red\"}, \"encoding\": {\"x\": {\"field\": \"date\", \"type\": \"temporal\"}, \"y\": {\"field\": \"value\", \"type\": \"quantitative\"}}, \"height\": 300, \"title\": {\"text\": \"Unemployment\", \"subtitle\": \"egy\"}, \"width\": 300, \"$schema\": \"https://vega.github.io/schema/vega-lite/v5.json\"}, {\"mode\": \"vega-lite\"});\n",
              "</script>"
            ],
            "text/plain": [
              "alt.Chart(...)"
            ]
          },
          "metadata": {},
          "output_type": "display_data"
        }
      ],
      "source": [
        "### RUNNING OUR LOOP\n",
        "\n",
        "# // Define our base url with the {} placeholder for the country code.\n",
        "base_api = 'https://api.economicsobservatory.com/{}/unem?vega'\n",
        "\n",
        "# // Create a list of countries we want to get data for:\n",
        "countries = ['gbr', 'usa', 'can', 'egy']\n",
        "\n",
        "for i in countries:\n",
        "\n",
        "  ## Build the api that we want to use:\n",
        "  apiToUse = base_api.format(i)\n",
        "  # print(apiToUse)\n",
        "\n",
        "  ## Now build the chart spec:\n",
        "  base_spec['data']['url'] = apiToUse\n",
        "  base_spec['title']['subtitle'] = i\n",
        "\n",
        "  # /// Turn the spec into JSON\n",
        "  specJSON = json.dumps(base_spec)\n",
        "\n",
        "  # /// Turn the json into an Altair chart and display it:\n",
        "  new_chart = alt.Chart.from_json(specJSON)\n",
        "  new_chart.display()\n"
      ]
    },
    {
      "cell_type": "code",
      "execution_count": null,
      "metadata": {
        "id": "10avxOPPVbBt"
      },
      "outputs": [],
      "source": []
    }
  ],
  "metadata": {
    "colab": {
      "provenance": [],
      "include_colab_link": true
    },
    "kernelspec": {
      "display_name": "Python 3",
      "name": "python3"
    },
    "language_info": {
      "codemirror_mode": {
        "name": "ipython",
        "version": 3
      },
      "file_extension": ".py",
      "mimetype": "text/x-python",
      "name": "python",
      "nbconvert_exporter": "python",
      "pygments_lexer": "ipython3",
      "version": "3.11.0"
    }
  },
  "nbformat": 4,
  "nbformat_minor": 0
}