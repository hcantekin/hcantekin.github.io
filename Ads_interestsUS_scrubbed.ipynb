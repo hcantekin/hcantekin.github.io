{
  "nbformat_minor": 5,
  "nbformat": 4,
  "metadata": {
    "kernelspec": {
      "display_name": "Python 3 (ipykernel)",
      "language": "python",
      "name": "python3"
    },
    "language_info": {
      "codemirror_mode": {
        "name": "ipython",
        "version": 3
      },
      "file_extension": ".py",
      "mimetype": "text/x-python",
      "name": "python",
      "nbconvert_exporter": "python",
      "pygments_lexer": "ipython3",
      "version": "3.9.7"
    },
    "colab": {
      "provenance": [],
      "include_colab_link": true
    }
  },
  "cells": [
    {
      "cell_type": "markdown",
      "metadata": {
        "id": "view-in-github",
        "colab_type": "text"
      },
      "source": [
        "<a href=\"https://colab.research.google.com/github/hcantekin/hcantekin.github.io/blob/main/Ads_interestsUS_scrubbed.ipynb\" target=\"_parent\"><img src=\"https://colab.research.google.com/assets/colab-badge.svg\" alt=\"Open In Colab\"/></a>"
      ]
    },
    {
      "cell_type": "code",
      "metadata": {
        "execution": {
          "iopub.execute_input": "2022-12-27T14:51:36.679984Z",
          "iopub.status.busy": "2022-12-27T14:51:36.679712Z",
          "iopub.status.idle": "2022-12-27T14:52:04.842454Z",
          "shell.execute_reply": "2022-12-27T14:52:04.841999Z",
          "shell.execute_reply.started": "2022-12-27T14:51:36.679961Z"
        },
        "tags": [],
        "id": "17df3e85-a9c1-45a3-9cff-f4fa70708add",
        "outputId": "5bad278c-c486-4386-b4e8-940d19a15236"
      },
      "execution_count": null,
      "outputs": [
        {
          "output_type": "stream",
          "name": "stderr",
          "text": [
            "[NOTICE] 1 output(s) filtered out"
          ]
        }
      ],
      "source": [
        "from fbri.private.sql.query import execute \n",
        "database = \"fbri_prod_atp\"\n",
        "table = \"ad_targeting_dataset_siep_aug_2020\"\n",
        "api_table = \"ar_chive_api\"\n",
        " \n",
        "sql_request =  f\"SELECT age, gender, include, include_location FROM {database}.{table} WHERE include LIKE '%Democrat%' OR include LIKE '%Republican%'\"\n",
        "                  \n",
        "data = execute(sql_request)\n",
        "print(data)"
      ],
      "id": "17df3e85-a9c1-45a3-9cff-f4fa70708add"
    },
    {
      "cell_type": "code",
      "metadata": {
        "execution": {
          "iopub.execute_input": "2022-12-27T14:56:33.921583Z",
          "iopub.status.busy": "2022-12-27T14:56:33.921301Z",
          "iopub.status.idle": "2022-12-27T14:56:34.074036Z",
          "shell.execute_reply": "2022-12-27T14:56:34.073599Z",
          "shell.execute_reply.started": "2022-12-27T14:56:33.921558Z"
        },
        "tags": [],
        "id": "01927d81-d141-473e-a106-a041ec8c6cfe",
        "outputId": "041e2404-d362-4744-b3d8-c2ccd2616f2b"
      },
      "execution_count": null,
      "outputs": [
        {
          "output_type": "stream",
          "name": "stderr",
          "text": [
            "[NOTICE] 1 output(s) filtered out"
          ]
        }
      ],
      "source": [
        "df2 = data[data['include_location'].str.contains('United States')== True] \n",
        "print(df2)"
      ],
      "id": "01927d81-d141-473e-a106-a041ec8c6cfe"
    },
    {
      "cell_type": "code",
      "metadata": {
        "execution": {
          "iopub.execute_input": "2022-12-27T14:56:43.310116Z",
          "iopub.status.busy": "2022-12-27T14:56:43.309840Z",
          "iopub.status.idle": "2022-12-27T14:56:49.125408Z",
          "shell.execute_reply": "2022-12-27T14:56:49.124937Z",
          "shell.execute_reply.started": "2022-12-27T14:56:43.310092Z"
        },
        "tags": [],
        "id": "78e14f19-ee1c-4c9c-868d-ab9559b4a051"
      },
      "execution_count": null,
      "outputs": [],
      "source": [
        "df2.to_csv('MetaAdsDR2.csv')"
      ],
      "id": "78e14f19-ee1c-4c9c-868d-ab9559b4a051"
    },
    {
      "cell_type": "code",
      "metadata": {
        "id": "525759ac-107f-4313-a4e0-efcc1e17925c"
      },
      "execution_count": null,
      "outputs": [],
      "source": [],
      "id": "525759ac-107f-4313-a4e0-efcc1e17925c"
    }
  ]
}