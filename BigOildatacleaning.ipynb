{
  "nbformat": 4,
  "nbformat_minor": 0,
  "metadata": {
    "colab": {
      "provenance": [],
      "authorship_tag": "ABX9TyPm6Gjbw5hwoyYPUC1KpC/Z",
      "include_colab_link": true
    },
    "kernelspec": {
      "name": "python3",
      "display_name": "Python 3"
    },
    "language_info": {
      "name": "python"
    }
  },
  "cells": [
    {
      "cell_type": "markdown",
      "metadata": {
        "id": "view-in-github",
        "colab_type": "text"
      },
      "source": [
        "<a href=\"https://colab.research.google.com/github/hcantekin/hcantekin.github.io/blob/main/BigOildatacleaning.ipynb\" target=\"_parent\"><img src=\"https://colab.research.google.com/assets/colab-badge.svg\" alt=\"Open In Colab\"/></a>"
      ]
    },
    {
      "cell_type": "code",
      "execution_count": null,
      "metadata": {
        "id": "EkLQIEbuW958"
      },
      "outputs": [],
      "source": [
        "import pandas as pd\n",
        "import numpy as np\n"
      ]
    },
    {
      "cell_type": "code",
      "source": [
        "pd.read_html('test.html')"
      ],
      "metadata": {
        "id": "pUYxFmRGW_66"
      },
      "execution_count": null,
      "outputs": []
    },
    {
      "cell_type": "code",
      "source": [
        "Shell= pd.read_html('shell_rev.html')"
      ],
      "metadata": {
        "id": "4dFwUZkLuQc8"
      },
      "execution_count": null,
      "outputs": []
    },
    {
      "cell_type": "code",
      "source": [
        "Exxon = pd.read_html('XM_rev.html')"
      ],
      "metadata": {
        "id": "_BtcoW9jyM1Y"
      },
      "execution_count": null,
      "outputs": []
    },
    {
      "cell_type": "code",
      "source": [
        "len(Shell),len(Exxon)"
      ],
      "metadata": {
        "colab": {
          "base_uri": "https://localhost:8080/"
        },
        "id": "9Wm-AKs4zUna",
        "outputId": "83f0aff3-9584-468d-ee36-14b655136456"
      },
      "execution_count": null,
      "outputs": [
        {
          "output_type": "execute_result",
          "data": {
            "text/plain": [
              "(1, 1)"
            ]
          },
          "metadata": {},
          "execution_count": 24
        }
      ]
    },
    {
      "cell_type": "code",
      "source": [
        "pd.read_html('shell_rev.html')"
      ],
      "metadata": {
        "colab": {
          "base_uri": "https://localhost:8080/"
        },
        "id": "1FWgUHMI1Pdi",
        "outputId": "eb186593-3119-444b-d22c-0d1b1e214bce"
      },
      "execution_count": null,
      "outputs": [
        {
          "output_type": "execute_result",
          "data": {
            "text/plain": [
              "[    Shell Annual Revenue(Millions of US $)  \\\n",
              " 0                                     2021   \n",
              " 1                                     2020   \n",
              " 2                                     2019   \n",
              " 3                                     2018   \n",
              " 4                                     2017   \n",
              " 5                                     2016   \n",
              " 6                                     2015   \n",
              " 7                                     2014   \n",
              " 8                                     2013   \n",
              " 9                                     2012   \n",
              " 10                                    2011   \n",
              " 11                                    2010   \n",
              " 12                                    2009   \n",
              " \n",
              "    Shell Annual Revenue(Millions of US $).1  \n",
              " 0                                  $272,657  \n",
              " 1                                  $183,195  \n",
              " 2                                  $352,106  \n",
              " 3                                  $396,556  \n",
              " 4                                  $311,870  \n",
              " 5                                  $240,033  \n",
              " 6                                  $272,156  \n",
              " 7                                  $431,344  \n",
              " 8                                  $459,599  \n",
              " 9                                  $481,700  \n",
              " 10                                 $484,489  \n",
              " 11                                 $378,152  \n",
              " 12                                 $285,129  ]"
            ]
          },
          "metadata": {},
          "execution_count": 26
        }
      ]
    },
    {
      "cell_type": "code",
      "source": [
        "sh= np.array(Shell)\n",
        "xm= np.array(Exxon)"
      ],
      "metadata": {
        "id": "X3zsqNKX13VQ"
      },
      "execution_count": null,
      "outputs": []
    },
    {
      "cell_type": "code",
      "source": [
        "SH= sh.reshape(13,2)\n",
        "XM= xm.reshape(13,2)"
      ],
      "metadata": {
        "id": "P7h_7iUv5sjh"
      },
      "execution_count": null,
      "outputs": []
    },
    {
      "cell_type": "code",
      "source": [
        "print(SH)\n",
        "print(XM)"
      ],
      "metadata": {
        "colab": {
          "base_uri": "https://localhost:8080/"
        },
        "id": "R-qZ9nKm7Irp",
        "outputId": "7832ba0d-d60c-41ea-d8b7-c9479e940f49"
      },
      "execution_count": null,
      "outputs": [
        {
          "output_type": "stream",
          "name": "stdout",
          "text": [
            "[[2021 '$272,657']\n",
            " [2020 '$183,195']\n",
            " [2019 '$352,106']\n",
            " [2018 '$396,556']\n",
            " [2017 '$311,870']\n",
            " [2016 '$240,033']\n",
            " [2015 '$272,156']\n",
            " [2014 '$431,344']\n",
            " [2013 '$459,599']\n",
            " [2012 '$481,700']\n",
            " [2011 '$484,489']\n",
            " [2010 '$378,152']\n",
            " [2009 '$285,129']]\n",
            "[[2021 '$64,202']\n",
            " [2020 '$30,942']\n",
            " [2019 '$53,786']\n",
            " [2018 '$64,695']\n",
            " [2017 '$53,352']\n",
            " [2016 '$44,475']\n",
            " [2015 '$53,349']\n",
            " [2014 '$83,480']\n",
            " [2013 '$89,755']\n",
            " [2012 '$110,658']\n",
            " [2011 '$106,151']\n",
            " [2010 '$84,805']\n",
            " [2009 '$63,998']]\n"
          ]
        }
      ]
    },
    {
      "cell_type": "code",
      "source": [
        "Tot= np.concatenate((SH, XM), axis=1)\n",
        "print(Tot)"
      ],
      "metadata": {
        "colab": {
          "base_uri": "https://localhost:8080/"
        },
        "id": "i5Gjota67lRI",
        "outputId": "51a0f22d-1b79-4028-88ad-7075ddfaac15"
      },
      "execution_count": null,
      "outputs": [
        {
          "output_type": "stream",
          "name": "stdout",
          "text": [
            "[[2021 '$272,657' 2021 '$64,202']\n",
            " [2020 '$183,195' 2020 '$30,942']\n",
            " [2019 '$352,106' 2019 '$53,786']\n",
            " [2018 '$396,556' 2018 '$64,695']\n",
            " [2017 '$311,870' 2017 '$53,352']\n",
            " [2016 '$240,033' 2016 '$44,475']\n",
            " [2015 '$272,156' 2015 '$53,349']\n",
            " [2014 '$431,344' 2014 '$83,480']\n",
            " [2013 '$459,599' 2013 '$89,755']\n",
            " [2012 '$481,700' 2012 '$110,658']\n",
            " [2011 '$484,489' 2011 '$106,151']\n",
            " [2010 '$378,152' 2010 '$84,805']\n",
            " [2009 '$285,129' 2009 '$63,998']]\n"
          ]
        }
      ]
    },
    {
      "cell_type": "code",
      "source": [
        "df=pd.DataFrame(Tot, columns= ['Year', 'Shell', 'Year2', 'Exxon'])\n",
        "print(df)"
      ],
      "metadata": {
        "colab": {
          "base_uri": "https://localhost:8080/"
        },
        "id": "AFjiyltABSAI",
        "outputId": "58b13038-7fb1-4354-9671-3b48b33ae785"
      },
      "execution_count": null,
      "outputs": [
        {
          "output_type": "stream",
          "name": "stdout",
          "text": [
            "    Year     Shell Year2     Exxon\n",
            "0   2021  $272,657  2021   $64,202\n",
            "1   2020  $183,195  2020   $30,942\n",
            "2   2019  $352,106  2019   $53,786\n",
            "3   2018  $396,556  2018   $64,695\n",
            "4   2017  $311,870  2017   $53,352\n",
            "5   2016  $240,033  2016   $44,475\n",
            "6   2015  $272,156  2015   $53,349\n",
            "7   2014  $431,344  2014   $83,480\n",
            "8   2013  $459,599  2013   $89,755\n",
            "9   2012  $481,700  2012  $110,658\n",
            "10  2011  $484,489  2011  $106,151\n",
            "11  2010  $378,152  2010   $84,805\n",
            "12  2009  $285,129  2009   $63,998\n"
          ]
        }
      ]
    },
    {
      "cell_type": "code",
      "source": [
        "del df['Year2']"
      ],
      "metadata": {
        "id": "xTD4Lo9WBlRE"
      },
      "execution_count": null,
      "outputs": []
    },
    {
      "cell_type": "code",
      "source": [
        "print(df)"
      ],
      "metadata": {
        "colab": {
          "base_uri": "https://localhost:8080/"
        },
        "id": "A-3e3srDDrzn",
        "outputId": "fda76ac2-5f3b-4c63-8741-7c6a35e751be"
      },
      "execution_count": null,
      "outputs": [
        {
          "output_type": "stream",
          "name": "stdout",
          "text": [
            "    Year     Shell     Exxon\n",
            "0   2021  $272,657   $64,202\n",
            "1   2020  $183,195   $30,942\n",
            "2   2019  $352,106   $53,786\n",
            "3   2018  $396,556   $64,695\n",
            "4   2017  $311,870   $53,352\n",
            "5   2016  $240,033   $44,475\n",
            "6   2015  $272,156   $53,349\n",
            "7   2014  $431,344   $83,480\n",
            "8   2013  $459,599   $89,755\n",
            "9   2012  $481,700  $110,658\n",
            "10  2011  $484,489  $106,151\n",
            "11  2010  $378,152   $84,805\n",
            "12  2009  $285,129   $63,998\n"
          ]
        }
      ]
    },
    {
      "cell_type": "code",
      "source": [
        "df.stack().reset_index()"
      ],
      "metadata": {
        "id": "DaUNmCh7ECub"
      },
      "execution_count": null,
      "outputs": []
    },
    {
      "cell_type": "code",
      "source": [
        "df2= df.set_index(['Year']).stack().reset_index()\n",
        "print(df2)"
      ],
      "metadata": {
        "id": "fxpEdRxCEPa-"
      },
      "execution_count": null,
      "outputs": []
    },
    {
      "cell_type": "code",
      "source": [
        "df3= df2.rename(columns={'level_1':'Company', 0:'Annual Revenue (Millions of USD)'})\n",
        "print(df3)"
      ],
      "metadata": {
        "colab": {
          "base_uri": "https://localhost:8080/"
        },
        "id": "PI9R46WYFuAb",
        "outputId": "f2b77452-bebc-488b-c3a4-c116d50bec3d"
      },
      "execution_count": null,
      "outputs": [
        {
          "output_type": "stream",
          "name": "stdout",
          "text": [
            "    Year Company Annual Revenue (Millions of USD)\n",
            "0   2021   Shell                         $272,657\n",
            "1   2021   Exxon                          $64,202\n",
            "2   2020   Shell                         $183,195\n",
            "3   2020   Exxon                          $30,942\n",
            "4   2019   Shell                         $352,106\n",
            "5   2019   Exxon                          $53,786\n",
            "6   2018   Shell                         $396,556\n",
            "7   2018   Exxon                          $64,695\n",
            "8   2017   Shell                         $311,870\n",
            "9   2017   Exxon                          $53,352\n",
            "10  2016   Shell                         $240,033\n",
            "11  2016   Exxon                          $44,475\n",
            "12  2015   Shell                         $272,156\n",
            "13  2015   Exxon                          $53,349\n",
            "14  2014   Shell                         $431,344\n",
            "15  2014   Exxon                          $83,480\n",
            "16  2013   Shell                         $459,599\n",
            "17  2013   Exxon                          $89,755\n",
            "18  2012   Shell                         $481,700\n",
            "19  2012   Exxon                         $110,658\n",
            "20  2011   Shell                         $484,489\n",
            "21  2011   Exxon                         $106,151\n",
            "22  2010   Shell                         $378,152\n",
            "23  2010   Exxon                          $84,805\n",
            "24  2009   Shell                         $285,129\n",
            "25  2009   Exxon                          $63,998\n"
          ]
        }
      ]
    },
    {
      "cell_type": "code",
      "source": [],
      "metadata": {
        "id": "2BJwDdNKGWS-"
      },
      "execution_count": null,
      "outputs": []
    }
  ]
}