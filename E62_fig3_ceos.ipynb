{
  "nbformat": 4,
  "nbformat_minor": 0,
  "metadata": {
    "colab": {
      "provenance": [],
      "authorship_tag": "ABX9TyO0Nd+ZjVoBTRZuebBWHwTb",
      "include_colab_link": true
    },
    "kernelspec": {
      "name": "python3",
      "display_name": "Python 3"
    },
    "language_info": {
      "name": "python"
    }
  },
  "cells": [
    {
      "cell_type": "markdown",
      "metadata": {
        "id": "view-in-github",
        "colab_type": "text"
      },
      "source": [
        "<a href=\"https://colab.research.google.com/github/hcantekin/hcantekin.github.io/blob/main/E62_fig3_ceos.ipynb\" target=\"_parent\"><img src=\"https://colab.research.google.com/assets/colab-badge.svg\" alt=\"Open In Colab\"/></a>"
      ]
    },
    {
      "cell_type": "code",
      "execution_count": 2,
      "metadata": {
        "colab": {
          "base_uri": "https://localhost:8080/"
        },
        "id": "U93vDdw3EsZj",
        "outputId": "be63a138-9fcd-41f6-a24c-333b3549e9a4"
      },
      "outputs": [
        {
          "output_type": "execute_result",
          "data": {
            "text/plain": [
              "ThemeRegistry.enable('light')"
            ]
          },
          "metadata": {},
          "execution_count": 2
        }
      ],
      "source": [
        "import eco_style\n",
        "import altair as alt\n",
        "import pandas as pd\n",
        "\n",
        "alt.themes.enable('light')"
      ]
    },
    {
      "cell_type": "code",
      "source": [
        "import altair as alt\n",
        "import pandas as pd\n",
        "\n",
        "# Load the data\n",
        "url = \"https://raw.githubusercontent.com/hcantekin/hcantekin.github.io/main/E62_fig3_data.csv\"\n",
        "data = pd.read_csv(url)\n",
        "\n",
        "# Create scatter plot with regression line for Total Compensation vs Returns to Shares\n",
        "scatter_total_comp = alt.Chart(data).mark_point(color='#36B7B4', filled=True).encode(\n",
        "    x=alt.X('return2:Q', title= \"Returns to Shares (%)\"),\n",
        "    y=alt.Y('total_compensation:Q', title='Total Compensation')\n",
        ").properties(\n",
        "    width=250,\n",
        "    height=300,\n",
        ")\n",
        "regression_total_comp = scatter_total_comp.transform_regression(\n",
        "    'return2', 'total_compensation'\n",
        ").mark_line(color='#E6224B')\n",
        "\n",
        "chart1 = scatter_total_comp + regression_total_comp\n",
        "\n",
        "# Create scatter plot with regression line for Bonus vs Returns to Shares\n",
        "scatter_bonus = alt.Chart(data).mark_point(color='#36B7B4', filled=True).encode(\n",
        "    x=alt.X('return2:Q', title=''),\n",
        "    y=alt.Y('Bonus:Q', title='Bonus')\n",
        ").properties(\n",
        "    width=250,\n",
        "    height=300,\n",
        ")\n",
        "\n",
        "regression_bonus = scatter_bonus.transform_regression(\n",
        "    'return2', 'Bonus'\n",
        ").mark_line(color='#E6224B')\n",
        "\n",
        "chart2 = scatter_bonus + regression_bonus\n",
        "\n",
        "# Combine the two charts\n",
        "combined_chart = alt.hconcat(chart1, chart2).configure_axis(\n",
        "    labelColor='#676A86',\n",
        "    titleColor='#676A86'\n",
        ").configure_view(\n",
        "    strokeOpacity=0\n",
        ").configure_point(\n",
        "    size=50\n",
        ")\n",
        "\n",
        "combined_chart\n"
      ],
      "metadata": {
        "colab": {
          "base_uri": "https://localhost:8080/",
          "height": 388
        },
        "id": "ZoN3EcJIE5Vv",
        "outputId": "7a1c3bec-0145-4301-e7bc-e95b27fbb9a6"
      },
      "execution_count": 8,
      "outputs": [
        {
          "output_type": "execute_result",
          "data": {
            "text/html": [
              "\n",
              "<div id=\"altair-viz-885f2475b1f54c7cb0ef305964e90c4f\"></div>\n",
              "<script type=\"text/javascript\">\n",
              "  var VEGA_DEBUG = (typeof VEGA_DEBUG == \"undefined\") ? {} : VEGA_DEBUG;\n",
              "  (function(spec, embedOpt){\n",
              "    let outputDiv = document.currentScript.previousElementSibling;\n",
              "    if (outputDiv.id !== \"altair-viz-885f2475b1f54c7cb0ef305964e90c4f\") {\n",
              "      outputDiv = document.getElementById(\"altair-viz-885f2475b1f54c7cb0ef305964e90c4f\");\n",
              "    }\n",
              "    const paths = {\n",
              "      \"vega\": \"https://cdn.jsdelivr.net/npm//vega@5?noext\",\n",
              "      \"vega-lib\": \"https://cdn.jsdelivr.net/npm//vega-lib?noext\",\n",
              "      \"vega-lite\": \"https://cdn.jsdelivr.net/npm//vega-lite@4.17.0?noext\",\n",
              "      \"vega-embed\": \"https://cdn.jsdelivr.net/npm//vega-embed@6?noext\",\n",
              "    };\n",
              "\n",
              "    function maybeLoadScript(lib, version) {\n",
              "      var key = `${lib.replace(\"-\", \"\")}_version`;\n",
              "      return (VEGA_DEBUG[key] == version) ?\n",
              "        Promise.resolve(paths[lib]) :\n",
              "        new Promise(function(resolve, reject) {\n",
              "          var s = document.createElement('script');\n",
              "          document.getElementsByTagName(\"head\")[0].appendChild(s);\n",
              "          s.async = true;\n",
              "          s.onload = () => {\n",
              "            VEGA_DEBUG[key] = version;\n",
              "            return resolve(paths[lib]);\n",
              "          };\n",
              "          s.onerror = () => reject(`Error loading script: ${paths[lib]}`);\n",
              "          s.src = paths[lib];\n",
              "        });\n",
              "    }\n",
              "\n",
              "    function showError(err) {\n",
              "      outputDiv.innerHTML = `<div class=\"error\" style=\"color:red;\">${err}</div>`;\n",
              "      throw err;\n",
              "    }\n",
              "\n",
              "    function displayChart(vegaEmbed) {\n",
              "      vegaEmbed(outputDiv, spec, embedOpt)\n",
              "        .catch(err => showError(`Javascript Error: ${err.message}<br>This usually means there's a typo in your chart specification. See the javascript console for the full traceback.`));\n",
              "    }\n",
              "\n",
              "    if(typeof define === \"function\" && define.amd) {\n",
              "      requirejs.config({paths});\n",
              "      require([\"vega-embed\"], displayChart, err => showError(`Error loading script: ${err.message}`));\n",
              "    } else {\n",
              "      maybeLoadScript(\"vega\", \"5\")\n",
              "        .then(() => maybeLoadScript(\"vega-lite\", \"4.17.0\"))\n",
              "        .then(() => maybeLoadScript(\"vega-embed\", \"6\"))\n",
              "        .catch(showError)\n",
              "        .then(() => displayChart(vegaEmbed));\n",
              "    }\n",
              "  })({\"config\": {\"font\": \"Circular Std\", \"mark\": {\"line\": {\"interpolate\": \"monotone\"}}, \"view\": {\"stroke\": \"transparent\", \"width\": 400, \"height\": 300, \"strokeOpacity\": 0}, \"range\": {\"category\": [\"#36B7B4\", \"#E6224B\", \"#F4C245\", \"#0063AF\", \"#00A767\", \"#179FDB\", \"#EB5C2E\"], \"diverging\": [\"#E6224B\", \"#E54753\", \"#C9C9C9\", \"#179FDB\", \"#122B39\"], \"heatmap\": [\"#C9C9C9\", \"#179FDB\", \"#0063AF\", \"#122B39\"], \"ordinal\": [\"#00A767\", \"#36B7B4\", \"#179FDB\", \"#0063AF\", \"#243B5A\"]}, \"axisX\": {\"domainColor\": \"#676A86\", \"domainOpacity\": 0.5, \"grid\": false, \"labelAngle\": 0, \"labelColor\": \"#676A86\", \"labelOpacity\": 0.7, \"orient\": \"bottom\", \"tickColor\": \"#676A86\", \"tickCount\": 10, \"tickOpacity\": 0.5, \"title\": false, \"titleAlign\": \"center\", \"titleAnchor\": \"middle\", \"titleColor\": \"#676A86\", \"titleFontSize\": 12, \"titleOpacity\": 0.8, \"titleY\": -15}, \"axisY\": {\"domainColor\": \"#676A86\", \"domainOpacity\": 0.5, \"gridColor\": \"#676A86\", \"gridDash\": [1, 5], \"gridOpacity\": 0.5, \"labelColor\": \"#676A86\", \"labelOpacity\": 0.7, \"labelPadding\": 5, \"tickColor\": \"#676A86\", \"tickCount\": 8, \"tickOpacity\": 0.5, \"ticks\": false, \"titleAlign\": \"left\", \"titleAngle\": 0, \"titleBaseline\": \"bottom\", \"titleColor\": \"#676A86\", \"titleFontSize\": 12, \"titleOpacity\": 0.8, \"titleX\": 0, \"titleY\": -7}, \"axis\": {\"labelColor\": \"#676A86\", \"titleColor\": \"#676A86\"}, \"point\": {\"size\": 50}}, \"hconcat\": [{\"layer\": [{\"mark\": {\"type\": \"point\", \"color\": \"#36B7B4\", \"filled\": true}, \"encoding\": {\"x\": {\"field\": \"return2\", \"title\": \"Returns to Shares (%)\", \"type\": \"quantitative\"}, \"y\": {\"field\": \"total_compensation\", \"title\": \"Total Compensation\", \"type\": \"quantitative\"}}, \"height\": 300, \"width\": 250}, {\"mark\": {\"type\": \"line\", \"color\": \"#E6224B\"}, \"encoding\": {\"x\": {\"field\": \"return2\", \"title\": \"Returns to Shares (%)\", \"type\": \"quantitative\"}, \"y\": {\"field\": \"total_compensation\", \"title\": \"Total Compensation\", \"type\": \"quantitative\"}}, \"height\": 300, \"transform\": [{\"on\": \"return2\", \"regression\": \"total_compensation\"}], \"width\": 250}]}, {\"layer\": [{\"mark\": {\"type\": \"point\", \"color\": \"#36B7B4\", \"filled\": true}, \"encoding\": {\"x\": {\"field\": \"return2\", \"title\": \"\", \"type\": \"quantitative\"}, \"y\": {\"field\": \"Bonus\", \"title\": \"Bonus\", \"type\": \"quantitative\"}}, \"height\": 300, \"width\": 250}, {\"mark\": {\"type\": \"line\", \"color\": \"#E6224B\"}, \"encoding\": {\"x\": {\"field\": \"return2\", \"title\": \"\", \"type\": \"quantitative\"}, \"y\": {\"field\": \"Bonus\", \"title\": \"Bonus\", \"type\": \"quantitative\"}}, \"height\": 300, \"transform\": [{\"on\": \"return2\", \"regression\": \"Bonus\"}], \"width\": 250}]}], \"data\": {\"name\": \"data-50ebebf330511ce5e6ba885237d64042\"}, \"$schema\": \"https://vega.github.io/schema/vega-lite/v4.17.0.json\", \"datasets\": {\"data-50ebebf330511ce5e6ba885237d64042\": [{\"Year\": 2022, \"total_return\": 0.0, \"total_compensation\": 1862000, \"Bonus\": 686000, \"return2\": -13.5495488}, {\"Year\": 2023, \"total_return\": 0.0, \"total_compensation\": 2433000, \"Bonus\": 1064000, \"return2\": 21.11942818}, {\"Year\": 2022, \"total_return\": 0.0, \"total_compensation\": 4771520, \"Bonus\": 787000, \"return2\": 15.05854062}, {\"Year\": 2023, \"total_return\": 0.0, \"total_compensation\": 3603000, \"Bonus\": 1046000, \"return2\": -35.27794392}, {\"Year\": 2022, \"total_return\": 0.0, \"total_compensation\": 2286000, \"Bonus\": 1084000, \"return2\": -19.35300697}, {\"Year\": 2023, \"total_return\": 1.0, \"total_compensation\": 4100000, \"Bonus\": 1167000, \"return2\": 54.25616037}, {\"Year\": 2022, \"total_return\": 0.0, \"total_compensation\": 2273011, \"Bonus\": 399085, \"return2\": -25.3221384}, {\"Year\": 2023, \"total_return\": 0.0, \"total_compensation\": 2064178, \"Bonus\": 296017, \"return2\": 31.32489253}, {\"Year\": 2022, \"total_return\": 0.0, \"total_compensation\": 5909000, \"Bonus\": 1777000, \"return2\": -19.45100396}, {\"Year\": 2023, \"total_return\": 0.0, \"total_compensation\": 8142000, \"Bonus\": 3120000, \"return2\": 17.36407676}, {\"Year\": 2022, \"total_return\": 0.0, \"total_compensation\": 5292000, \"Bonus\": 1846000, \"return2\": 23.59560415}, {\"Year\": 2023, \"total_return\": 0.0, \"total_compensation\": 4836000, \"Bonus\": 2020000, \"return2\": 12.1815388}, {\"Year\": 2022, \"total_return\": 0.0, \"total_compensation\": 1673000, \"Bonus\": 652000, \"return2\": -29.48194234}, {\"Year\": 2023, \"total_return\": 0.0, \"total_compensation\": 1281000, \"Bonus\": 648000, \"return2\": 41.97730166}, {\"Year\": 2022, \"total_return\": 0.0, \"total_compensation\": 5523000, \"Bonus\": 2001000, \"return2\": 15.60770431}, {\"Year\": 2022, \"total_return\": 0.0, \"total_compensation\": 8579000, \"Bonus\": 3127000, \"return2\": 32.41401722}, {\"Year\": 2023, \"total_return\": 0.0, \"total_compensation\": 12718000, \"Bonus\": 2839000, \"return2\": -3.520090306}, {\"Year\": 2022, \"total_return\": 0.0, \"total_compensation\": 8579000, \"Bonus\": 2490000, \"return2\": 49.17158112}, {\"Year\": 2023, \"total_return\": 0.0, \"total_compensation\": 12718000, \"Bonus\": 2613000, \"return2\": 33.29875057}, {\"Year\": 2022, \"total_return\": 0.0, \"total_compensation\": 5197000, \"Bonus\": 1949000, \"return2\": -12.06738821}, {\"Year\": 2023, \"total_return\": 0.0, \"total_compensation\": 4641000, \"Bonus\": 1425000, \"return2\": 1.641133547}, {\"Year\": 2022, \"total_return\": 0.0, \"total_compensation\": 4936000, \"Bonus\": 1186000, \"return2\": 28.15142929}, {\"Year\": 2023, \"total_return\": 0.0, \"total_compensation\": 4588000, \"Bonus\": 1650000, \"return2\": -23.45835625}, {\"Year\": 2022, \"total_return\": 0.0, \"total_compensation\": 2738000, \"Bonus\": 1151000, \"return2\": -41.47322953}, {\"Year\": 2023, \"total_return\": 1.0, \"total_compensation\": 1756000, \"Bonus\": 483000, \"return2\": 52.85047716}, {\"Year\": 2022, \"total_return\": 0.0, \"total_compensation\": 1507155, \"Bonus\": 787875, \"return2\": 49.17158112}, {\"Year\": 2023, \"total_return\": 0.0, \"total_compensation\": 3636444, \"Bonus\": 1875000, \"return2\": -21.45607357}, {\"Year\": 2022, \"total_return\": 0.0, \"total_compensation\": 1237665, \"Bonus\": 556640, \"return2\": -32.35537269}, {\"Year\": 2023, \"total_return\": 0.0, \"total_compensation\": 1609673, \"Bonus\": 668178, \"return2\": 46.37572967}, {\"Year\": 2022, \"total_return\": 0.0, \"total_compensation\": 4505100, \"Bonus\": 1657500, \"return2\": -2.392789714}, {\"Year\": 2023, \"total_return\": 0.0, \"total_compensation\": 6284900, \"Bonus\": 1609900, \"return2\": 18.01109004}, {\"Year\": 2022, \"total_return\": 0.0, \"total_compensation\": 5428000, \"Bonus\": 1404000, \"return2\": 49.17158112}, {\"Year\": 2023, \"total_return\": 0.0, \"total_compensation\": 8034000, \"Bonus\": 1839000, \"return2\": 2.612760471}, {\"Year\": 2023, \"total_return\": 0.0, \"total_compensation\": 4289000, \"Bonus\": 1298000, \"return2\": -27.92806602}, {\"Year\": 2022, \"total_return\": 0.0, \"total_compensation\": 4073000, \"Bonus\": 911000, \"return2\": -20.20471904}, {\"Year\": 2022, \"total_return\": 0.0, \"total_compensation\": 4490000, \"Bonus\": 1422000, \"return2\": 36.96543549}, {\"Year\": 2023, \"total_return\": 0.0, \"total_compensation\": 8231000, \"Bonus\": 1426000, \"return2\": 49.51992295}, {\"Year\": 2022, \"total_return\": 0.0, \"total_compensation\": 3299000, \"Bonus\": 2090000, \"return2\": 17.72177123}, {\"Year\": 2023, \"total_return\": 0.0, \"total_compensation\": 7494000, \"Bonus\": 2190000, \"return2\": 14.00016268}, {\"Year\": 2022, \"total_return\": 0.0, \"total_compensation\": 4155280, \"Bonus\": 1074686, \"return2\": -33.78522276}, {\"Year\": 2022, \"total_return\": 0.0, \"total_compensation\": 4419000, \"Bonus\": 1339000, \"return2\": 22.95859121}, {\"Year\": 2023, \"total_return\": 0.0, \"total_compensation\": 4264000, \"Bonus\": 1873000, \"return2\": 7.393047303}, {\"Year\": 2022, \"total_return\": 0.0, \"total_compensation\": 3697000, \"Bonus\": 1653000, \"return2\": -30.16394754}, {\"Year\": 2023, \"total_return\": 0.0, \"total_compensation\": 3106000, \"Bonus\": 1008000, \"return2\": 47.19552072}, {\"Year\": 2023, \"total_return\": 0.0, \"total_compensation\": 402000, \"Bonus\": 79000, \"return2\": -19.89059771}, {\"Year\": 2022, \"total_return\": 0.0, \"total_compensation\": 3758000, \"Bonus\": 889000, \"return2\": -16.37230663}, {\"Year\": 2023, \"total_return\": 0.0, \"total_compensation\": 4118000, \"Bonus\": 943000, \"return2\": 31.56315557}, {\"Year\": 2022, \"total_return\": 0.0, \"total_compensation\": 8579000, \"Bonus\": 1982000, \"return2\": -21.27756952}, {\"Year\": 2023, \"total_return\": 0.0, \"total_compensation\": 7371000, \"Bonus\": 1199000, \"return2\": 15.56270576}, {\"Year\": 2022, \"total_return\": 0.0, \"total_compensation\": 2034000, \"Bonus\": 1201000, \"return2\": -41.61870503}, {\"Year\": 2023, \"total_return\": 1.0, \"total_compensation\": 2194000, \"Bonus\": 1326000, \"return2\": 57.11645102}, {\"Year\": 2022, \"total_return\": 0.0, \"total_compensation\": 4733000, \"Bonus\": 1110000, \"return2\": -3.996598634}, {\"Year\": 2023, \"total_return\": 0.0, \"total_compensation\": 4535000, \"Bonus\": 3206000, \"return2\": 23.47209922}, {\"Year\": 2022, \"total_return\": 0.0, \"total_compensation\": 6071000, \"Bonus\": 3842000, \"return2\": 49.17158112}, {\"Year\": 2023, \"total_return\": 0.0, \"total_compensation\": 5833000, \"Bonus\": 3808500, \"return2\": -6.134251164}, {\"Year\": 2022, \"total_return\": 0.0, \"total_compensation\": 8449000, \"Bonus\": 3143000, \"return2\": -7.347770216}, {\"Year\": 2023, \"total_return\": 0.0, \"total_compensation\": 12718000, \"Bonus\": 3774000, \"return2\": 4.941998545}, {\"Year\": 2023, \"total_return\": 0.0, \"total_compensation\": 1552833, \"Bonus\": 554213, \"return2\": 18.36500407}, {\"Year\": 2022, \"total_return\": 0.0, \"total_compensation\": 1940000, \"Bonus\": 887000, \"return2\": -37.7287222}, {\"Year\": 2023, \"total_return\": 0.0, \"total_compensation\": 2335000, \"Bonus\": 845000, \"return2\": 16.77418076}, {\"Year\": 2022, \"total_return\": 0.0, \"total_compensation\": 2350000, \"Bonus\": 1014000, \"return2\": 6.161829093}, {\"Year\": 2023, \"total_return\": 0.0, \"total_compensation\": 5763000, \"Bonus\": 1880000, \"return2\": -0.463845769}, {\"Year\": 2022, \"total_return\": 0.0, \"total_compensation\": 5562000, \"Bonus\": 2195000, \"return2\": 20.0096312}, {\"Year\": 2023, \"total_return\": 0.0, \"total_compensation\": 10644000, \"Bonus\": 2063000, \"return2\": 31.95964694}, {\"Year\": 2022, \"total_return\": 0.0, \"total_compensation\": 2571000, \"Bonus\": 1004000, \"return2\": -35.8275235}, {\"Year\": 2023, \"total_return\": 0.0, \"total_compensation\": 2517000, \"Bonus\": 334000, \"return2\": 49.47813643}, {\"Year\": 2022, \"total_return\": 0.0, \"total_compensation\": 3026000, \"Bonus\": 1608000, \"return2\": -13.08253791}, {\"Year\": 2023, \"total_return\": 0.0, \"total_compensation\": 3526000, \"Bonus\": 1624000, \"return2\": 25.16149871}, {\"Year\": 2022, \"total_return\": 0.0, \"total_compensation\": 7851000, \"Bonus\": 3842000, \"return2\": -46.53130365}, {\"Year\": 2023, \"total_return\": 1.0, \"total_compensation\": 7267600, \"Bonus\": 3808500, \"return2\": 54.25298842}, {\"Year\": 2022, \"total_return\": 0.0, \"total_compensation\": 3339000, \"Bonus\": 1349000, \"return2\": 1.352228304}, {\"Year\": 2023, \"total_return\": 1.0, \"total_compensation\": 3850000, \"Bonus\": 1403000, \"return2\": 52.61993695}, {\"Year\": 2022, \"total_return\": 0.0, \"total_compensation\": 6215000, \"Bonus\": 2613000, \"return2\": -3.360544563}, {\"Year\": 2023, \"total_return\": 1.0, \"total_compensation\": 8542000, \"Bonus\": 2357000, \"return2\": 59.02733693}, {\"Year\": 2022, \"total_return\": 0.0, \"total_compensation\": 5432000, \"Bonus\": 2185000, \"return2\": 37.87134801}, {\"Year\": 2023, \"total_return\": 0.0, \"total_compensation\": 8601000, \"Bonus\": 1919000, \"return2\": -5.770424182}, {\"Year\": 2022, \"total_return\": 0.0, \"total_compensation\": 3710000, \"Bonus\": 757000, \"return2\": -24.40755446}, {\"Year\": 2022, \"total_return\": 0.0, \"total_compensation\": 4103002, \"Bonus\": 785593, \"return2\": 20.54977731}, {\"Year\": 2023, \"total_return\": 0.0, \"total_compensation\": 4192423, \"Bonus\": 789473, \"return2\": 28.29373809}, {\"Year\": 2022, \"total_return\": 0.0, \"total_compensation\": 3080000, \"Bonus\": 415000, \"return2\": -26.60071575}, {\"Year\": 2023, \"total_return\": 0.0, \"total_compensation\": 5088000, \"Bonus\": 1417000, \"return2\": 8.004918135}, {\"Year\": 2022, \"total_return\": 0.0, \"total_compensation\": 1887800, \"Bonus\": 634400, \"return2\": -26.48175919}, {\"Year\": 2023, \"total_return\": 0.0, \"total_compensation\": 1964400, \"Bonus\": 265200, \"return2\": 8.787554574}, {\"Year\": 2024, \"total_return\": null, \"total_compensation\": 5073100, \"Bonus\": 364900, \"return2\": 0.0}, {\"Year\": 2022, \"total_return\": 0.0, \"total_compensation\": 2000000, \"Bonus\": 1085000, \"return2\": -15.31232503}, {\"Year\": 2023, \"total_return\": 0.0, \"total_compensation\": 2657000, \"Bonus\": 615000, \"return2\": 20.81696328}, {\"Year\": 2022, \"total_return\": 0.0, \"total_compensation\": 3767000, \"Bonus\": 1338000, \"return2\": -0.414410583}, {\"Year\": 2023, \"total_return\": 0.0, \"total_compensation\": 3681000, \"Bonus\": 1277000, \"return2\": 10.85677568}, {\"Year\": 2022, \"total_return\": 0.0, \"total_compensation\": 4854000, \"Bonus\": 1433000, \"return2\": 4.274232551}, {\"Year\": 2023, \"total_return\": 0.0, \"total_compensation\": 5127000, \"Bonus\": 1582000, \"return2\": 31.77133412}, {\"Year\": 2022, \"total_return\": 0.0, \"total_compensation\": 4196451, \"Bonus\": 1798556, \"return2\": -19.7364473}, {\"Year\": 2023, \"total_return\": 0.0, \"total_compensation\": 3226277, \"Bonus\": 575934, \"return2\": 14.49622452}, {\"Year\": 2022, \"total_return\": 0.0, \"total_compensation\": 1173229, \"Bonus\": 255000, \"return2\": 2.42105369}, {\"Year\": 2023, \"total_return\": 0.0, \"total_compensation\": 2746000, \"Bonus\": 1748000, \"return2\": 31.33111129}, {\"Year\": 2022, \"total_return\": 0.0, \"total_compensation\": 1000000, \"Bonus\": 464000, \"return2\": -14.55781053}, {\"Year\": 2023, \"total_return\": 1.0, \"total_compensation\": 1025000, \"Bonus\": 463000, \"return2\": 59.02733693}, {\"Year\": 2022, \"total_return\": 0.0, \"total_compensation\": 6614000, \"Bonus\": 1116000, \"return2\": -1.351339788}, {\"Year\": 2023, \"total_return\": 0.0, \"total_compensation\": 7248000, \"Bonus\": 1118000, \"return2\": 11.976158}, {\"Year\": 2023, \"total_return\": 0.0, \"total_compensation\": 2299942, \"Bonus\": 245000, \"return2\": -12.10154114}, {\"Year\": 2022, \"total_return\": 0.0, \"total_compensation\": 4148000, \"Bonus\": 1236000, \"return2\": -24.96927881}, {\"Year\": 2023, \"total_return\": 0.0, \"total_compensation\": 2529000, \"Bonus\": 701000, \"return2\": 43.9714703}, {\"Year\": 2024, \"total_return\": null, \"total_compensation\": 4520000, \"Bonus\": 1362000, \"return2\": 0.0}, {\"Year\": 2022, \"total_return\": -1.0, \"total_compensation\": 2004000, \"Bonus\": 1191000, \"return2\": -60.31495495}, {\"Year\": 2023, \"total_return\": 0.0, \"total_compensation\": 1957000, \"Bonus\": 1106000, \"return2\": 22.95719845}, {\"Year\": 2022, \"total_return\": 0.0, \"total_compensation\": 3112000, \"Bonus\": 1053000, \"return2\": 0.924753016}, {\"Year\": 2023, \"total_return\": 0.0, \"total_compensation\": 2901000, \"Bonus\": 1227000, \"return2\": -2.7812282}, {\"Year\": 2023, \"total_return\": 0.0, \"total_compensation\": 12535658, \"Bonus\": 2638000, \"return2\": -20.08706508}, {\"Year\": 2022, \"total_return\": -1.0, \"total_compensation\": 2143563, \"Bonus\": 1087021, \"return2\": -57.38795518}, {\"Year\": 2023, \"total_return\": 0.0, \"total_compensation\": 2252464, \"Bonus\": 1271887, \"return2\": 14.13311422}, {\"Year\": 2022, \"total_return\": 0.0, \"total_compensation\": 8579000, \"Bonus\": 2046000, \"return2\": -2.724070549}, {\"Year\": 2023, \"total_return\": 0.0, \"total_compensation\": 12718000, \"Bonus\": 2396000, \"return2\": 38.85297027}, {\"Year\": 2022, \"total_return\": 0.0, \"total_compensation\": 5235000, \"Bonus\": 694000, \"return2\": 31.92337893}, {\"Year\": 2023, \"total_return\": 0.0, \"total_compensation\": 6074000, \"Bonus\": 860000, \"return2\": 7.029458036}, {\"Year\": 2023, \"total_return\": 0.0, \"total_compensation\": 3619373, \"Bonus\": 1845900, \"return2\": -2.844160764}, {\"Year\": 2023, \"total_return\": 0.0, \"total_compensation\": 1346649, \"Bonus\": 717269, \"return2\": 14.32085757}, {\"Year\": 2023, \"total_return\": 1.0, \"total_compensation\": 12718000, \"Bonus\": 3808500, \"return2\": 59.02733693}, {\"Year\": 2022, \"total_return\": 0.0, \"total_compensation\": 4324300, \"Bonus\": 1599900, \"return2\": -11.92313862}, {\"Year\": 2023, \"total_return\": 0.0, \"total_compensation\": 3339900, \"Bonus\": 981000, \"return2\": -12.07594501}, {\"Year\": 2022, \"total_return\": 0.0, \"total_compensation\": 3599000, \"Bonus\": 1675000, \"return2\": -15.81913012}, {\"Year\": 2023, \"total_return\": 0.0, \"total_compensation\": 4947000, \"Bonus\": 1700000, \"return2\": 45.87378838}, {\"Year\": 2022, \"total_return\": 0.0, \"total_compensation\": 4696000, \"Bonus\": 3842000, \"return2\": -25.09136543}, {\"Year\": 2023, \"total_return\": 0.0, \"total_compensation\": 6190000, \"Bonus\": 3808500, \"return2\": 3.544513775}, {\"Year\": 2022, \"total_return\": 0.0, \"total_compensation\": 2524000, \"Bonus\": 1237000, \"return2\": -10.43421764}, {\"Year\": 2023, \"total_return\": 1.0, \"total_compensation\": 4000000, \"Bonus\": 993000, \"return2\": 59.02733693}, {\"Year\": 2022, \"total_return\": 0.0, \"total_compensation\": 3915000, \"Bonus\": 1065000, \"return2\": -45.75621166}, {\"Year\": 2023, \"total_return\": 0.0, \"total_compensation\": 2883000, \"Bonus\": 958000, \"return2\": 20.25640134}, {\"Year\": 2023, \"total_return\": 0.0, \"total_compensation\": 7940000, \"Bonus\": 2710000, \"return2\": 15.03875447}, {\"Year\": 2022, \"total_return\": 0.0, \"total_compensation\": 5534000, \"Bonus\": 1674000, \"return2\": -21.45784498}, {\"Year\": 2022, \"total_return\": 0.0, \"total_compensation\": 2580000, \"Bonus\": 1618000, \"return2\": -9.733917373}, {\"Year\": 2023, \"total_return\": 0.0, \"total_compensation\": 4190000, \"Bonus\": 1677000, \"return2\": 1.459111933}, {\"Year\": 2022, \"total_return\": 0.0, \"total_compensation\": 5955246, \"Bonus\": 3842000, \"return2\": -11.83306694}, {\"Year\": 2023, \"total_return\": 0.0, \"total_compensation\": 4658252, \"Bonus\": 3080526, \"return2\": 0.043901527}, {\"Year\": 2022, \"total_return\": 0.0, \"total_compensation\": 2156266, \"Bonus\": 388413, \"return2\": -33.080459}, {\"Year\": 2023, \"total_return\": 0.0, \"total_compensation\": 795172, \"Bonus\": 66181, \"return2\": 0.42564555}, {\"Year\": 2022, \"total_return\": 0.0, \"total_compensation\": 4655000, \"Bonus\": 3292000, \"return2\": 9.166329831}, {\"Year\": 2023, \"total_return\": 0.0, \"total_compensation\": 4627000, \"Bonus\": 3281000, \"return2\": 14.68351132}, {\"Year\": 2022, \"total_return\": 0.0, \"total_compensation\": 6408000, \"Bonus\": 1499000, \"return2\": 41.38737727}, {\"Year\": 2023, \"total_return\": 0.0, \"total_compensation\": 7837000, \"Bonus\": 1462000, \"return2\": 9.416827674}, {\"Year\": 2022, \"total_return\": 0.0, \"total_compensation\": 3948400, \"Bonus\": 737600, \"return2\": -6.652967309}, {\"Year\": 2023, \"total_return\": 0.0, \"total_compensation\": 3209300, \"Bonus\": 358800, \"return2\": 1.37689235}, {\"Year\": 2022, \"total_return\": 0.0, \"total_compensation\": 4745000, \"Bonus\": 3206000, \"return2\": -18.80182487}, {\"Year\": 2023, \"total_return\": 0.0, \"total_compensation\": 4443000, \"Bonus\": 2730000, \"return2\": 34.74331481}, {\"Year\": 2022, \"total_return\": 0.0, \"total_compensation\": 1629000, \"Bonus\": 730000, \"return2\": -36.91722856}, {\"Year\": 2023, \"total_return\": 1.0, \"total_compensation\": 2185000, \"Bonus\": 1054000, \"return2\": 56.95714759}, {\"Year\": 2023, \"total_return\": 0.0, \"total_compensation\": 4670406, \"Bonus\": 1862000, \"return2\": -5.760624993}, {\"Year\": 2022, \"total_return\": 0.0, \"total_compensation\": 858555, \"Bonus\": 207270, \"return2\": -17.15353444}, {\"Year\": 2023, \"total_return\": 0.0, \"total_compensation\": 1377895, \"Bonus\": 332482, \"return2\": 18.84415338}, {\"Year\": 2023, \"total_return\": 0.0, \"total_compensation\": 875490, \"Bonus\": 210000, \"return2\": 11.81863185}, {\"Year\": 2022, \"total_return\": 0.0, \"total_compensation\": 2687000, \"Bonus\": 968000, \"return2\": -19.41635568}, {\"Year\": 2023, \"total_return\": 0.0, \"total_compensation\": 3689000, \"Bonus\": 1206000, \"return2\": -9.726707387}, {\"Year\": 2022, \"total_return\": 0.0, \"total_compensation\": 2512408, \"Bonus\": 941186, \"return2\": -0.891190879}, {\"Year\": 2023, \"total_return\": 0.0, \"total_compensation\": 2774255, \"Bonus\": 1022519, \"return2\": 15.2815243}, {\"Year\": 2022, \"total_return\": 0.0, \"total_compensation\": 6682000, \"Bonus\": 2395000, \"return2\": -23.64008604}, {\"Year\": 2023, \"total_return\": 0.0, \"total_compensation\": 4498000, \"Bonus\": 1289000, \"return2\": -3.678537431}, {\"Year\": 2023, \"total_return\": 0.0, \"total_compensation\": 3070372, \"Bonus\": 179000, \"return2\": 45.90891814}]}}, {\"mode\": \"vega-lite\"});\n",
              "</script>"
            ],
            "text/plain": [
              "alt.HConcatChart(...)"
            ]
          },
          "metadata": {},
          "execution_count": 8
        }
      ]
    },
    {
      "cell_type": "code",
      "source": [
        "import altair as alt\n",
        "import pandas as pd\n",
        "\n",
        "# Load the data\n",
        "url = \"https://raw.githubusercontent.com/hcantekin/hcantekin.github.io/main/E62_fig3_data.csv\"\n",
        "data = pd.read_csv(url)\n",
        "\n",
        "# Create scatter plot with regression line for Total Compensation vs Returns to Shares\n",
        "scatter_total_comp = alt.Chart(data).mark_point(color='#36B7B4', filled=True).encode(\n",
        "    x=alt.X('return2:Q', title= \"Returns to Shares (%)\", axis=alt.Axis(titleX=200)),\n",
        "    y=alt.Y('total_compensation:Q', title='Total Compensation', axis=alt.Axis(format='~s'))\n",
        ").properties(\n",
        "    width=250,\n",
        "    height=300,\n",
        ")\n",
        "\n",
        "regression_total_comp = scatter_total_comp.transform_regression(\n",
        "    'return2', 'total_compensation'\n",
        ").mark_line(color='#E6224B')\n",
        "\n",
        "chart1 = scatter_total_comp + regression_total_comp\n",
        "\n",
        "# Create scatter plot with regression line for Bonus vs Returns to Shares\n",
        "scatter_bonus = alt.Chart(data).mark_point(color='#36B7B4', filled=True).encode(\n",
        "    x=alt.X('return2:Q', title=''),\n",
        "    y=alt.Y('Bonus:Q', title='Bonus', axis=alt.Axis(format='~s'))\n",
        ").properties(\n",
        "    width=250,\n",
        "    height=300,\n",
        ")\n",
        "\n",
        "regression_bonus = scatter_bonus.transform_regression(\n",
        "    'return2', 'Bonus'\n",
        ").mark_line(color='#E6224B')\n",
        "\n",
        "chart2 = scatter_bonus + regression_bonus\n",
        "\n",
        "# Combine the two charts\n",
        "combined_chart = alt.hconcat(chart1, chart2).configure_axis(\n",
        "    labelColor='#676A86',\n",
        "    titleColor='#676A86'\n",
        ").configure_view(\n",
        "    strokeOpacity=0\n",
        ").configure_point(\n",
        "    size=40\n",
        ")\n",
        "\n",
        "combined_chart\n"
      ],
      "metadata": {
        "colab": {
          "base_uri": "https://localhost:8080/",
          "height": 388
        },
        "id": "kowSH5ypob4z",
        "outputId": "de2e9895-8026-4a00-9fcb-51d3fd510be9"
      },
      "execution_count": 28,
      "outputs": [
        {
          "output_type": "execute_result",
          "data": {
            "text/html": [
              "\n",
              "<div id=\"altair-viz-a2eafac94d214c4fbe52a9d2ea489bef\"></div>\n",
              "<script type=\"text/javascript\">\n",
              "  var VEGA_DEBUG = (typeof VEGA_DEBUG == \"undefined\") ? {} : VEGA_DEBUG;\n",
              "  (function(spec, embedOpt){\n",
              "    let outputDiv = document.currentScript.previousElementSibling;\n",
              "    if (outputDiv.id !== \"altair-viz-a2eafac94d214c4fbe52a9d2ea489bef\") {\n",
              "      outputDiv = document.getElementById(\"altair-viz-a2eafac94d214c4fbe52a9d2ea489bef\");\n",
              "    }\n",
              "    const paths = {\n",
              "      \"vega\": \"https://cdn.jsdelivr.net/npm//vega@5?noext\",\n",
              "      \"vega-lib\": \"https://cdn.jsdelivr.net/npm//vega-lib?noext\",\n",
              "      \"vega-lite\": \"https://cdn.jsdelivr.net/npm//vega-lite@4.17.0?noext\",\n",
              "      \"vega-embed\": \"https://cdn.jsdelivr.net/npm//vega-embed@6?noext\",\n",
              "    };\n",
              "\n",
              "    function maybeLoadScript(lib, version) {\n",
              "      var key = `${lib.replace(\"-\", \"\")}_version`;\n",
              "      return (VEGA_DEBUG[key] == version) ?\n",
              "        Promise.resolve(paths[lib]) :\n",
              "        new Promise(function(resolve, reject) {\n",
              "          var s = document.createElement('script');\n",
              "          document.getElementsByTagName(\"head\")[0].appendChild(s);\n",
              "          s.async = true;\n",
              "          s.onload = () => {\n",
              "            VEGA_DEBUG[key] = version;\n",
              "            return resolve(paths[lib]);\n",
              "          };\n",
              "          s.onerror = () => reject(`Error loading script: ${paths[lib]}`);\n",
              "          s.src = paths[lib];\n",
              "        });\n",
              "    }\n",
              "\n",
              "    function showError(err) {\n",
              "      outputDiv.innerHTML = `<div class=\"error\" style=\"color:red;\">${err}</div>`;\n",
              "      throw err;\n",
              "    }\n",
              "\n",
              "    function displayChart(vegaEmbed) {\n",
              "      vegaEmbed(outputDiv, spec, embedOpt)\n",
              "        .catch(err => showError(`Javascript Error: ${err.message}<br>This usually means there's a typo in your chart specification. See the javascript console for the full traceback.`));\n",
              "    }\n",
              "\n",
              "    if(typeof define === \"function\" && define.amd) {\n",
              "      requirejs.config({paths});\n",
              "      require([\"vega-embed\"], displayChart, err => showError(`Error loading script: ${err.message}`));\n",
              "    } else {\n",
              "      maybeLoadScript(\"vega\", \"5\")\n",
              "        .then(() => maybeLoadScript(\"vega-lite\", \"4.17.0\"))\n",
              "        .then(() => maybeLoadScript(\"vega-embed\", \"6\"))\n",
              "        .catch(showError)\n",
              "        .then(() => displayChart(vegaEmbed));\n",
              "    }\n",
              "  })({\"config\": {\"font\": \"Circular Std\", \"mark\": {\"line\": {\"interpolate\": \"monotone\"}}, \"view\": {\"stroke\": \"transparent\", \"width\": 400, \"height\": 300, \"strokeOpacity\": 0}, \"range\": {\"category\": [\"#36B7B4\", \"#E6224B\", \"#F4C245\", \"#0063AF\", \"#00A767\", \"#179FDB\", \"#EB5C2E\"], \"diverging\": [\"#E6224B\", \"#E54753\", \"#C9C9C9\", \"#179FDB\", \"#122B39\"], \"heatmap\": [\"#C9C9C9\", \"#179FDB\", \"#0063AF\", \"#122B39\"], \"ordinal\": [\"#00A767\", \"#36B7B4\", \"#179FDB\", \"#0063AF\", \"#243B5A\"]}, \"axisX\": {\"domainColor\": \"#676A86\", \"domainOpacity\": 0.5, \"grid\": false, \"labelAngle\": 0, \"labelColor\": \"#676A86\", \"labelOpacity\": 0.7, \"orient\": \"bottom\", \"tickColor\": \"#676A86\", \"tickCount\": 10, \"tickOpacity\": 0.5, \"title\": false, \"titleAlign\": \"center\", \"titleAnchor\": \"middle\", \"titleColor\": \"#676A86\", \"titleFontSize\": 12, \"titleOpacity\": 0.8, \"titleY\": -15}, \"axisY\": {\"domainColor\": \"#676A86\", \"domainOpacity\": 0.5, \"gridColor\": \"#676A86\", \"gridDash\": [1, 5], \"gridOpacity\": 0.5, \"labelColor\": \"#676A86\", \"labelOpacity\": 0.7, \"labelPadding\": 5, \"tickColor\": \"#676A86\", \"tickCount\": 8, \"tickOpacity\": 0.5, \"ticks\": false, \"titleAlign\": \"left\", \"titleAngle\": 0, \"titleBaseline\": \"bottom\", \"titleColor\": \"#676A86\", \"titleFontSize\": 12, \"titleOpacity\": 0.8, \"titleX\": 0, \"titleY\": -7}, \"axis\": {\"labelColor\": \"#676A86\", \"titleColor\": \"#676A86\"}, \"point\": {\"size\": 40}}, \"hconcat\": [{\"layer\": [{\"mark\": {\"type\": \"point\", \"color\": \"#36B7B4\", \"filled\": true}, \"encoding\": {\"x\": {\"axis\": {\"titleX\": 200}, \"field\": \"return2\", \"title\": \"Returns to Shares (%)\", \"type\": \"quantitative\"}, \"y\": {\"axis\": {\"format\": \"~s\"}, \"field\": \"total_compensation\", \"title\": \"Total Compensation\", \"type\": \"quantitative\"}}, \"height\": 300, \"width\": 250}, {\"mark\": {\"type\": \"line\", \"color\": \"#E6224B\"}, \"encoding\": {\"x\": {\"axis\": {\"titleX\": 200}, \"field\": \"return2\", \"title\": \"Returns to Shares (%)\", \"type\": \"quantitative\"}, \"y\": {\"axis\": {\"format\": \"~s\"}, \"field\": \"total_compensation\", \"title\": \"Total Compensation\", \"type\": \"quantitative\"}}, \"height\": 300, \"transform\": [{\"on\": \"return2\", \"regression\": \"total_compensation\"}], \"width\": 250}]}, {\"layer\": [{\"mark\": {\"type\": \"point\", \"color\": \"#36B7B4\", \"filled\": true}, \"encoding\": {\"x\": {\"field\": \"return2\", \"title\": \"\", \"type\": \"quantitative\"}, \"y\": {\"axis\": {\"format\": \"~s\"}, \"field\": \"Bonus\", \"title\": \"Bonus\", \"type\": \"quantitative\"}}, \"height\": 300, \"width\": 250}, {\"mark\": {\"type\": \"line\", \"color\": \"#E6224B\"}, \"encoding\": {\"x\": {\"field\": \"return2\", \"title\": \"\", \"type\": \"quantitative\"}, \"y\": {\"axis\": {\"format\": \"~s\"}, \"field\": \"Bonus\", \"title\": \"Bonus\", \"type\": \"quantitative\"}}, \"height\": 300, \"transform\": [{\"on\": \"return2\", \"regression\": \"Bonus\"}], \"width\": 250}]}], \"data\": {\"name\": \"data-50ebebf330511ce5e6ba885237d64042\"}, \"$schema\": \"https://vega.github.io/schema/vega-lite/v4.17.0.json\", \"datasets\": {\"data-50ebebf330511ce5e6ba885237d64042\": [{\"Year\": 2022, \"total_return\": 0.0, \"total_compensation\": 1862000, \"Bonus\": 686000, \"return2\": -13.5495488}, {\"Year\": 2023, \"total_return\": 0.0, \"total_compensation\": 2433000, \"Bonus\": 1064000, \"return2\": 21.11942818}, {\"Year\": 2022, \"total_return\": 0.0, \"total_compensation\": 4771520, \"Bonus\": 787000, \"return2\": 15.05854062}, {\"Year\": 2023, \"total_return\": 0.0, \"total_compensation\": 3603000, \"Bonus\": 1046000, \"return2\": -35.27794392}, {\"Year\": 2022, \"total_return\": 0.0, \"total_compensation\": 2286000, \"Bonus\": 1084000, \"return2\": -19.35300697}, {\"Year\": 2023, \"total_return\": 1.0, \"total_compensation\": 4100000, \"Bonus\": 1167000, \"return2\": 54.25616037}, {\"Year\": 2022, \"total_return\": 0.0, \"total_compensation\": 2273011, \"Bonus\": 399085, \"return2\": -25.3221384}, {\"Year\": 2023, \"total_return\": 0.0, \"total_compensation\": 2064178, \"Bonus\": 296017, \"return2\": 31.32489253}, {\"Year\": 2022, \"total_return\": 0.0, \"total_compensation\": 5909000, \"Bonus\": 1777000, \"return2\": -19.45100396}, {\"Year\": 2023, \"total_return\": 0.0, \"total_compensation\": 8142000, \"Bonus\": 3120000, \"return2\": 17.36407676}, {\"Year\": 2022, \"total_return\": 0.0, \"total_compensation\": 5292000, \"Bonus\": 1846000, \"return2\": 23.59560415}, {\"Year\": 2023, \"total_return\": 0.0, \"total_compensation\": 4836000, \"Bonus\": 2020000, \"return2\": 12.1815388}, {\"Year\": 2022, \"total_return\": 0.0, \"total_compensation\": 1673000, \"Bonus\": 652000, \"return2\": -29.48194234}, {\"Year\": 2023, \"total_return\": 0.0, \"total_compensation\": 1281000, \"Bonus\": 648000, \"return2\": 41.97730166}, {\"Year\": 2022, \"total_return\": 0.0, \"total_compensation\": 5523000, \"Bonus\": 2001000, \"return2\": 15.60770431}, {\"Year\": 2022, \"total_return\": 0.0, \"total_compensation\": 8579000, \"Bonus\": 3127000, \"return2\": 32.41401722}, {\"Year\": 2023, \"total_return\": 0.0, \"total_compensation\": 12718000, \"Bonus\": 2839000, \"return2\": -3.520090306}, {\"Year\": 2022, \"total_return\": 0.0, \"total_compensation\": 8579000, \"Bonus\": 2490000, \"return2\": 49.17158112}, {\"Year\": 2023, \"total_return\": 0.0, \"total_compensation\": 12718000, \"Bonus\": 2613000, \"return2\": 33.29875057}, {\"Year\": 2022, \"total_return\": 0.0, \"total_compensation\": 5197000, \"Bonus\": 1949000, \"return2\": -12.06738821}, {\"Year\": 2023, \"total_return\": 0.0, \"total_compensation\": 4641000, \"Bonus\": 1425000, \"return2\": 1.641133547}, {\"Year\": 2022, \"total_return\": 0.0, \"total_compensation\": 4936000, \"Bonus\": 1186000, \"return2\": 28.15142929}, {\"Year\": 2023, \"total_return\": 0.0, \"total_compensation\": 4588000, \"Bonus\": 1650000, \"return2\": -23.45835625}, {\"Year\": 2022, \"total_return\": 0.0, \"total_compensation\": 2738000, \"Bonus\": 1151000, \"return2\": -41.47322953}, {\"Year\": 2023, \"total_return\": 1.0, \"total_compensation\": 1756000, \"Bonus\": 483000, \"return2\": 52.85047716}, {\"Year\": 2022, \"total_return\": 0.0, \"total_compensation\": 1507155, \"Bonus\": 787875, \"return2\": 49.17158112}, {\"Year\": 2023, \"total_return\": 0.0, \"total_compensation\": 3636444, \"Bonus\": 1875000, \"return2\": -21.45607357}, {\"Year\": 2022, \"total_return\": 0.0, \"total_compensation\": 1237665, \"Bonus\": 556640, \"return2\": -32.35537269}, {\"Year\": 2023, \"total_return\": 0.0, \"total_compensation\": 1609673, \"Bonus\": 668178, \"return2\": 46.37572967}, {\"Year\": 2022, \"total_return\": 0.0, \"total_compensation\": 4505100, \"Bonus\": 1657500, \"return2\": -2.392789714}, {\"Year\": 2023, \"total_return\": 0.0, \"total_compensation\": 6284900, \"Bonus\": 1609900, \"return2\": 18.01109004}, {\"Year\": 2022, \"total_return\": 0.0, \"total_compensation\": 5428000, \"Bonus\": 1404000, \"return2\": 49.17158112}, {\"Year\": 2023, \"total_return\": 0.0, \"total_compensation\": 8034000, \"Bonus\": 1839000, \"return2\": 2.612760471}, {\"Year\": 2023, \"total_return\": 0.0, \"total_compensation\": 4289000, \"Bonus\": 1298000, \"return2\": -27.92806602}, {\"Year\": 2022, \"total_return\": 0.0, \"total_compensation\": 4073000, \"Bonus\": 911000, \"return2\": -20.20471904}, {\"Year\": 2022, \"total_return\": 0.0, \"total_compensation\": 4490000, \"Bonus\": 1422000, \"return2\": 36.96543549}, {\"Year\": 2023, \"total_return\": 0.0, \"total_compensation\": 8231000, \"Bonus\": 1426000, \"return2\": 49.51992295}, {\"Year\": 2022, \"total_return\": 0.0, \"total_compensation\": 3299000, \"Bonus\": 2090000, \"return2\": 17.72177123}, {\"Year\": 2023, \"total_return\": 0.0, \"total_compensation\": 7494000, \"Bonus\": 2190000, \"return2\": 14.00016268}, {\"Year\": 2022, \"total_return\": 0.0, \"total_compensation\": 4155280, \"Bonus\": 1074686, \"return2\": -33.78522276}, {\"Year\": 2022, \"total_return\": 0.0, \"total_compensation\": 4419000, \"Bonus\": 1339000, \"return2\": 22.95859121}, {\"Year\": 2023, \"total_return\": 0.0, \"total_compensation\": 4264000, \"Bonus\": 1873000, \"return2\": 7.393047303}, {\"Year\": 2022, \"total_return\": 0.0, \"total_compensation\": 3697000, \"Bonus\": 1653000, \"return2\": -30.16394754}, {\"Year\": 2023, \"total_return\": 0.0, \"total_compensation\": 3106000, \"Bonus\": 1008000, \"return2\": 47.19552072}, {\"Year\": 2023, \"total_return\": 0.0, \"total_compensation\": 402000, \"Bonus\": 79000, \"return2\": -19.89059771}, {\"Year\": 2022, \"total_return\": 0.0, \"total_compensation\": 3758000, \"Bonus\": 889000, \"return2\": -16.37230663}, {\"Year\": 2023, \"total_return\": 0.0, \"total_compensation\": 4118000, \"Bonus\": 943000, \"return2\": 31.56315557}, {\"Year\": 2022, \"total_return\": 0.0, \"total_compensation\": 8579000, \"Bonus\": 1982000, \"return2\": -21.27756952}, {\"Year\": 2023, \"total_return\": 0.0, \"total_compensation\": 7371000, \"Bonus\": 1199000, \"return2\": 15.56270576}, {\"Year\": 2022, \"total_return\": 0.0, \"total_compensation\": 2034000, \"Bonus\": 1201000, \"return2\": -41.61870503}, {\"Year\": 2023, \"total_return\": 1.0, \"total_compensation\": 2194000, \"Bonus\": 1326000, \"return2\": 57.11645102}, {\"Year\": 2022, \"total_return\": 0.0, \"total_compensation\": 4733000, \"Bonus\": 1110000, \"return2\": -3.996598634}, {\"Year\": 2023, \"total_return\": 0.0, \"total_compensation\": 4535000, \"Bonus\": 3206000, \"return2\": 23.47209922}, {\"Year\": 2022, \"total_return\": 0.0, \"total_compensation\": 6071000, \"Bonus\": 3842000, \"return2\": 49.17158112}, {\"Year\": 2023, \"total_return\": 0.0, \"total_compensation\": 5833000, \"Bonus\": 3808500, \"return2\": -6.134251164}, {\"Year\": 2022, \"total_return\": 0.0, \"total_compensation\": 8449000, \"Bonus\": 3143000, \"return2\": -7.347770216}, {\"Year\": 2023, \"total_return\": 0.0, \"total_compensation\": 12718000, \"Bonus\": 3774000, \"return2\": 4.941998545}, {\"Year\": 2023, \"total_return\": 0.0, \"total_compensation\": 1552833, \"Bonus\": 554213, \"return2\": 18.36500407}, {\"Year\": 2022, \"total_return\": 0.0, \"total_compensation\": 1940000, \"Bonus\": 887000, \"return2\": -37.7287222}, {\"Year\": 2023, \"total_return\": 0.0, \"total_compensation\": 2335000, \"Bonus\": 845000, \"return2\": 16.77418076}, {\"Year\": 2022, \"total_return\": 0.0, \"total_compensation\": 2350000, \"Bonus\": 1014000, \"return2\": 6.161829093}, {\"Year\": 2023, \"total_return\": 0.0, \"total_compensation\": 5763000, \"Bonus\": 1880000, \"return2\": -0.463845769}, {\"Year\": 2022, \"total_return\": 0.0, \"total_compensation\": 5562000, \"Bonus\": 2195000, \"return2\": 20.0096312}, {\"Year\": 2023, \"total_return\": 0.0, \"total_compensation\": 10644000, \"Bonus\": 2063000, \"return2\": 31.95964694}, {\"Year\": 2022, \"total_return\": 0.0, \"total_compensation\": 2571000, \"Bonus\": 1004000, \"return2\": -35.8275235}, {\"Year\": 2023, \"total_return\": 0.0, \"total_compensation\": 2517000, \"Bonus\": 334000, \"return2\": 49.47813643}, {\"Year\": 2022, \"total_return\": 0.0, \"total_compensation\": 3026000, \"Bonus\": 1608000, \"return2\": -13.08253791}, {\"Year\": 2023, \"total_return\": 0.0, \"total_compensation\": 3526000, \"Bonus\": 1624000, \"return2\": 25.16149871}, {\"Year\": 2022, \"total_return\": 0.0, \"total_compensation\": 7851000, \"Bonus\": 3842000, \"return2\": -46.53130365}, {\"Year\": 2023, \"total_return\": 1.0, \"total_compensation\": 7267600, \"Bonus\": 3808500, \"return2\": 54.25298842}, {\"Year\": 2022, \"total_return\": 0.0, \"total_compensation\": 3339000, \"Bonus\": 1349000, \"return2\": 1.352228304}, {\"Year\": 2023, \"total_return\": 1.0, \"total_compensation\": 3850000, \"Bonus\": 1403000, \"return2\": 52.61993695}, {\"Year\": 2022, \"total_return\": 0.0, \"total_compensation\": 6215000, \"Bonus\": 2613000, \"return2\": -3.360544563}, {\"Year\": 2023, \"total_return\": 1.0, \"total_compensation\": 8542000, \"Bonus\": 2357000, \"return2\": 59.02733693}, {\"Year\": 2022, \"total_return\": 0.0, \"total_compensation\": 5432000, \"Bonus\": 2185000, \"return2\": 37.87134801}, {\"Year\": 2023, \"total_return\": 0.0, \"total_compensation\": 8601000, \"Bonus\": 1919000, \"return2\": -5.770424182}, {\"Year\": 2022, \"total_return\": 0.0, \"total_compensation\": 3710000, \"Bonus\": 757000, \"return2\": -24.40755446}, {\"Year\": 2022, \"total_return\": 0.0, \"total_compensation\": 4103002, \"Bonus\": 785593, \"return2\": 20.54977731}, {\"Year\": 2023, \"total_return\": 0.0, \"total_compensation\": 4192423, \"Bonus\": 789473, \"return2\": 28.29373809}, {\"Year\": 2022, \"total_return\": 0.0, \"total_compensation\": 3080000, \"Bonus\": 415000, \"return2\": -26.60071575}, {\"Year\": 2023, \"total_return\": 0.0, \"total_compensation\": 5088000, \"Bonus\": 1417000, \"return2\": 8.004918135}, {\"Year\": 2022, \"total_return\": 0.0, \"total_compensation\": 1887800, \"Bonus\": 634400, \"return2\": -26.48175919}, {\"Year\": 2023, \"total_return\": 0.0, \"total_compensation\": 1964400, \"Bonus\": 265200, \"return2\": 8.787554574}, {\"Year\": 2024, \"total_return\": null, \"total_compensation\": 5073100, \"Bonus\": 364900, \"return2\": 0.0}, {\"Year\": 2022, \"total_return\": 0.0, \"total_compensation\": 2000000, \"Bonus\": 1085000, \"return2\": -15.31232503}, {\"Year\": 2023, \"total_return\": 0.0, \"total_compensation\": 2657000, \"Bonus\": 615000, \"return2\": 20.81696328}, {\"Year\": 2022, \"total_return\": 0.0, \"total_compensation\": 3767000, \"Bonus\": 1338000, \"return2\": -0.414410583}, {\"Year\": 2023, \"total_return\": 0.0, \"total_compensation\": 3681000, \"Bonus\": 1277000, \"return2\": 10.85677568}, {\"Year\": 2022, \"total_return\": 0.0, \"total_compensation\": 4854000, \"Bonus\": 1433000, \"return2\": 4.274232551}, {\"Year\": 2023, \"total_return\": 0.0, \"total_compensation\": 5127000, \"Bonus\": 1582000, \"return2\": 31.77133412}, {\"Year\": 2022, \"total_return\": 0.0, \"total_compensation\": 4196451, \"Bonus\": 1798556, \"return2\": -19.7364473}, {\"Year\": 2023, \"total_return\": 0.0, \"total_compensation\": 3226277, \"Bonus\": 575934, \"return2\": 14.49622452}, {\"Year\": 2022, \"total_return\": 0.0, \"total_compensation\": 1173229, \"Bonus\": 255000, \"return2\": 2.42105369}, {\"Year\": 2023, \"total_return\": 0.0, \"total_compensation\": 2746000, \"Bonus\": 1748000, \"return2\": 31.33111129}, {\"Year\": 2022, \"total_return\": 0.0, \"total_compensation\": 1000000, \"Bonus\": 464000, \"return2\": -14.55781053}, {\"Year\": 2023, \"total_return\": 1.0, \"total_compensation\": 1025000, \"Bonus\": 463000, \"return2\": 59.02733693}, {\"Year\": 2022, \"total_return\": 0.0, \"total_compensation\": 6614000, \"Bonus\": 1116000, \"return2\": -1.351339788}, {\"Year\": 2023, \"total_return\": 0.0, \"total_compensation\": 7248000, \"Bonus\": 1118000, \"return2\": 11.976158}, {\"Year\": 2023, \"total_return\": 0.0, \"total_compensation\": 2299942, \"Bonus\": 245000, \"return2\": -12.10154114}, {\"Year\": 2022, \"total_return\": 0.0, \"total_compensation\": 4148000, \"Bonus\": 1236000, \"return2\": -24.96927881}, {\"Year\": 2023, \"total_return\": 0.0, \"total_compensation\": 2529000, \"Bonus\": 701000, \"return2\": 43.9714703}, {\"Year\": 2024, \"total_return\": null, \"total_compensation\": 4520000, \"Bonus\": 1362000, \"return2\": 0.0}, {\"Year\": 2022, \"total_return\": -1.0, \"total_compensation\": 2004000, \"Bonus\": 1191000, \"return2\": -60.31495495}, {\"Year\": 2023, \"total_return\": 0.0, \"total_compensation\": 1957000, \"Bonus\": 1106000, \"return2\": 22.95719845}, {\"Year\": 2022, \"total_return\": 0.0, \"total_compensation\": 3112000, \"Bonus\": 1053000, \"return2\": 0.924753016}, {\"Year\": 2023, \"total_return\": 0.0, \"total_compensation\": 2901000, \"Bonus\": 1227000, \"return2\": -2.7812282}, {\"Year\": 2023, \"total_return\": 0.0, \"total_compensation\": 12535658, \"Bonus\": 2638000, \"return2\": -20.08706508}, {\"Year\": 2022, \"total_return\": -1.0, \"total_compensation\": 2143563, \"Bonus\": 1087021, \"return2\": -57.38795518}, {\"Year\": 2023, \"total_return\": 0.0, \"total_compensation\": 2252464, \"Bonus\": 1271887, \"return2\": 14.13311422}, {\"Year\": 2022, \"total_return\": 0.0, \"total_compensation\": 8579000, \"Bonus\": 2046000, \"return2\": -2.724070549}, {\"Year\": 2023, \"total_return\": 0.0, \"total_compensation\": 12718000, \"Bonus\": 2396000, \"return2\": 38.85297027}, {\"Year\": 2022, \"total_return\": 0.0, \"total_compensation\": 5235000, \"Bonus\": 694000, \"return2\": 31.92337893}, {\"Year\": 2023, \"total_return\": 0.0, \"total_compensation\": 6074000, \"Bonus\": 860000, \"return2\": 7.029458036}, {\"Year\": 2023, \"total_return\": 0.0, \"total_compensation\": 3619373, \"Bonus\": 1845900, \"return2\": -2.844160764}, {\"Year\": 2023, \"total_return\": 0.0, \"total_compensation\": 1346649, \"Bonus\": 717269, \"return2\": 14.32085757}, {\"Year\": 2023, \"total_return\": 1.0, \"total_compensation\": 12718000, \"Bonus\": 3808500, \"return2\": 59.02733693}, {\"Year\": 2022, \"total_return\": 0.0, \"total_compensation\": 4324300, \"Bonus\": 1599900, \"return2\": -11.92313862}, {\"Year\": 2023, \"total_return\": 0.0, \"total_compensation\": 3339900, \"Bonus\": 981000, \"return2\": -12.07594501}, {\"Year\": 2022, \"total_return\": 0.0, \"total_compensation\": 3599000, \"Bonus\": 1675000, \"return2\": -15.81913012}, {\"Year\": 2023, \"total_return\": 0.0, \"total_compensation\": 4947000, \"Bonus\": 1700000, \"return2\": 45.87378838}, {\"Year\": 2022, \"total_return\": 0.0, \"total_compensation\": 4696000, \"Bonus\": 3842000, \"return2\": -25.09136543}, {\"Year\": 2023, \"total_return\": 0.0, \"total_compensation\": 6190000, \"Bonus\": 3808500, \"return2\": 3.544513775}, {\"Year\": 2022, \"total_return\": 0.0, \"total_compensation\": 2524000, \"Bonus\": 1237000, \"return2\": -10.43421764}, {\"Year\": 2023, \"total_return\": 1.0, \"total_compensation\": 4000000, \"Bonus\": 993000, \"return2\": 59.02733693}, {\"Year\": 2022, \"total_return\": 0.0, \"total_compensation\": 3915000, \"Bonus\": 1065000, \"return2\": -45.75621166}, {\"Year\": 2023, \"total_return\": 0.0, \"total_compensation\": 2883000, \"Bonus\": 958000, \"return2\": 20.25640134}, {\"Year\": 2023, \"total_return\": 0.0, \"total_compensation\": 7940000, \"Bonus\": 2710000, \"return2\": 15.03875447}, {\"Year\": 2022, \"total_return\": 0.0, \"total_compensation\": 5534000, \"Bonus\": 1674000, \"return2\": -21.45784498}, {\"Year\": 2022, \"total_return\": 0.0, \"total_compensation\": 2580000, \"Bonus\": 1618000, \"return2\": -9.733917373}, {\"Year\": 2023, \"total_return\": 0.0, \"total_compensation\": 4190000, \"Bonus\": 1677000, \"return2\": 1.459111933}, {\"Year\": 2022, \"total_return\": 0.0, \"total_compensation\": 5955246, \"Bonus\": 3842000, \"return2\": -11.83306694}, {\"Year\": 2023, \"total_return\": 0.0, \"total_compensation\": 4658252, \"Bonus\": 3080526, \"return2\": 0.043901527}, {\"Year\": 2022, \"total_return\": 0.0, \"total_compensation\": 2156266, \"Bonus\": 388413, \"return2\": -33.080459}, {\"Year\": 2023, \"total_return\": 0.0, \"total_compensation\": 795172, \"Bonus\": 66181, \"return2\": 0.42564555}, {\"Year\": 2022, \"total_return\": 0.0, \"total_compensation\": 4655000, \"Bonus\": 3292000, \"return2\": 9.166329831}, {\"Year\": 2023, \"total_return\": 0.0, \"total_compensation\": 4627000, \"Bonus\": 3281000, \"return2\": 14.68351132}, {\"Year\": 2022, \"total_return\": 0.0, \"total_compensation\": 6408000, \"Bonus\": 1499000, \"return2\": 41.38737727}, {\"Year\": 2023, \"total_return\": 0.0, \"total_compensation\": 7837000, \"Bonus\": 1462000, \"return2\": 9.416827674}, {\"Year\": 2022, \"total_return\": 0.0, \"total_compensation\": 3948400, \"Bonus\": 737600, \"return2\": -6.652967309}, {\"Year\": 2023, \"total_return\": 0.0, \"total_compensation\": 3209300, \"Bonus\": 358800, \"return2\": 1.37689235}, {\"Year\": 2022, \"total_return\": 0.0, \"total_compensation\": 4745000, \"Bonus\": 3206000, \"return2\": -18.80182487}, {\"Year\": 2023, \"total_return\": 0.0, \"total_compensation\": 4443000, \"Bonus\": 2730000, \"return2\": 34.74331481}, {\"Year\": 2022, \"total_return\": 0.0, \"total_compensation\": 1629000, \"Bonus\": 730000, \"return2\": -36.91722856}, {\"Year\": 2023, \"total_return\": 1.0, \"total_compensation\": 2185000, \"Bonus\": 1054000, \"return2\": 56.95714759}, {\"Year\": 2023, \"total_return\": 0.0, \"total_compensation\": 4670406, \"Bonus\": 1862000, \"return2\": -5.760624993}, {\"Year\": 2022, \"total_return\": 0.0, \"total_compensation\": 858555, \"Bonus\": 207270, \"return2\": -17.15353444}, {\"Year\": 2023, \"total_return\": 0.0, \"total_compensation\": 1377895, \"Bonus\": 332482, \"return2\": 18.84415338}, {\"Year\": 2023, \"total_return\": 0.0, \"total_compensation\": 875490, \"Bonus\": 210000, \"return2\": 11.81863185}, {\"Year\": 2022, \"total_return\": 0.0, \"total_compensation\": 2687000, \"Bonus\": 968000, \"return2\": -19.41635568}, {\"Year\": 2023, \"total_return\": 0.0, \"total_compensation\": 3689000, \"Bonus\": 1206000, \"return2\": -9.726707387}, {\"Year\": 2022, \"total_return\": 0.0, \"total_compensation\": 2512408, \"Bonus\": 941186, \"return2\": -0.891190879}, {\"Year\": 2023, \"total_return\": 0.0, \"total_compensation\": 2774255, \"Bonus\": 1022519, \"return2\": 15.2815243}, {\"Year\": 2022, \"total_return\": 0.0, \"total_compensation\": 6682000, \"Bonus\": 2395000, \"return2\": -23.64008604}, {\"Year\": 2023, \"total_return\": 0.0, \"total_compensation\": 4498000, \"Bonus\": 1289000, \"return2\": -3.678537431}, {\"Year\": 2023, \"total_return\": 0.0, \"total_compensation\": 3070372, \"Bonus\": 179000, \"return2\": 45.90891814}]}}, {\"mode\": \"vega-lite\"});\n",
              "</script>"
            ],
            "text/plain": [
              "alt.HConcatChart(...)"
            ]
          },
          "metadata": {},
          "execution_count": 28
        }
      ]
    },
    {
      "cell_type": "code",
      "source": [
        "pip install altair_saver\n"
      ],
      "metadata": {
        "colab": {
          "base_uri": "https://localhost:8080/"
        },
        "collapsed": true,
        "id": "hRQxT-pNqgRx",
        "outputId": "f6593d9f-df58-473e-b626-0b454d03de27"
      },
      "execution_count": 24,
      "outputs": [
        {
          "output_type": "stream",
          "name": "stdout",
          "text": [
            "Collecting altair_saver\n",
            "  Downloading altair_saver-0.5.0-py3-none-any.whl (89 kB)\n",
            "\u001b[2K     \u001b[90m━━━━━━━━━━━━━━━━━━━━━━━━━━━━━━━━━━━━━━━━\u001b[0m \u001b[32m89.3/89.3 kB\u001b[0m \u001b[31m1.1 MB/s\u001b[0m eta \u001b[36m0:00:00\u001b[0m\n",
            "\u001b[?25hRequirement already satisfied: altair in /usr/local/lib/python3.10/dist-packages (from altair_saver) (4.2.2)\n",
            "Collecting altair-data-server>=0.4.0 (from altair_saver)\n",
            "  Downloading altair_data_server-0.4.1-py3-none-any.whl (12 kB)\n",
            "Collecting altair-viewer (from altair_saver)\n",
            "  Downloading altair_viewer-0.4.0-py3-none-any.whl (844 kB)\n",
            "\u001b[2K     \u001b[90m━━━━━━━━━━━━━━━━━━━━━━━━━━━━━━━━━━━━━━━━\u001b[0m \u001b[32m844.5/844.5 kB\u001b[0m \u001b[31m7.1 MB/s\u001b[0m eta \u001b[36m0:00:00\u001b[0m\n",
            "\u001b[?25hCollecting selenium (from altair_saver)\n",
            "  Downloading selenium-4.22.0-py3-none-any.whl (9.4 MB)\n",
            "\u001b[2K     \u001b[90m━━━━━━━━━━━━━━━━━━━━━━━━━━━━━━━━━━━━━━━━\u001b[0m \u001b[32m9.4/9.4 MB\u001b[0m \u001b[31m45.0 MB/s\u001b[0m eta \u001b[36m0:00:00\u001b[0m\n",
            "\u001b[?25hRequirement already satisfied: portpicker in /usr/local/lib/python3.10/dist-packages (from altair-data-server>=0.4.0->altair_saver) (1.5.2)\n",
            "Requirement already satisfied: tornado in /usr/local/lib/python3.10/dist-packages (from altair-data-server>=0.4.0->altair_saver) (6.3.3)\n",
            "Requirement already satisfied: entrypoints in /usr/local/lib/python3.10/dist-packages (from altair->altair_saver) (0.4)\n",
            "Requirement already satisfied: jinja2 in /usr/local/lib/python3.10/dist-packages (from altair->altair_saver) (3.1.4)\n",
            "Requirement already satisfied: jsonschema>=3.0 in /usr/local/lib/python3.10/dist-packages (from altair->altair_saver) (4.19.2)\n",
            "Requirement already satisfied: numpy in /usr/local/lib/python3.10/dist-packages (from altair->altair_saver) (1.25.2)\n",
            "Requirement already satisfied: pandas>=0.18 in /usr/local/lib/python3.10/dist-packages (from altair->altair_saver) (2.0.3)\n",
            "Requirement already satisfied: toolz in /usr/local/lib/python3.10/dist-packages (from altair->altair_saver) (0.12.1)\n",
            "Requirement already satisfied: urllib3[socks]<3,>=1.26 in /usr/local/lib/python3.10/dist-packages (from selenium->altair_saver) (2.0.7)\n",
            "Collecting trio~=0.17 (from selenium->altair_saver)\n",
            "  Downloading trio-0.26.0-py3-none-any.whl (475 kB)\n",
            "\u001b[2K     \u001b[90m━━━━━━━━━━━━━━━━━━━━━━━━━━━━━━━━━━━━━━━━\u001b[0m \u001b[32m475.7/475.7 kB\u001b[0m \u001b[31m31.5 MB/s\u001b[0m eta \u001b[36m0:00:00\u001b[0m\n",
            "\u001b[?25hCollecting trio-websocket~=0.9 (from selenium->altair_saver)\n",
            "  Downloading trio_websocket-0.11.1-py3-none-any.whl (17 kB)\n",
            "Requirement already satisfied: certifi>=2021.10.8 in /usr/local/lib/python3.10/dist-packages (from selenium->altair_saver) (2024.7.4)\n",
            "Requirement already satisfied: typing_extensions>=4.9.0 in /usr/local/lib/python3.10/dist-packages (from selenium->altair_saver) (4.12.2)\n",
            "Requirement already satisfied: websocket-client>=1.8.0 in /usr/local/lib/python3.10/dist-packages (from selenium->altair_saver) (1.8.0)\n",
            "Requirement already satisfied: attrs>=22.2.0 in /usr/local/lib/python3.10/dist-packages (from jsonschema>=3.0->altair->altair_saver) (23.2.0)\n",
            "Requirement already satisfied: jsonschema-specifications>=2023.03.6 in /usr/local/lib/python3.10/dist-packages (from jsonschema>=3.0->altair->altair_saver) (2023.12.1)\n",
            "Requirement already satisfied: referencing>=0.28.4 in /usr/local/lib/python3.10/dist-packages (from jsonschema>=3.0->altair->altair_saver) (0.35.1)\n",
            "Requirement already satisfied: rpds-py>=0.7.1 in /usr/local/lib/python3.10/dist-packages (from jsonschema>=3.0->altair->altair_saver) (0.19.0)\n",
            "Requirement already satisfied: python-dateutil>=2.8.2 in /usr/local/lib/python3.10/dist-packages (from pandas>=0.18->altair->altair_saver) (2.8.2)\n",
            "Requirement already satisfied: pytz>=2020.1 in /usr/local/lib/python3.10/dist-packages (from pandas>=0.18->altair->altair_saver) (2023.4)\n",
            "Requirement already satisfied: tzdata>=2022.1 in /usr/local/lib/python3.10/dist-packages (from pandas>=0.18->altair->altair_saver) (2024.1)\n",
            "Requirement already satisfied: sortedcontainers in /usr/local/lib/python3.10/dist-packages (from trio~=0.17->selenium->altair_saver) (2.4.0)\n",
            "Requirement already satisfied: idna in /usr/local/lib/python3.10/dist-packages (from trio~=0.17->selenium->altair_saver) (3.7)\n",
            "Collecting outcome (from trio~=0.17->selenium->altair_saver)\n",
            "  Downloading outcome-1.3.0.post0-py2.py3-none-any.whl (10 kB)\n",
            "Requirement already satisfied: sniffio>=1.3.0 in /usr/local/lib/python3.10/dist-packages (from trio~=0.17->selenium->altair_saver) (1.3.1)\n",
            "Requirement already satisfied: exceptiongroup in /usr/local/lib/python3.10/dist-packages (from trio~=0.17->selenium->altair_saver) (1.2.1)\n",
            "Collecting wsproto>=0.14 (from trio-websocket~=0.9->selenium->altair_saver)\n",
            "  Downloading wsproto-1.2.0-py3-none-any.whl (24 kB)\n",
            "Requirement already satisfied: pysocks!=1.5.7,<2.0,>=1.5.6 in /usr/local/lib/python3.10/dist-packages (from urllib3[socks]<3,>=1.26->selenium->altair_saver) (1.7.1)\n",
            "Requirement already satisfied: MarkupSafe>=2.0 in /usr/local/lib/python3.10/dist-packages (from jinja2->altair->altair_saver) (2.1.5)\n",
            "Requirement already satisfied: psutil in /usr/local/lib/python3.10/dist-packages (from portpicker->altair-data-server>=0.4.0->altair_saver) (5.9.5)\n",
            "Requirement already satisfied: six>=1.5 in /usr/local/lib/python3.10/dist-packages (from python-dateutil>=2.8.2->pandas>=0.18->altair->altair_saver) (1.16.0)\n",
            "Collecting h11<1,>=0.9.0 (from wsproto>=0.14->trio-websocket~=0.9->selenium->altair_saver)\n",
            "  Downloading h11-0.14.0-py3-none-any.whl (58 kB)\n",
            "\u001b[2K     \u001b[90m━━━━━━━━━━━━━━━━━━━━━━━━━━━━━━━━━━━━━━━━\u001b[0m \u001b[32m58.3/58.3 kB\u001b[0m \u001b[31m6.1 MB/s\u001b[0m eta \u001b[36m0:00:00\u001b[0m\n",
            "\u001b[?25hInstalling collected packages: outcome, h11, wsproto, trio, trio-websocket, selenium, altair-data-server, altair-viewer, altair_saver\n",
            "Successfully installed altair-data-server-0.4.1 altair-viewer-0.4.0 altair_saver-0.5.0 h11-0.14.0 outcome-1.3.0.post0 selenium-4.22.0 trio-0.26.0 trio-websocket-0.11.1 wsproto-1.2.0\n"
          ]
        }
      ]
    },
    {
      "cell_type": "code",
      "source": [
        "from altair_saver import save"
      ],
      "metadata": {
        "id": "VtWPv436qmBv"
      },
      "execution_count": 25,
      "outputs": []
    },
    {
      "cell_type": "code",
      "source": [
        "\n",
        "combined_chart.save(\"E62_fig3.json\")\n",
        "combined_chart.save(\"E62_fig3.png\", scale_factor=2.0)\n",
        "\n"
      ],
      "metadata": {
        "colab": {
          "base_uri": "https://localhost:8080/",
          "height": 382
        },
        "id": "-djA5gg6qLcc",
        "outputId": "9f2eedfc-abe9-4bf1-c915-8767eb55bf02"
      },
      "execution_count": 26,
      "outputs": [
        {
          "output_type": "error",
          "ename": "AttributeError",
          "evalue": "'WebDriver' object has no attribute 'find_element_by_id'",
          "traceback": [
            "\u001b[0;31m---------------------------------------------------------------------------\u001b[0m",
            "\u001b[0;31mAttributeError\u001b[0m                            Traceback (most recent call last)",
            "\u001b[0;32m<ipython-input-26-0494ed2e5432>\u001b[0m in \u001b[0;36m<cell line: 2>\u001b[0;34m()\u001b[0m\n\u001b[1;32m      1\u001b[0m \u001b[0mcombined_chart\u001b[0m\u001b[0;34m.\u001b[0m\u001b[0msave\u001b[0m\u001b[0;34m(\u001b[0m\u001b[0;34m\"E62_fig3.json\"\u001b[0m\u001b[0;34m)\u001b[0m\u001b[0;34m\u001b[0m\u001b[0;34m\u001b[0m\u001b[0m\n\u001b[0;32m----> 2\u001b[0;31m \u001b[0mcombined_chart\u001b[0m\u001b[0;34m.\u001b[0m\u001b[0msave\u001b[0m\u001b[0;34m(\u001b[0m\u001b[0;34m\"E62_fig3.png\"\u001b[0m\u001b[0;34m,\u001b[0m \u001b[0mscale_factor\u001b[0m\u001b[0;34m=\u001b[0m\u001b[0;36m2.0\u001b[0m\u001b[0;34m)\u001b[0m\u001b[0;34m\u001b[0m\u001b[0;34m\u001b[0m\u001b[0m\n\u001b[0m\u001b[1;32m      3\u001b[0m \u001b[0;34m\u001b[0m\u001b[0m\n",
            "\u001b[0;32m/usr/local/lib/python3.10/dist-packages/altair/vegalite/v4/api.py\u001b[0m in \u001b[0;36msave\u001b[0;34m(self, fp, format, override_data_transformer, scale_factor, vegalite_version, vega_version, vegaembed_version, **kwargs)\u001b[0m\n\u001b[1;32m    486\u001b[0m         \u001b[0;32mif\u001b[0m \u001b[0moverride_data_transformer\u001b[0m\u001b[0;34m:\u001b[0m\u001b[0;34m\u001b[0m\u001b[0;34m\u001b[0m\u001b[0m\n\u001b[1;32m    487\u001b[0m             \u001b[0;32mwith\u001b[0m \u001b[0mdata_transformers\u001b[0m\u001b[0;34m.\u001b[0m\u001b[0mdisable_max_rows\u001b[0m\u001b[0;34m(\u001b[0m\u001b[0;34m)\u001b[0m\u001b[0;34m:\u001b[0m\u001b[0;34m\u001b[0m\u001b[0;34m\u001b[0m\u001b[0m\n\u001b[0;32m--> 488\u001b[0;31m                 \u001b[0mresult\u001b[0m \u001b[0;34m=\u001b[0m \u001b[0msave\u001b[0m\u001b[0;34m(\u001b[0m\u001b[0;34m**\u001b[0m\u001b[0mkwds\u001b[0m\u001b[0;34m)\u001b[0m\u001b[0;34m\u001b[0m\u001b[0;34m\u001b[0m\u001b[0m\n\u001b[0m\u001b[1;32m    489\u001b[0m         \u001b[0;32melse\u001b[0m\u001b[0;34m:\u001b[0m\u001b[0;34m\u001b[0m\u001b[0;34m\u001b[0m\u001b[0m\n\u001b[1;32m    490\u001b[0m             \u001b[0mresult\u001b[0m \u001b[0;34m=\u001b[0m \u001b[0msave\u001b[0m\u001b[0;34m(\u001b[0m\u001b[0;34m**\u001b[0m\u001b[0mkwds\u001b[0m\u001b[0;34m)\u001b[0m\u001b[0;34m\u001b[0m\u001b[0;34m\u001b[0m\u001b[0m\n",
            "\u001b[0;32m/usr/local/lib/python3.10/dist-packages/altair/utils/save.py\u001b[0m in \u001b[0;36msave\u001b[0;34m(chart, fp, vega_version, vegaembed_version, format, mode, vegalite_version, embed_options, json_kwds, webdriver, scale_factor, **kwargs)\u001b[0m\n\u001b[1;32m    114\u001b[0m         \u001b[0mwrite_file_or_filename\u001b[0m\u001b[0;34m(\u001b[0m\u001b[0mfp\u001b[0m\u001b[0;34m,\u001b[0m \u001b[0mmimebundle\u001b[0m\u001b[0;34m[\u001b[0m\u001b[0;34m\"text/html\"\u001b[0m\u001b[0;34m]\u001b[0m\u001b[0;34m,\u001b[0m \u001b[0mmode\u001b[0m\u001b[0;34m=\u001b[0m\u001b[0;34m\"w\"\u001b[0m\u001b[0;34m)\u001b[0m\u001b[0;34m\u001b[0m\u001b[0;34m\u001b[0m\u001b[0m\n\u001b[1;32m    115\u001b[0m     \u001b[0;32melif\u001b[0m \u001b[0mformat\u001b[0m \u001b[0;32min\u001b[0m \u001b[0;34m[\u001b[0m\u001b[0;34m\"png\"\u001b[0m\u001b[0;34m,\u001b[0m \u001b[0;34m\"svg\"\u001b[0m\u001b[0;34m,\u001b[0m \u001b[0;34m\"pdf\"\u001b[0m\u001b[0;34m]\u001b[0m\u001b[0;34m:\u001b[0m\u001b[0;34m\u001b[0m\u001b[0;34m\u001b[0m\u001b[0m\n\u001b[0;32m--> 116\u001b[0;31m         mimebundle = spec_to_mimebundle(\n\u001b[0m\u001b[1;32m    117\u001b[0m             \u001b[0mspec\u001b[0m\u001b[0;34m=\u001b[0m\u001b[0mspec\u001b[0m\u001b[0;34m,\u001b[0m\u001b[0;34m\u001b[0m\u001b[0;34m\u001b[0m\u001b[0m\n\u001b[1;32m    118\u001b[0m             \u001b[0mformat\u001b[0m\u001b[0;34m=\u001b[0m\u001b[0mformat\u001b[0m\u001b[0;34m,\u001b[0m\u001b[0;34m\u001b[0m\u001b[0;34m\u001b[0m\u001b[0m\n",
            "\u001b[0;32m/usr/local/lib/python3.10/dist-packages/altair/utils/mimebundle.py\u001b[0m in \u001b[0;36mspec_to_mimebundle\u001b[0;34m(spec, format, mode, vega_version, vegaembed_version, vegalite_version, **kwargs)\u001b[0m\n\u001b[1;32m     58\u001b[0m                 \u001b[0;34m\"see http://github.com/altair-viz/altair_saver/\"\u001b[0m\u001b[0;34m.\u001b[0m\u001b[0mformat\u001b[0m\u001b[0;34m(\u001b[0m\u001b[0mfmt\u001b[0m\u001b[0;34m=\u001b[0m\u001b[0mformat\u001b[0m\u001b[0;34m)\u001b[0m\u001b[0;34m\u001b[0m\u001b[0;34m\u001b[0m\u001b[0m\n\u001b[1;32m     59\u001b[0m             )\n\u001b[0;32m---> 60\u001b[0;31m         \u001b[0;32mreturn\u001b[0m \u001b[0maltair_saver\u001b[0m\u001b[0;34m.\u001b[0m\u001b[0mrender\u001b[0m\u001b[0;34m(\u001b[0m\u001b[0mspec\u001b[0m\u001b[0;34m,\u001b[0m \u001b[0mformat\u001b[0m\u001b[0;34m,\u001b[0m \u001b[0mmode\u001b[0m\u001b[0;34m=\u001b[0m\u001b[0mmode\u001b[0m\u001b[0;34m,\u001b[0m \u001b[0;34m**\u001b[0m\u001b[0mkwargs\u001b[0m\u001b[0;34m)\u001b[0m\u001b[0;34m\u001b[0m\u001b[0;34m\u001b[0m\u001b[0m\n\u001b[0m\u001b[1;32m     61\u001b[0m     \u001b[0;32mif\u001b[0m \u001b[0mformat\u001b[0m \u001b[0;34m==\u001b[0m \u001b[0;34m\"html\"\u001b[0m\u001b[0;34m:\u001b[0m\u001b[0;34m\u001b[0m\u001b[0;34m\u001b[0m\u001b[0m\n\u001b[1;32m     62\u001b[0m         html = spec_to_html(\n",
            "\u001b[0;32m/usr/local/lib/python3.10/dist-packages/altair_saver/_core.py\u001b[0m in \u001b[0;36mrender\u001b[0;34m(chart, fmts, mode, embed_options, method, **kwargs)\u001b[0m\n\u001b[1;32m    255\u001b[0m         \u001b[0mSaver\u001b[0m \u001b[0;34m=\u001b[0m \u001b[0m_select_saver\u001b[0m\u001b[0;34m(\u001b[0m\u001b[0mmethod\u001b[0m\u001b[0;34m,\u001b[0m \u001b[0mmode\u001b[0m\u001b[0;34m=\u001b[0m\u001b[0mmode\u001b[0m\u001b[0;34m,\u001b[0m \u001b[0mfmt\u001b[0m\u001b[0;34m=\u001b[0m\u001b[0mfmt\u001b[0m\u001b[0;34m)\u001b[0m\u001b[0;34m\u001b[0m\u001b[0;34m\u001b[0m\u001b[0m\n\u001b[1;32m    256\u001b[0m         \u001b[0msaver\u001b[0m \u001b[0;34m=\u001b[0m \u001b[0mSaver\u001b[0m\u001b[0;34m(\u001b[0m\u001b[0mspec\u001b[0m\u001b[0;34m,\u001b[0m \u001b[0mmode\u001b[0m\u001b[0;34m=\u001b[0m\u001b[0mmode\u001b[0m\u001b[0;34m,\u001b[0m \u001b[0membed_options\u001b[0m\u001b[0;34m=\u001b[0m\u001b[0membed_options\u001b[0m\u001b[0;34m,\u001b[0m \u001b[0;34m**\u001b[0m\u001b[0mkwargs\u001b[0m\u001b[0;34m)\u001b[0m\u001b[0;34m\u001b[0m\u001b[0;34m\u001b[0m\u001b[0m\n\u001b[0;32m--> 257\u001b[0;31m         \u001b[0mmimebundle\u001b[0m\u001b[0;34m.\u001b[0m\u001b[0mupdate\u001b[0m\u001b[0;34m(\u001b[0m\u001b[0msaver\u001b[0m\u001b[0;34m.\u001b[0m\u001b[0mmimebundle\u001b[0m\u001b[0;34m(\u001b[0m\u001b[0mfmt\u001b[0m\u001b[0;34m)\u001b[0m\u001b[0;34m)\u001b[0m\u001b[0;34m\u001b[0m\u001b[0;34m\u001b[0m\u001b[0m\n\u001b[0m\u001b[1;32m    258\u001b[0m \u001b[0;34m\u001b[0m\u001b[0m\n\u001b[1;32m    259\u001b[0m     \u001b[0;32mreturn\u001b[0m \u001b[0mmimebundle\u001b[0m\u001b[0;34m\u001b[0m\u001b[0;34m\u001b[0m\u001b[0m\n",
            "\u001b[0;32m/usr/local/lib/python3.10/dist-packages/altair_saver/savers/_saver.py\u001b[0m in \u001b[0;36mmimebundle\u001b[0;34m(self, fmts)\u001b[0m\n\u001b[1;32m     88\u001b[0m                 \u001b[0mvegalite_version\u001b[0m\u001b[0;34m=\u001b[0m\u001b[0mself\u001b[0m\u001b[0;34m.\u001b[0m\u001b[0m_package_versions\u001b[0m\u001b[0;34m[\u001b[0m\u001b[0;34m\"vega-lite\"\u001b[0m\u001b[0;34m]\u001b[0m\u001b[0;34m,\u001b[0m\u001b[0;34m\u001b[0m\u001b[0;34m\u001b[0m\u001b[0m\n\u001b[1;32m     89\u001b[0m             )\n\u001b[0;32m---> 90\u001b[0;31m             \u001b[0mbundle\u001b[0m\u001b[0;34m[\u001b[0m\u001b[0mmimetype\u001b[0m\u001b[0;34m]\u001b[0m \u001b[0;34m=\u001b[0m \u001b[0mself\u001b[0m\u001b[0;34m.\u001b[0m\u001b[0m_serialize\u001b[0m\u001b[0;34m(\u001b[0m\u001b[0mfmt\u001b[0m\u001b[0;34m,\u001b[0m \u001b[0;34m\"mimebundle\"\u001b[0m\u001b[0;34m)\u001b[0m\u001b[0;34m\u001b[0m\u001b[0;34m\u001b[0m\u001b[0m\n\u001b[0m\u001b[1;32m     91\u001b[0m         \u001b[0;32mreturn\u001b[0m \u001b[0mbundle\u001b[0m\u001b[0;34m\u001b[0m\u001b[0;34m\u001b[0m\u001b[0m\n\u001b[1;32m     92\u001b[0m \u001b[0;34m\u001b[0m\u001b[0m\n",
            "\u001b[0;32m/usr/local/lib/python3.10/dist-packages/altair_saver/savers/_selenium.py\u001b[0m in \u001b[0;36m_serialize\u001b[0;34m(self, fmt, content_type)\u001b[0m\n\u001b[1;32m    282\u001b[0m \u001b[0;34m\u001b[0m\u001b[0m\n\u001b[1;32m    283\u001b[0m     \u001b[0;32mdef\u001b[0m \u001b[0m_serialize\u001b[0m\u001b[0;34m(\u001b[0m\u001b[0mself\u001b[0m\u001b[0;34m,\u001b[0m \u001b[0mfmt\u001b[0m\u001b[0;34m:\u001b[0m \u001b[0mstr\u001b[0m\u001b[0;34m,\u001b[0m \u001b[0mcontent_type\u001b[0m\u001b[0;34m:\u001b[0m \u001b[0mstr\u001b[0m\u001b[0;34m)\u001b[0m \u001b[0;34m->\u001b[0m \u001b[0mMimebundleContent\u001b[0m\u001b[0;34m:\u001b[0m\u001b[0;34m\u001b[0m\u001b[0;34m\u001b[0m\u001b[0m\n\u001b[0;32m--> 284\u001b[0;31m         \u001b[0mout\u001b[0m \u001b[0;34m=\u001b[0m \u001b[0mself\u001b[0m\u001b[0;34m.\u001b[0m\u001b[0m_extract\u001b[0m\u001b[0;34m(\u001b[0m\u001b[0mfmt\u001b[0m\u001b[0;34m)\u001b[0m\u001b[0;34m\u001b[0m\u001b[0;34m\u001b[0m\u001b[0m\n\u001b[0m\u001b[1;32m    285\u001b[0m         \u001b[0;32mif\u001b[0m \u001b[0mfmt\u001b[0m \u001b[0;34m==\u001b[0m \u001b[0;34m\"png\"\u001b[0m\u001b[0;34m:\u001b[0m\u001b[0;34m\u001b[0m\u001b[0;34m\u001b[0m\u001b[0m\n\u001b[1;32m    286\u001b[0m             \u001b[0;32massert\u001b[0m \u001b[0misinstance\u001b[0m\u001b[0;34m(\u001b[0m\u001b[0mout\u001b[0m\u001b[0;34m,\u001b[0m \u001b[0mstr\u001b[0m\u001b[0;34m)\u001b[0m\u001b[0;34m\u001b[0m\u001b[0;34m\u001b[0m\u001b[0m\n",
            "\u001b[0;32m/usr/local/lib/python3.10/dist-packages/altair_saver/savers/_selenium.py\u001b[0m in \u001b[0;36m_extract\u001b[0;34m(self, fmt)\u001b[0m\n\u001b[1;32m    265\u001b[0m         \u001b[0mdriver\u001b[0m\u001b[0;34m.\u001b[0m\u001b[0mget\u001b[0m\u001b[0;34m(\u001b[0m\u001b[0murl\u001b[0m\u001b[0;34m)\u001b[0m\u001b[0;34m\u001b[0m\u001b[0;34m\u001b[0m\u001b[0m\n\u001b[1;32m    266\u001b[0m         \u001b[0;32mtry\u001b[0m\u001b[0;34m:\u001b[0m\u001b[0;34m\u001b[0m\u001b[0;34m\u001b[0m\u001b[0m\n\u001b[0;32m--> 267\u001b[0;31m             \u001b[0mdriver\u001b[0m\u001b[0;34m.\u001b[0m\u001b[0mfind_element_by_id\u001b[0m\u001b[0;34m(\u001b[0m\u001b[0;34m\"vis\"\u001b[0m\u001b[0;34m)\u001b[0m\u001b[0;34m\u001b[0m\u001b[0;34m\u001b[0m\u001b[0m\n\u001b[0m\u001b[1;32m    268\u001b[0m         \u001b[0;32mexcept\u001b[0m \u001b[0mNoSuchElementException\u001b[0m\u001b[0;34m:\u001b[0m\u001b[0;34m\u001b[0m\u001b[0;34m\u001b[0m\u001b[0m\n\u001b[1;32m    269\u001b[0m             \u001b[0;32mraise\u001b[0m \u001b[0mRuntimeError\u001b[0m\u001b[0;34m(\u001b[0m\u001b[0;34mf\"Could not load {url}\"\u001b[0m\u001b[0;34m)\u001b[0m\u001b[0;34m\u001b[0m\u001b[0;34m\u001b[0m\u001b[0m\n",
            "\u001b[0;31mAttributeError\u001b[0m: 'WebDriver' object has no attribute 'find_element_by_id'"
          ]
        }
      ]
    },
    {
      "cell_type": "code",
      "source": [
        "import altair as alt\n",
        "import pandas as pd\n",
        "\n",
        "# Load the data\n",
        "url = \"https://raw.githubusercontent.com/hcantekin/hcantekin.github.io/main/E62_fig3_data.csv\"\n",
        "data = pd.read_csv(url)\n",
        "\n",
        "# Create scatter plot with regression line for Total Compensation vs Returns to Shares\n",
        "scatter_total_comp = alt.Chart(data).mark_point(color='#36B7B4', filled=True).encode(\n",
        "    x=alt.X('return2:Q', title=\"Returns to Shares (%)\", axis=alt.Axis(titleX=40, format='.1f%')),\n",
        "    y=alt.Y('total_compensation:Q', title='Total Compensation', axis=alt.Axis(format='$~s'))\n",
        ").properties(\n",
        "    width=250,\n",
        "    height=300,\n",
        ")\n",
        "\n",
        "regression_total_comp = scatter_total_comp.transform_regression(\n",
        "    'return2', 'total_compensation'\n",
        ").mark_line(color='#E6224B')\n",
        "\n",
        "chart1 = scatter_total_comp + regression_total_comp\n",
        "\n",
        "# Create scatter plot with regression line for Bonus vs Returns to Shares\n",
        "scatter_bonus = alt.Chart(data).mark_point(color='#36B7B4', filled=True).encode(\n",
        "    x=alt.X('return2:Q', title='', axis=alt.Axis(titleX=40, format='.1f%')),\n",
        "    y=alt.Y('Bonus:Q', title='Bonus', axis=alt.Axis(format='$~s'))\n",
        ").properties(\n",
        "    width=250,\n",
        "    height=300,\n",
        ")\n",
        "\n",
        "regression_bonus = scatter_bonus.transform_regression(\n",
        "    'return2', 'Bonus'\n",
        ").mark_line(color='#E6224B')\n",
        "\n",
        "chart2 = scatter_bonus + regression_bonus\n",
        "\n",
        "# Combine the two charts\n",
        "combined_chart = alt.hconcat(chart1, chart2).configure_axis(\n",
        "    labelColor='#676A86',\n",
        "    titleColor='#676A86'\n",
        ").configure_view(\n",
        "    strokeOpacity=0\n",
        ").configure_point(\n",
        "    size=50\n",
        ")\n",
        "\n",
        "combined_chart\n"
      ],
      "metadata": {
        "colab": {
          "base_uri": "https://localhost:8080/",
          "height": 331
        },
        "id": "mVxl26GKpx1p",
        "outputId": "85f9d3e9-1227-4c69-c028-dd660dd4fc68"
      },
      "execution_count": 20,
      "outputs": [
        {
          "output_type": "execute_result",
          "data": {
            "text/html": [
              "\n",
              "<div id=\"altair-viz-8e3c9dd231d54ec0a030512729d0717d\"></div>\n",
              "<script type=\"text/javascript\">\n",
              "  var VEGA_DEBUG = (typeof VEGA_DEBUG == \"undefined\") ? {} : VEGA_DEBUG;\n",
              "  (function(spec, embedOpt){\n",
              "    let outputDiv = document.currentScript.previousElementSibling;\n",
              "    if (outputDiv.id !== \"altair-viz-8e3c9dd231d54ec0a030512729d0717d\") {\n",
              "      outputDiv = document.getElementById(\"altair-viz-8e3c9dd231d54ec0a030512729d0717d\");\n",
              "    }\n",
              "    const paths = {\n",
              "      \"vega\": \"https://cdn.jsdelivr.net/npm//vega@5?noext\",\n",
              "      \"vega-lib\": \"https://cdn.jsdelivr.net/npm//vega-lib?noext\",\n",
              "      \"vega-lite\": \"https://cdn.jsdelivr.net/npm//vega-lite@4.17.0?noext\",\n",
              "      \"vega-embed\": \"https://cdn.jsdelivr.net/npm//vega-embed@6?noext\",\n",
              "    };\n",
              "\n",
              "    function maybeLoadScript(lib, version) {\n",
              "      var key = `${lib.replace(\"-\", \"\")}_version`;\n",
              "      return (VEGA_DEBUG[key] == version) ?\n",
              "        Promise.resolve(paths[lib]) :\n",
              "        new Promise(function(resolve, reject) {\n",
              "          var s = document.createElement('script');\n",
              "          document.getElementsByTagName(\"head\")[0].appendChild(s);\n",
              "          s.async = true;\n",
              "          s.onload = () => {\n",
              "            VEGA_DEBUG[key] = version;\n",
              "            return resolve(paths[lib]);\n",
              "          };\n",
              "          s.onerror = () => reject(`Error loading script: ${paths[lib]}`);\n",
              "          s.src = paths[lib];\n",
              "        });\n",
              "    }\n",
              "\n",
              "    function showError(err) {\n",
              "      outputDiv.innerHTML = `<div class=\"error\" style=\"color:red;\">${err}</div>`;\n",
              "      throw err;\n",
              "    }\n",
              "\n",
              "    function displayChart(vegaEmbed) {\n",
              "      vegaEmbed(outputDiv, spec, embedOpt)\n",
              "        .catch(err => showError(`Javascript Error: ${err.message}<br>This usually means there's a typo in your chart specification. See the javascript console for the full traceback.`));\n",
              "    }\n",
              "\n",
              "    if(typeof define === \"function\" && define.amd) {\n",
              "      requirejs.config({paths});\n",
              "      require([\"vega-embed\"], displayChart, err => showError(`Error loading script: ${err.message}`));\n",
              "    } else {\n",
              "      maybeLoadScript(\"vega\", \"5\")\n",
              "        .then(() => maybeLoadScript(\"vega-lite\", \"4.17.0\"))\n",
              "        .then(() => maybeLoadScript(\"vega-embed\", \"6\"))\n",
              "        .catch(showError)\n",
              "        .then(() => displayChart(vegaEmbed));\n",
              "    }\n",
              "  })({\"config\": {\"font\": \"Circular Std\", \"mark\": {\"line\": {\"interpolate\": \"monotone\"}}, \"view\": {\"stroke\": \"transparent\", \"width\": 400, \"height\": 300, \"strokeOpacity\": 0}, \"range\": {\"category\": [\"#36B7B4\", \"#E6224B\", \"#F4C245\", \"#0063AF\", \"#00A767\", \"#179FDB\", \"#EB5C2E\"], \"diverging\": [\"#E6224B\", \"#E54753\", \"#C9C9C9\", \"#179FDB\", \"#122B39\"], \"heatmap\": [\"#C9C9C9\", \"#179FDB\", \"#0063AF\", \"#122B39\"], \"ordinal\": [\"#00A767\", \"#36B7B4\", \"#179FDB\", \"#0063AF\", \"#243B5A\"]}, \"axisX\": {\"domainColor\": \"#676A86\", \"domainOpacity\": 0.5, \"grid\": false, \"labelAngle\": 0, \"labelColor\": \"#676A86\", \"labelOpacity\": 0.7, \"orient\": \"bottom\", \"tickColor\": \"#676A86\", \"tickCount\": 10, \"tickOpacity\": 0.5, \"title\": false, \"titleAlign\": \"center\", \"titleAnchor\": \"middle\", \"titleColor\": \"#676A86\", \"titleFontSize\": 12, \"titleOpacity\": 0.8, \"titleY\": -15}, \"axisY\": {\"domainColor\": \"#676A86\", \"domainOpacity\": 0.5, \"gridColor\": \"#676A86\", \"gridDash\": [1, 5], \"gridOpacity\": 0.5, \"labelColor\": \"#676A86\", \"labelOpacity\": 0.7, \"labelPadding\": 5, \"tickColor\": \"#676A86\", \"tickCount\": 8, \"tickOpacity\": 0.5, \"ticks\": false, \"titleAlign\": \"left\", \"titleAngle\": 0, \"titleBaseline\": \"bottom\", \"titleColor\": \"#676A86\", \"titleFontSize\": 12, \"titleOpacity\": 0.8, \"titleX\": 0, \"titleY\": -7}, \"axis\": {\"labelColor\": \"#676A86\", \"titleColor\": \"#676A86\"}, \"point\": {\"size\": 50}}, \"hconcat\": [{\"layer\": [{\"mark\": {\"type\": \"point\", \"color\": \"#36B7B4\", \"filled\": true}, \"encoding\": {\"x\": {\"axis\": {\"format\": \".1f%\", \"titleX\": 40}, \"field\": \"return2\", \"title\": \"Returns to Shares (%)\", \"type\": \"quantitative\"}, \"y\": {\"axis\": {\"format\": \"$~s\"}, \"field\": \"total_compensation\", \"title\": \"Total Compensation\", \"type\": \"quantitative\"}}, \"height\": 300, \"width\": 250}, {\"mark\": {\"type\": \"line\", \"color\": \"#E6224B\"}, \"encoding\": {\"x\": {\"axis\": {\"format\": \".1f%\", \"titleX\": 40}, \"field\": \"return2\", \"title\": \"Returns to Shares (%)\", \"type\": \"quantitative\"}, \"y\": {\"axis\": {\"format\": \"$~s\"}, \"field\": \"total_compensation\", \"title\": \"Total Compensation\", \"type\": \"quantitative\"}}, \"height\": 300, \"transform\": [{\"on\": \"return2\", \"regression\": \"total_compensation\"}], \"width\": 250}]}, {\"layer\": [{\"mark\": {\"type\": \"point\", \"color\": \"#36B7B4\", \"filled\": true}, \"encoding\": {\"x\": {\"axis\": {\"format\": \".1f%\", \"titleX\": 40}, \"field\": \"return2\", \"title\": \"\", \"type\": \"quantitative\"}, \"y\": {\"axis\": {\"format\": \"$~s\"}, \"field\": \"Bonus\", \"title\": \"Bonus\", \"type\": \"quantitative\"}}, \"height\": 300, \"width\": 250}, {\"mark\": {\"type\": \"line\", \"color\": \"#E6224B\"}, \"encoding\": {\"x\": {\"axis\": {\"format\": \".1f%\", \"titleX\": 40}, \"field\": \"return2\", \"title\": \"\", \"type\": \"quantitative\"}, \"y\": {\"axis\": {\"format\": \"$~s\"}, \"field\": \"Bonus\", \"title\": \"Bonus\", \"type\": \"quantitative\"}}, \"height\": 300, \"transform\": [{\"on\": \"return2\", \"regression\": \"Bonus\"}], \"width\": 250}]}], \"data\": {\"name\": \"data-50ebebf330511ce5e6ba885237d64042\"}, \"$schema\": \"https://vega.github.io/schema/vega-lite/v4.17.0.json\", \"datasets\": {\"data-50ebebf330511ce5e6ba885237d64042\": [{\"Year\": 2022, \"total_return\": 0.0, \"total_compensation\": 1862000, \"Bonus\": 686000, \"return2\": -13.5495488}, {\"Year\": 2023, \"total_return\": 0.0, \"total_compensation\": 2433000, \"Bonus\": 1064000, \"return2\": 21.11942818}, {\"Year\": 2022, \"total_return\": 0.0, \"total_compensation\": 4771520, \"Bonus\": 787000, \"return2\": 15.05854062}, {\"Year\": 2023, \"total_return\": 0.0, \"total_compensation\": 3603000, \"Bonus\": 1046000, \"return2\": -35.27794392}, {\"Year\": 2022, \"total_return\": 0.0, \"total_compensation\": 2286000, \"Bonus\": 1084000, \"return2\": -19.35300697}, {\"Year\": 2023, \"total_return\": 1.0, \"total_compensation\": 4100000, \"Bonus\": 1167000, \"return2\": 54.25616037}, {\"Year\": 2022, \"total_return\": 0.0, \"total_compensation\": 2273011, \"Bonus\": 399085, \"return2\": -25.3221384}, {\"Year\": 2023, \"total_return\": 0.0, \"total_compensation\": 2064178, \"Bonus\": 296017, \"return2\": 31.32489253}, {\"Year\": 2022, \"total_return\": 0.0, \"total_compensation\": 5909000, \"Bonus\": 1777000, \"return2\": -19.45100396}, {\"Year\": 2023, \"total_return\": 0.0, \"total_compensation\": 8142000, \"Bonus\": 3120000, \"return2\": 17.36407676}, {\"Year\": 2022, \"total_return\": 0.0, \"total_compensation\": 5292000, \"Bonus\": 1846000, \"return2\": 23.59560415}, {\"Year\": 2023, \"total_return\": 0.0, \"total_compensation\": 4836000, \"Bonus\": 2020000, \"return2\": 12.1815388}, {\"Year\": 2022, \"total_return\": 0.0, \"total_compensation\": 1673000, \"Bonus\": 652000, \"return2\": -29.48194234}, {\"Year\": 2023, \"total_return\": 0.0, \"total_compensation\": 1281000, \"Bonus\": 648000, \"return2\": 41.97730166}, {\"Year\": 2022, \"total_return\": 0.0, \"total_compensation\": 5523000, \"Bonus\": 2001000, \"return2\": 15.60770431}, {\"Year\": 2022, \"total_return\": 0.0, \"total_compensation\": 8579000, \"Bonus\": 3127000, \"return2\": 32.41401722}, {\"Year\": 2023, \"total_return\": 0.0, \"total_compensation\": 12718000, \"Bonus\": 2839000, \"return2\": -3.520090306}, {\"Year\": 2022, \"total_return\": 0.0, \"total_compensation\": 8579000, \"Bonus\": 2490000, \"return2\": 49.17158112}, {\"Year\": 2023, \"total_return\": 0.0, \"total_compensation\": 12718000, \"Bonus\": 2613000, \"return2\": 33.29875057}, {\"Year\": 2022, \"total_return\": 0.0, \"total_compensation\": 5197000, \"Bonus\": 1949000, \"return2\": -12.06738821}, {\"Year\": 2023, \"total_return\": 0.0, \"total_compensation\": 4641000, \"Bonus\": 1425000, \"return2\": 1.641133547}, {\"Year\": 2022, \"total_return\": 0.0, \"total_compensation\": 4936000, \"Bonus\": 1186000, \"return2\": 28.15142929}, {\"Year\": 2023, \"total_return\": 0.0, \"total_compensation\": 4588000, \"Bonus\": 1650000, \"return2\": -23.45835625}, {\"Year\": 2022, \"total_return\": 0.0, \"total_compensation\": 2738000, \"Bonus\": 1151000, \"return2\": -41.47322953}, {\"Year\": 2023, \"total_return\": 1.0, \"total_compensation\": 1756000, \"Bonus\": 483000, \"return2\": 52.85047716}, {\"Year\": 2022, \"total_return\": 0.0, \"total_compensation\": 1507155, \"Bonus\": 787875, \"return2\": 49.17158112}, {\"Year\": 2023, \"total_return\": 0.0, \"total_compensation\": 3636444, \"Bonus\": 1875000, \"return2\": -21.45607357}, {\"Year\": 2022, \"total_return\": 0.0, \"total_compensation\": 1237665, \"Bonus\": 556640, \"return2\": -32.35537269}, {\"Year\": 2023, \"total_return\": 0.0, \"total_compensation\": 1609673, \"Bonus\": 668178, \"return2\": 46.37572967}, {\"Year\": 2022, \"total_return\": 0.0, \"total_compensation\": 4505100, \"Bonus\": 1657500, \"return2\": -2.392789714}, {\"Year\": 2023, \"total_return\": 0.0, \"total_compensation\": 6284900, \"Bonus\": 1609900, \"return2\": 18.01109004}, {\"Year\": 2022, \"total_return\": 0.0, \"total_compensation\": 5428000, \"Bonus\": 1404000, \"return2\": 49.17158112}, {\"Year\": 2023, \"total_return\": 0.0, \"total_compensation\": 8034000, \"Bonus\": 1839000, \"return2\": 2.612760471}, {\"Year\": 2023, \"total_return\": 0.0, \"total_compensation\": 4289000, \"Bonus\": 1298000, \"return2\": -27.92806602}, {\"Year\": 2022, \"total_return\": 0.0, \"total_compensation\": 4073000, \"Bonus\": 911000, \"return2\": -20.20471904}, {\"Year\": 2022, \"total_return\": 0.0, \"total_compensation\": 4490000, \"Bonus\": 1422000, \"return2\": 36.96543549}, {\"Year\": 2023, \"total_return\": 0.0, \"total_compensation\": 8231000, \"Bonus\": 1426000, \"return2\": 49.51992295}, {\"Year\": 2022, \"total_return\": 0.0, \"total_compensation\": 3299000, \"Bonus\": 2090000, \"return2\": 17.72177123}, {\"Year\": 2023, \"total_return\": 0.0, \"total_compensation\": 7494000, \"Bonus\": 2190000, \"return2\": 14.00016268}, {\"Year\": 2022, \"total_return\": 0.0, \"total_compensation\": 4155280, \"Bonus\": 1074686, \"return2\": -33.78522276}, {\"Year\": 2022, \"total_return\": 0.0, \"total_compensation\": 4419000, \"Bonus\": 1339000, \"return2\": 22.95859121}, {\"Year\": 2023, \"total_return\": 0.0, \"total_compensation\": 4264000, \"Bonus\": 1873000, \"return2\": 7.393047303}, {\"Year\": 2022, \"total_return\": 0.0, \"total_compensation\": 3697000, \"Bonus\": 1653000, \"return2\": -30.16394754}, {\"Year\": 2023, \"total_return\": 0.0, \"total_compensation\": 3106000, \"Bonus\": 1008000, \"return2\": 47.19552072}, {\"Year\": 2023, \"total_return\": 0.0, \"total_compensation\": 402000, \"Bonus\": 79000, \"return2\": -19.89059771}, {\"Year\": 2022, \"total_return\": 0.0, \"total_compensation\": 3758000, \"Bonus\": 889000, \"return2\": -16.37230663}, {\"Year\": 2023, \"total_return\": 0.0, \"total_compensation\": 4118000, \"Bonus\": 943000, \"return2\": 31.56315557}, {\"Year\": 2022, \"total_return\": 0.0, \"total_compensation\": 8579000, \"Bonus\": 1982000, \"return2\": -21.27756952}, {\"Year\": 2023, \"total_return\": 0.0, \"total_compensation\": 7371000, \"Bonus\": 1199000, \"return2\": 15.56270576}, {\"Year\": 2022, \"total_return\": 0.0, \"total_compensation\": 2034000, \"Bonus\": 1201000, \"return2\": -41.61870503}, {\"Year\": 2023, \"total_return\": 1.0, \"total_compensation\": 2194000, \"Bonus\": 1326000, \"return2\": 57.11645102}, {\"Year\": 2022, \"total_return\": 0.0, \"total_compensation\": 4733000, \"Bonus\": 1110000, \"return2\": -3.996598634}, {\"Year\": 2023, \"total_return\": 0.0, \"total_compensation\": 4535000, \"Bonus\": 3206000, \"return2\": 23.47209922}, {\"Year\": 2022, \"total_return\": 0.0, \"total_compensation\": 6071000, \"Bonus\": 3842000, \"return2\": 49.17158112}, {\"Year\": 2023, \"total_return\": 0.0, \"total_compensation\": 5833000, \"Bonus\": 3808500, \"return2\": -6.134251164}, {\"Year\": 2022, \"total_return\": 0.0, \"total_compensation\": 8449000, \"Bonus\": 3143000, \"return2\": -7.347770216}, {\"Year\": 2023, \"total_return\": 0.0, \"total_compensation\": 12718000, \"Bonus\": 3774000, \"return2\": 4.941998545}, {\"Year\": 2023, \"total_return\": 0.0, \"total_compensation\": 1552833, \"Bonus\": 554213, \"return2\": 18.36500407}, {\"Year\": 2022, \"total_return\": 0.0, \"total_compensation\": 1940000, \"Bonus\": 887000, \"return2\": -37.7287222}, {\"Year\": 2023, \"total_return\": 0.0, \"total_compensation\": 2335000, \"Bonus\": 845000, \"return2\": 16.77418076}, {\"Year\": 2022, \"total_return\": 0.0, \"total_compensation\": 2350000, \"Bonus\": 1014000, \"return2\": 6.161829093}, {\"Year\": 2023, \"total_return\": 0.0, \"total_compensation\": 5763000, \"Bonus\": 1880000, \"return2\": -0.463845769}, {\"Year\": 2022, \"total_return\": 0.0, \"total_compensation\": 5562000, \"Bonus\": 2195000, \"return2\": 20.0096312}, {\"Year\": 2023, \"total_return\": 0.0, \"total_compensation\": 10644000, \"Bonus\": 2063000, \"return2\": 31.95964694}, {\"Year\": 2022, \"total_return\": 0.0, \"total_compensation\": 2571000, \"Bonus\": 1004000, \"return2\": -35.8275235}, {\"Year\": 2023, \"total_return\": 0.0, \"total_compensation\": 2517000, \"Bonus\": 334000, \"return2\": 49.47813643}, {\"Year\": 2022, \"total_return\": 0.0, \"total_compensation\": 3026000, \"Bonus\": 1608000, \"return2\": -13.08253791}, {\"Year\": 2023, \"total_return\": 0.0, \"total_compensation\": 3526000, \"Bonus\": 1624000, \"return2\": 25.16149871}, {\"Year\": 2022, \"total_return\": 0.0, \"total_compensation\": 7851000, \"Bonus\": 3842000, \"return2\": -46.53130365}, {\"Year\": 2023, \"total_return\": 1.0, \"total_compensation\": 7267600, \"Bonus\": 3808500, \"return2\": 54.25298842}, {\"Year\": 2022, \"total_return\": 0.0, \"total_compensation\": 3339000, \"Bonus\": 1349000, \"return2\": 1.352228304}, {\"Year\": 2023, \"total_return\": 1.0, \"total_compensation\": 3850000, \"Bonus\": 1403000, \"return2\": 52.61993695}, {\"Year\": 2022, \"total_return\": 0.0, \"total_compensation\": 6215000, \"Bonus\": 2613000, \"return2\": -3.360544563}, {\"Year\": 2023, \"total_return\": 1.0, \"total_compensation\": 8542000, \"Bonus\": 2357000, \"return2\": 59.02733693}, {\"Year\": 2022, \"total_return\": 0.0, \"total_compensation\": 5432000, \"Bonus\": 2185000, \"return2\": 37.87134801}, {\"Year\": 2023, \"total_return\": 0.0, \"total_compensation\": 8601000, \"Bonus\": 1919000, \"return2\": -5.770424182}, {\"Year\": 2022, \"total_return\": 0.0, \"total_compensation\": 3710000, \"Bonus\": 757000, \"return2\": -24.40755446}, {\"Year\": 2022, \"total_return\": 0.0, \"total_compensation\": 4103002, \"Bonus\": 785593, \"return2\": 20.54977731}, {\"Year\": 2023, \"total_return\": 0.0, \"total_compensation\": 4192423, \"Bonus\": 789473, \"return2\": 28.29373809}, {\"Year\": 2022, \"total_return\": 0.0, \"total_compensation\": 3080000, \"Bonus\": 415000, \"return2\": -26.60071575}, {\"Year\": 2023, \"total_return\": 0.0, \"total_compensation\": 5088000, \"Bonus\": 1417000, \"return2\": 8.004918135}, {\"Year\": 2022, \"total_return\": 0.0, \"total_compensation\": 1887800, \"Bonus\": 634400, \"return2\": -26.48175919}, {\"Year\": 2023, \"total_return\": 0.0, \"total_compensation\": 1964400, \"Bonus\": 265200, \"return2\": 8.787554574}, {\"Year\": 2024, \"total_return\": null, \"total_compensation\": 5073100, \"Bonus\": 364900, \"return2\": 0.0}, {\"Year\": 2022, \"total_return\": 0.0, \"total_compensation\": 2000000, \"Bonus\": 1085000, \"return2\": -15.31232503}, {\"Year\": 2023, \"total_return\": 0.0, \"total_compensation\": 2657000, \"Bonus\": 615000, \"return2\": 20.81696328}, {\"Year\": 2022, \"total_return\": 0.0, \"total_compensation\": 3767000, \"Bonus\": 1338000, \"return2\": -0.414410583}, {\"Year\": 2023, \"total_return\": 0.0, \"total_compensation\": 3681000, \"Bonus\": 1277000, \"return2\": 10.85677568}, {\"Year\": 2022, \"total_return\": 0.0, \"total_compensation\": 4854000, \"Bonus\": 1433000, \"return2\": 4.274232551}, {\"Year\": 2023, \"total_return\": 0.0, \"total_compensation\": 5127000, \"Bonus\": 1582000, \"return2\": 31.77133412}, {\"Year\": 2022, \"total_return\": 0.0, \"total_compensation\": 4196451, \"Bonus\": 1798556, \"return2\": -19.7364473}, {\"Year\": 2023, \"total_return\": 0.0, \"total_compensation\": 3226277, \"Bonus\": 575934, \"return2\": 14.49622452}, {\"Year\": 2022, \"total_return\": 0.0, \"total_compensation\": 1173229, \"Bonus\": 255000, \"return2\": 2.42105369}, {\"Year\": 2023, \"total_return\": 0.0, \"total_compensation\": 2746000, \"Bonus\": 1748000, \"return2\": 31.33111129}, {\"Year\": 2022, \"total_return\": 0.0, \"total_compensation\": 1000000, \"Bonus\": 464000, \"return2\": -14.55781053}, {\"Year\": 2023, \"total_return\": 1.0, \"total_compensation\": 1025000, \"Bonus\": 463000, \"return2\": 59.02733693}, {\"Year\": 2022, \"total_return\": 0.0, \"total_compensation\": 6614000, \"Bonus\": 1116000, \"return2\": -1.351339788}, {\"Year\": 2023, \"total_return\": 0.0, \"total_compensation\": 7248000, \"Bonus\": 1118000, \"return2\": 11.976158}, {\"Year\": 2023, \"total_return\": 0.0, \"total_compensation\": 2299942, \"Bonus\": 245000, \"return2\": -12.10154114}, {\"Year\": 2022, \"total_return\": 0.0, \"total_compensation\": 4148000, \"Bonus\": 1236000, \"return2\": -24.96927881}, {\"Year\": 2023, \"total_return\": 0.0, \"total_compensation\": 2529000, \"Bonus\": 701000, \"return2\": 43.9714703}, {\"Year\": 2024, \"total_return\": null, \"total_compensation\": 4520000, \"Bonus\": 1362000, \"return2\": 0.0}, {\"Year\": 2022, \"total_return\": -1.0, \"total_compensation\": 2004000, \"Bonus\": 1191000, \"return2\": -60.31495495}, {\"Year\": 2023, \"total_return\": 0.0, \"total_compensation\": 1957000, \"Bonus\": 1106000, \"return2\": 22.95719845}, {\"Year\": 2022, \"total_return\": 0.0, \"total_compensation\": 3112000, \"Bonus\": 1053000, \"return2\": 0.924753016}, {\"Year\": 2023, \"total_return\": 0.0, \"total_compensation\": 2901000, \"Bonus\": 1227000, \"return2\": -2.7812282}, {\"Year\": 2023, \"total_return\": 0.0, \"total_compensation\": 12535658, \"Bonus\": 2638000, \"return2\": -20.08706508}, {\"Year\": 2022, \"total_return\": -1.0, \"total_compensation\": 2143563, \"Bonus\": 1087021, \"return2\": -57.38795518}, {\"Year\": 2023, \"total_return\": 0.0, \"total_compensation\": 2252464, \"Bonus\": 1271887, \"return2\": 14.13311422}, {\"Year\": 2022, \"total_return\": 0.0, \"total_compensation\": 8579000, \"Bonus\": 2046000, \"return2\": -2.724070549}, {\"Year\": 2023, \"total_return\": 0.0, \"total_compensation\": 12718000, \"Bonus\": 2396000, \"return2\": 38.85297027}, {\"Year\": 2022, \"total_return\": 0.0, \"total_compensation\": 5235000, \"Bonus\": 694000, \"return2\": 31.92337893}, {\"Year\": 2023, \"total_return\": 0.0, \"total_compensation\": 6074000, \"Bonus\": 860000, \"return2\": 7.029458036}, {\"Year\": 2023, \"total_return\": 0.0, \"total_compensation\": 3619373, \"Bonus\": 1845900, \"return2\": -2.844160764}, {\"Year\": 2023, \"total_return\": 0.0, \"total_compensation\": 1346649, \"Bonus\": 717269, \"return2\": 14.32085757}, {\"Year\": 2023, \"total_return\": 1.0, \"total_compensation\": 12718000, \"Bonus\": 3808500, \"return2\": 59.02733693}, {\"Year\": 2022, \"total_return\": 0.0, \"total_compensation\": 4324300, \"Bonus\": 1599900, \"return2\": -11.92313862}, {\"Year\": 2023, \"total_return\": 0.0, \"total_compensation\": 3339900, \"Bonus\": 981000, \"return2\": -12.07594501}, {\"Year\": 2022, \"total_return\": 0.0, \"total_compensation\": 3599000, \"Bonus\": 1675000, \"return2\": -15.81913012}, {\"Year\": 2023, \"total_return\": 0.0, \"total_compensation\": 4947000, \"Bonus\": 1700000, \"return2\": 45.87378838}, {\"Year\": 2022, \"total_return\": 0.0, \"total_compensation\": 4696000, \"Bonus\": 3842000, \"return2\": -25.09136543}, {\"Year\": 2023, \"total_return\": 0.0, \"total_compensation\": 6190000, \"Bonus\": 3808500, \"return2\": 3.544513775}, {\"Year\": 2022, \"total_return\": 0.0, \"total_compensation\": 2524000, \"Bonus\": 1237000, \"return2\": -10.43421764}, {\"Year\": 2023, \"total_return\": 1.0, \"total_compensation\": 4000000, \"Bonus\": 993000, \"return2\": 59.02733693}, {\"Year\": 2022, \"total_return\": 0.0, \"total_compensation\": 3915000, \"Bonus\": 1065000, \"return2\": -45.75621166}, {\"Year\": 2023, \"total_return\": 0.0, \"total_compensation\": 2883000, \"Bonus\": 958000, \"return2\": 20.25640134}, {\"Year\": 2023, \"total_return\": 0.0, \"total_compensation\": 7940000, \"Bonus\": 2710000, \"return2\": 15.03875447}, {\"Year\": 2022, \"total_return\": 0.0, \"total_compensation\": 5534000, \"Bonus\": 1674000, \"return2\": -21.45784498}, {\"Year\": 2022, \"total_return\": 0.0, \"total_compensation\": 2580000, \"Bonus\": 1618000, \"return2\": -9.733917373}, {\"Year\": 2023, \"total_return\": 0.0, \"total_compensation\": 4190000, \"Bonus\": 1677000, \"return2\": 1.459111933}, {\"Year\": 2022, \"total_return\": 0.0, \"total_compensation\": 5955246, \"Bonus\": 3842000, \"return2\": -11.83306694}, {\"Year\": 2023, \"total_return\": 0.0, \"total_compensation\": 4658252, \"Bonus\": 3080526, \"return2\": 0.043901527}, {\"Year\": 2022, \"total_return\": 0.0, \"total_compensation\": 2156266, \"Bonus\": 388413, \"return2\": -33.080459}, {\"Year\": 2023, \"total_return\": 0.0, \"total_compensation\": 795172, \"Bonus\": 66181, \"return2\": 0.42564555}, {\"Year\": 2022, \"total_return\": 0.0, \"total_compensation\": 4655000, \"Bonus\": 3292000, \"return2\": 9.166329831}, {\"Year\": 2023, \"total_return\": 0.0, \"total_compensation\": 4627000, \"Bonus\": 3281000, \"return2\": 14.68351132}, {\"Year\": 2022, \"total_return\": 0.0, \"total_compensation\": 6408000, \"Bonus\": 1499000, \"return2\": 41.38737727}, {\"Year\": 2023, \"total_return\": 0.0, \"total_compensation\": 7837000, \"Bonus\": 1462000, \"return2\": 9.416827674}, {\"Year\": 2022, \"total_return\": 0.0, \"total_compensation\": 3948400, \"Bonus\": 737600, \"return2\": -6.652967309}, {\"Year\": 2023, \"total_return\": 0.0, \"total_compensation\": 3209300, \"Bonus\": 358800, \"return2\": 1.37689235}, {\"Year\": 2022, \"total_return\": 0.0, \"total_compensation\": 4745000, \"Bonus\": 3206000, \"return2\": -18.80182487}, {\"Year\": 2023, \"total_return\": 0.0, \"total_compensation\": 4443000, \"Bonus\": 2730000, \"return2\": 34.74331481}, {\"Year\": 2022, \"total_return\": 0.0, \"total_compensation\": 1629000, \"Bonus\": 730000, \"return2\": -36.91722856}, {\"Year\": 2023, \"total_return\": 1.0, \"total_compensation\": 2185000, \"Bonus\": 1054000, \"return2\": 56.95714759}, {\"Year\": 2023, \"total_return\": 0.0, \"total_compensation\": 4670406, \"Bonus\": 1862000, \"return2\": -5.760624993}, {\"Year\": 2022, \"total_return\": 0.0, \"total_compensation\": 858555, \"Bonus\": 207270, \"return2\": -17.15353444}, {\"Year\": 2023, \"total_return\": 0.0, \"total_compensation\": 1377895, \"Bonus\": 332482, \"return2\": 18.84415338}, {\"Year\": 2023, \"total_return\": 0.0, \"total_compensation\": 875490, \"Bonus\": 210000, \"return2\": 11.81863185}, {\"Year\": 2022, \"total_return\": 0.0, \"total_compensation\": 2687000, \"Bonus\": 968000, \"return2\": -19.41635568}, {\"Year\": 2023, \"total_return\": 0.0, \"total_compensation\": 3689000, \"Bonus\": 1206000, \"return2\": -9.726707387}, {\"Year\": 2022, \"total_return\": 0.0, \"total_compensation\": 2512408, \"Bonus\": 941186, \"return2\": -0.891190879}, {\"Year\": 2023, \"total_return\": 0.0, \"total_compensation\": 2774255, \"Bonus\": 1022519, \"return2\": 15.2815243}, {\"Year\": 2022, \"total_return\": 0.0, \"total_compensation\": 6682000, \"Bonus\": 2395000, \"return2\": -23.64008604}, {\"Year\": 2023, \"total_return\": 0.0, \"total_compensation\": 4498000, \"Bonus\": 1289000, \"return2\": -3.678537431}, {\"Year\": 2023, \"total_return\": 0.0, \"total_compensation\": 3070372, \"Bonus\": 179000, \"return2\": 45.90891814}]}}, {\"mode\": \"vega-lite\"});\n",
              "</script>"
            ],
            "text/plain": [
              "alt.HConcatChart(...)"
            ]
          },
          "metadata": {},
          "execution_count": 20
        }
      ]
    }
  ]
}