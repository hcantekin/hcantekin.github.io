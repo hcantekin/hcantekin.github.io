{
  "nbformat": 4,
  "nbformat_minor": 0,
  "metadata": {
    "colab": {
      "provenance": [],
      "authorship_tag": "ABX9TyN806L1fcruT7yr+GyL7MXf",
      "include_colab_link": true
    },
    "kernelspec": {
      "name": "python3",
      "display_name": "Python 3"
    },
    "language_info": {
      "name": "python"
    }
  },
  "cells": [
    {
      "cell_type": "markdown",
      "metadata": {
        "id": "view-in-github",
        "colab_type": "text"
      },
      "source": [
        "<a href=\"https://colab.research.google.com/github/hcantekin/hcantekin.github.io/blob/main/MLlinreg.ipynb\" target=\"_parent\"><img src=\"https://colab.research.google.com/assets/colab-badge.svg\" alt=\"Open In Colab\"/></a>"
      ]
    },
    {
      "cell_type": "code",
      "execution_count": 185,
      "metadata": {
        "id": "J80zuT40O1ou"
      },
      "outputs": [],
      "source": [
        "import pandas as pd\n",
        "import numpy as np\n",
        "from sklearn.linear_model import LinearRegression\n",
        "from sklearn.metrics import mean_squared_error, r2_score\n",
        "import matplotlib.pyplot as plt\n",
        "from sklearn.model_selection import train_test_split\n",
        "import seaborn as sns\n",
        "%matplotlib inline\n"
      ]
    },
    {
      "cell_type": "code",
      "source": [
        "df = pd.read_csv('USadsRegion.csv')\n",
        "df.head()\n"
      ],
      "metadata": {
        "id": "OtAjdY9pPfwA",
        "colab": {
          "base_uri": "https://localhost:8080/",
          "height": 206
        },
        "outputId": "292b468d-0a64-43de-b70d-f3435c7794a5"
      },
      "execution_count": 186,
      "outputs": [
        {
          "output_type": "execute_result",
          "data": {
            "text/plain": [
              "        State  DEM_Ads    DEM_pc  REP_Ads    REP_pc  Population  gdppc_th  \\\n",
              "0     Alabama    29160  2.006086     7415  1.779009        5.04    41.664   \n",
              "1      Alaska    21745  1.495965     6558  1.573398        0.73    69.430   \n",
              "2     Arizona    33043  2.273220    11553  2.771800        7.28    47.779   \n",
              "3    Arkansas    27597  1.898558     7416  1.779249        3.03    40.764   \n",
              "4  California    32186  2.214262     7749  1.859143       39.24    73.264   \n",
              "\n",
              "   total_don  DEM_don  REP_don     gdp   gini  \n",
              "0   45856354    15.35    78.77   247.09  0.48  \n",
              "1   10425219    31.56    63.12    54.97  0.44  \n",
              "2   70412397    47.89    47.25   411.19  0.46  \n",
              "3   40513929    16.70    79.19   144.55  0.48  \n",
              "4  723813338    67.47    27.95  3356.63  0.49  "
            ],
            "text/html": [
              "\n",
              "  <div id=\"df-3402bed1-b2aa-4707-aeb5-1710f734242a\">\n",
              "    <div class=\"colab-df-container\">\n",
              "      <div>\n",
              "<style scoped>\n",
              "    .dataframe tbody tr th:only-of-type {\n",
              "        vertical-align: middle;\n",
              "    }\n",
              "\n",
              "    .dataframe tbody tr th {\n",
              "        vertical-align: top;\n",
              "    }\n",
              "\n",
              "    .dataframe thead th {\n",
              "        text-align: right;\n",
              "    }\n",
              "</style>\n",
              "<table border=\"1\" class=\"dataframe\">\n",
              "  <thead>\n",
              "    <tr style=\"text-align: right;\">\n",
              "      <th></th>\n",
              "      <th>State</th>\n",
              "      <th>DEM_Ads</th>\n",
              "      <th>DEM_pc</th>\n",
              "      <th>REP_Ads</th>\n",
              "      <th>REP_pc</th>\n",
              "      <th>Population</th>\n",
              "      <th>gdppc_th</th>\n",
              "      <th>total_don</th>\n",
              "      <th>DEM_don</th>\n",
              "      <th>REP_don</th>\n",
              "      <th>gdp</th>\n",
              "      <th>gini</th>\n",
              "    </tr>\n",
              "  </thead>\n",
              "  <tbody>\n",
              "    <tr>\n",
              "      <th>0</th>\n",
              "      <td>Alabama</td>\n",
              "      <td>29160</td>\n",
              "      <td>2.006086</td>\n",
              "      <td>7415</td>\n",
              "      <td>1.779009</td>\n",
              "      <td>5.04</td>\n",
              "      <td>41.664</td>\n",
              "      <td>45856354</td>\n",
              "      <td>15.35</td>\n",
              "      <td>78.77</td>\n",
              "      <td>247.09</td>\n",
              "      <td>0.48</td>\n",
              "    </tr>\n",
              "    <tr>\n",
              "      <th>1</th>\n",
              "      <td>Alaska</td>\n",
              "      <td>21745</td>\n",
              "      <td>1.495965</td>\n",
              "      <td>6558</td>\n",
              "      <td>1.573398</td>\n",
              "      <td>0.73</td>\n",
              "      <td>69.430</td>\n",
              "      <td>10425219</td>\n",
              "      <td>31.56</td>\n",
              "      <td>63.12</td>\n",
              "      <td>54.97</td>\n",
              "      <td>0.44</td>\n",
              "    </tr>\n",
              "    <tr>\n",
              "      <th>2</th>\n",
              "      <td>Arizona</td>\n",
              "      <td>33043</td>\n",
              "      <td>2.273220</td>\n",
              "      <td>11553</td>\n",
              "      <td>2.771800</td>\n",
              "      <td>7.28</td>\n",
              "      <td>47.779</td>\n",
              "      <td>70412397</td>\n",
              "      <td>47.89</td>\n",
              "      <td>47.25</td>\n",
              "      <td>411.19</td>\n",
              "      <td>0.46</td>\n",
              "    </tr>\n",
              "    <tr>\n",
              "      <th>3</th>\n",
              "      <td>Arkansas</td>\n",
              "      <td>27597</td>\n",
              "      <td>1.898558</td>\n",
              "      <td>7416</td>\n",
              "      <td>1.779249</td>\n",
              "      <td>3.03</td>\n",
              "      <td>40.764</td>\n",
              "      <td>40513929</td>\n",
              "      <td>16.70</td>\n",
              "      <td>79.19</td>\n",
              "      <td>144.55</td>\n",
              "      <td>0.48</td>\n",
              "    </tr>\n",
              "    <tr>\n",
              "      <th>4</th>\n",
              "      <td>California</td>\n",
              "      <td>32186</td>\n",
              "      <td>2.214262</td>\n",
              "      <td>7749</td>\n",
              "      <td>1.859143</td>\n",
              "      <td>39.24</td>\n",
              "      <td>73.264</td>\n",
              "      <td>723813338</td>\n",
              "      <td>67.47</td>\n",
              "      <td>27.95</td>\n",
              "      <td>3356.63</td>\n",
              "      <td>0.49</td>\n",
              "    </tr>\n",
              "  </tbody>\n",
              "</table>\n",
              "</div>\n",
              "      <button class=\"colab-df-convert\" onclick=\"convertToInteractive('df-3402bed1-b2aa-4707-aeb5-1710f734242a')\"\n",
              "              title=\"Convert this dataframe to an interactive table.\"\n",
              "              style=\"display:none;\">\n",
              "        \n",
              "  <svg xmlns=\"http://www.w3.org/2000/svg\" height=\"24px\"viewBox=\"0 0 24 24\"\n",
              "       width=\"24px\">\n",
              "    <path d=\"M0 0h24v24H0V0z\" fill=\"none\"/>\n",
              "    <path d=\"M18.56 5.44l.94 2.06.94-2.06 2.06-.94-2.06-.94-.94-2.06-.94 2.06-2.06.94zm-11 1L8.5 8.5l.94-2.06 2.06-.94-2.06-.94L8.5 2.5l-.94 2.06-2.06.94zm10 10l.94 2.06.94-2.06 2.06-.94-2.06-.94-.94-2.06-.94 2.06-2.06.94z\"/><path d=\"M17.41 7.96l-1.37-1.37c-.4-.4-.92-.59-1.43-.59-.52 0-1.04.2-1.43.59L10.3 9.45l-7.72 7.72c-.78.78-.78 2.05 0 2.83L4 21.41c.39.39.9.59 1.41.59.51 0 1.02-.2 1.41-.59l7.78-7.78 2.81-2.81c.8-.78.8-2.07 0-2.86zM5.41 20L4 18.59l7.72-7.72 1.47 1.35L5.41 20z\"/>\n",
              "  </svg>\n",
              "      </button>\n",
              "      \n",
              "  <style>\n",
              "    .colab-df-container {\n",
              "      display:flex;\n",
              "      flex-wrap:wrap;\n",
              "      gap: 12px;\n",
              "    }\n",
              "\n",
              "    .colab-df-convert {\n",
              "      background-color: #E8F0FE;\n",
              "      border: none;\n",
              "      border-radius: 50%;\n",
              "      cursor: pointer;\n",
              "      display: none;\n",
              "      fill: #1967D2;\n",
              "      height: 32px;\n",
              "      padding: 0 0 0 0;\n",
              "      width: 32px;\n",
              "    }\n",
              "\n",
              "    .colab-df-convert:hover {\n",
              "      background-color: #E2EBFA;\n",
              "      box-shadow: 0px 1px 2px rgba(60, 64, 67, 0.3), 0px 1px 3px 1px rgba(60, 64, 67, 0.15);\n",
              "      fill: #174EA6;\n",
              "    }\n",
              "\n",
              "    [theme=dark] .colab-df-convert {\n",
              "      background-color: #3B4455;\n",
              "      fill: #D2E3FC;\n",
              "    }\n",
              "\n",
              "    [theme=dark] .colab-df-convert:hover {\n",
              "      background-color: #434B5C;\n",
              "      box-shadow: 0px 1px 3px 1px rgba(0, 0, 0, 0.15);\n",
              "      filter: drop-shadow(0px 1px 2px rgba(0, 0, 0, 0.3));\n",
              "      fill: #FFFFFF;\n",
              "    }\n",
              "  </style>\n",
              "\n",
              "      <script>\n",
              "        const buttonEl =\n",
              "          document.querySelector('#df-3402bed1-b2aa-4707-aeb5-1710f734242a button.colab-df-convert');\n",
              "        buttonEl.style.display =\n",
              "          google.colab.kernel.accessAllowed ? 'block' : 'none';\n",
              "\n",
              "        async function convertToInteractive(key) {\n",
              "          const element = document.querySelector('#df-3402bed1-b2aa-4707-aeb5-1710f734242a');\n",
              "          const dataTable =\n",
              "            await google.colab.kernel.invokeFunction('convertToInteractive',\n",
              "                                                     [key], {});\n",
              "          if (!dataTable) return;\n",
              "\n",
              "          const docLinkHtml = 'Like what you see? Visit the ' +\n",
              "            '<a target=\"_blank\" href=https://colab.research.google.com/notebooks/data_table.ipynb>data table notebook</a>'\n",
              "            + ' to learn more about interactive tables.';\n",
              "          element.innerHTML = '';\n",
              "          dataTable['output_type'] = 'display_data';\n",
              "          await google.colab.output.renderOutput(dataTable, element);\n",
              "          const docLink = document.createElement('div');\n",
              "          docLink.innerHTML = docLinkHtml;\n",
              "          element.appendChild(docLink);\n",
              "        }\n",
              "      </script>\n",
              "    </div>\n",
              "  </div>\n",
              "  "
            ]
          },
          "metadata": {},
          "execution_count": 186
        }
      ]
    },
    {
      "cell_type": "code",
      "source": [
        "X = df.drop(['State', 'DEM_pc', 'REP_Ads', 'REP_pc','REP_don', 'DEM_don', 'gdppc_th', 'total_don', 'DEM_Ads', 'gdp ', 'gini'], axis=1).values\n",
        "Y = df.DEM_Ads.values\n",
        "\n",
        "X"
      ],
      "metadata": {
        "colab": {
          "base_uri": "https://localhost:8080/"
        },
        "id": "SWoC1sBv5Nl-",
        "outputId": "268d509b-958a-4d6a-c1da-2edbd064c809"
      },
      "execution_count": 187,
      "outputs": [
        {
          "output_type": "execute_result",
          "data": {
            "text/plain": [
              "array([[ 5.04],\n",
              "       [ 0.73],\n",
              "       [ 7.28],\n",
              "       [ 3.03],\n",
              "       [39.24],\n",
              "       [ 5.81],\n",
              "       [ 3.61],\n",
              "       [ 1.  ],\n",
              "       [21.78],\n",
              "       [10.8 ],\n",
              "       [ 1.44],\n",
              "       [ 1.9 ],\n",
              "       [12.67],\n",
              "       [ 6.81],\n",
              "       [ 3.19],\n",
              "       [ 2.93],\n",
              "       [ 4.51],\n",
              "       [ 4.62],\n",
              "       [ 1.37],\n",
              "       [ 6.17],\n",
              "       [ 6.98],\n",
              "       [10.05],\n",
              "       [ 5.71],\n",
              "       [ 2.95],\n",
              "       [ 6.17],\n",
              "       [ 1.1 ],\n",
              "       [ 1.96],\n",
              "       [ 3.14],\n",
              "       [ 1.39],\n",
              "       [ 9.27],\n",
              "       [ 2.12],\n",
              "       [19.84],\n",
              "       [10.55],\n",
              "       [ 0.77],\n",
              "       [11.78],\n",
              "       [ 3.99],\n",
              "       [ 4.25],\n",
              "       [12.96],\n",
              "       [ 1.1 ],\n",
              "       [ 5.19],\n",
              "       [ 0.9 ],\n",
              "       [ 6.98],\n",
              "       [29.53],\n",
              "       [ 3.34],\n",
              "       [ 0.65],\n",
              "       [ 8.64],\n",
              "       [ 7.74],\n",
              "       [ 1.78],\n",
              "       [ 5.9 ],\n",
              "       [ 0.58]])"
            ]
          },
          "metadata": {},
          "execution_count": 187
        }
      ]
    },
    {
      "cell_type": "code",
      "source": [
        "X_train, X_test, Y_train, Y_test = train_test_split(X, Y, test_size=0.2)\n"
      ],
      "metadata": {
        "id": "bXW5vhVSopDf"
      },
      "execution_count": 188,
      "outputs": []
    },
    {
      "cell_type": "code",
      "source": [
        "regressor = LinearRegression() \n",
        "\n",
        "regressor.fit(X_train, Y_train) "
      ],
      "metadata": {
        "colab": {
          "base_uri": "https://localhost:8080/"
        },
        "id": "7zKe0iYp_TYI",
        "outputId": "6a3c3286-3bb6-4eb7-ee22-ff3a8efa71a3"
      },
      "execution_count": 189,
      "outputs": [
        {
          "output_type": "execute_result",
          "data": {
            "text/plain": [
              "LinearRegression()"
            ]
          },
          "metadata": {},
          "execution_count": 189
        }
      ]
    },
    {
      "cell_type": "code",
      "source": [
        "y_pred = regressor.predict(X_test)"
      ],
      "metadata": {
        "id": "fKb-kYEO_YS_"
      },
      "execution_count": 190,
      "outputs": []
    },
    {
      "cell_type": "code",
      "source": [
        "plt.scatter(X_train, Y_train,color='purple',alpha=.6) \n",
        "plt.title('Online Democratic Ads by State Population')\n",
        "plt.plot(X_test, y_pred, color='black') \n",
        "plt.xlabel('Population (millions)')\n",
        "plt.ylabel('Number of Adverts')"
      ],
      "metadata": {
        "colab": {
          "base_uri": "https://localhost:8080/",
          "height": 313
        },
        "id": "vb3_fdLh_bbf",
        "outputId": "a7518c16-accd-4598-9da1-5839052dee4f"
      },
      "execution_count": 192,
      "outputs": [
        {
          "output_type": "execute_result",
          "data": {
            "text/plain": [
              "Text(0, 0.5, 'Number of Adverts')"
            ]
          },
          "metadata": {},
          "execution_count": 192
        },
        {
          "output_type": "display_data",
          "data": {
            "text/plain": [
              "<Figure size 432x288 with 1 Axes>"
            ],
            "image/png": "[encoded data removed]"
          },
          "metadata": {
            "needs_background": "light"
          }
        }
      ]
    },
    {
      "cell_type": "code",
      "source": [
        "plt.savefig(\"USDem_linreg.png\")"
      ],
      "metadata": {
        "id": "LpgzwsAOq2gG",
        "colab": {
          "base_uri": "https://localhost:8080/",
          "height": 35
        },
        "outputId": "bd3c9037-f94e-4376-c197-6a714c86b019"
      },
      "execution_count": 196,
      "outputs": [
        {
          "output_type": "display_data",
          "data": {
            "text/plain": [
              "<Figure size 432x288 with 0 Axes>"
            ]
          },
          "metadata": {}
        }
      ]
    }
  ]
}