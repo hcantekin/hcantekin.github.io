{
  "metadata": {
    "kernelspec": {
      "display_name": "Python 3 (ipykernel)",
      "language": "python",
      "name": "python3"
    },
    "language_info": {
      "codemirror_mode": {
        "name": "ipython",
        "version": 3
      },
      "file_extension": ".py",
      "mimetype": "text/x-python",
      "name": "python",
      "nbconvert_exporter": "python",
      "pygments_lexer": "ipython3",
      "version": "3.9.7"
    },
    "colab": {
      "provenance": [],
      "include_colab_link": true
    }
  },
  "cells": [
    {
      "cell_type": "markdown",
      "metadata": {
        "id": "view-in-github",
        "colab_type": "text"
      },
      "source": [
        "<a href=\"https://colab.research.google.com/github/hcantekin/hcantekin.github.io/blob/main/Meta_test1.ipynb\" target=\"_parent\"><img src=\"https://colab.research.google.com/assets/colab-badge.svg\" alt=\"Open In Colab\"/></a>"
      ]
    },
    {
      "cell_type": "code",
      "source": [
        "from fbri.private.sql.query import execute"
      ],
      "outputs": [],
      "id": "a72413e3-5537-4ad2-93c2-a4c013c22294",
      "metadata": {
        "execution": {
          "iopub.execute_input": "2022-11-10T15:08:05.611967Z",
          "iopub.status.busy": "2022-11-10T15:08:05.611629Z",
          "iopub.status.idle": "2022-11-10T15:08:06.542630Z",
          "shell.execute_reply": "2022-11-10T15:08:06.542124Z",
          "shell.execute_reply.started": "2022-11-10T15:08:05.611883Z"
        },
        "id": "a72413e3-5537-4ad2-93c2-a4c013c22294"
      },
      "execution_count": null
    },
    {
      "cell_type": "code",
      "source": [
        "database= \"fbri_prod_atp\"\n",
        "table= \"fbri_prod_atp.ad_archive_api\"\n",
        "sql=f\"SELECT * FROM fbri_prod_atp.ad_archive_api limit 20;\"\n",
        "execute(sql"
      ],
      "outputs": [
        {
          "output_type": "stream",
          "name": "stderr",
          "text": [
            "[NOTICE] 1 output(s) filtered out"
          ]
        }
      ],
      "id": "8fd2f996-f24b-4fc3-ad18-df4824d75dc9",
      "metadata": {
        "execution": {
          "iopub.execute_input": "2022-11-10T15:08:40.002621Z",
          "iopub.status.busy": "2022-11-10T15:08:40.002307Z",
          "iopub.status.idle": "2022-11-10T15:08:40.006243Z",
          "shell.execute_reply": "2022-11-10T15:08:40.005685Z",
          "shell.execute_reply.started": "2022-11-10T15:08:40.002596Z"
        },
        "id": "8fd2f996-f24b-4fc3-ad18-df4824d75dc9",
        "outputId": "b4a9739c-2523-4183-ee06-2ba24150480c"
      },
      "execution_count": null
    },
    {
      "cell_type": "code",
      "source": [
        "database= \"fbri_prod_atp\"\n",
        "table= \"fbri_prod_atp.ad_archive_api\"\n",
        "sql=f\"SELECT * FROM fbri_prod_atp.ad_archive_api limit 20;\"\n"
      ],
      "outputs": [],
      "id": "d03e5030-c573-42c8-9a12-e28ddc970e36",
      "metadata": {
        "execution": {
          "iopub.execute_input": "2022-11-10T15:08:49.743201Z",
          "iopub.status.busy": "2022-11-10T15:08:49.742914Z",
          "iopub.status.idle": "2022-11-10T15:08:49.745985Z",
          "shell.execute_reply": "2022-11-10T15:08:49.745557Z",
          "shell.execute_reply.started": "2022-11-10T15:08:49.743177Z"
        },
        "id": "d03e5030-c573-42c8-9a12-e28ddc970e36"
      },
      "execution_count": null
    },
    {
      "cell_type": "code",
      "source": [
        "execute(sql)"
      ],
      "outputs": [
        {
          "output_type": "stream",
          "name": "stderr",
          "text": [
            "[NOTICE] 2 output(s) filtered out"
          ]
        }
      ],
      "id": "731950c3-75ae-464d-86a2-831350a32861",
      "metadata": {
        "execution": {
          "iopub.execute_input": "2022-11-10T15:09:00.059089Z",
          "iopub.status.busy": "2022-11-10T15:09:00.058799Z",
          "iopub.status.idle": "2022-11-10T15:09:07.879532Z",
          "shell.execute_reply": "2022-11-10T15:09:07.879101Z",
          "shell.execute_reply.started": "2022-11-10T15:09:00.059066Z"
        },
        "id": "731950c3-75ae-464d-86a2-831350a32861",
        "outputId": "ddf835cc-1033-4ca9-f036-7fcf2645680f"
      },
      "execution_count": null
    },
    {
      "cell_type": "code",
      "source": [
        "df = execute(sql)"
      ],
      "outputs": [
        {
          "output_type": "stream",
          "name": "stderr",
          "text": [
            "[NOTICE] 1 output(s) filtered out"
          ]
        }
      ],
      "id": "3576922c-f301-439f-97e1-521d8288df75",
      "metadata": {
        "execution": {
          "iopub.execute_input": "2022-11-10T15:09:28.969782Z",
          "iopub.status.busy": "2022-11-10T15:09:28.969499Z",
          "iopub.status.idle": "2022-11-10T15:09:33.291750Z",
          "shell.execute_reply": "2022-11-10T15:09:33.291250Z",
          "shell.execute_reply.started": "2022-11-10T15:09:28.969758Z"
        },
        "id": "3576922c-f301-439f-97e1-521d8288df75",
        "outputId": "da208ae7-315b-4c42-8bc4-cfd53bcab760"
      },
      "execution_count": null
    },
    {
      "cell_type": "code",
      "source": [
        "df"
      ],
      "outputs": [
        {
          "output_type": "stream",
          "name": "stderr",
          "text": [
            "[NOTICE] 1 output(s) filtered out"
          ]
        }
      ],
      "id": "76f7cf14-7216-4db3-afd1-ca1434837b5f",
      "metadata": {
        "execution": {
          "iopub.execute_input": "2022-11-10T15:09:40.704009Z",
          "iopub.status.busy": "2022-11-10T15:09:40.703539Z",
          "iopub.status.idle": "2022-11-10T15:09:40.725361Z",
          "shell.execute_reply": "2022-11-10T15:09:40.724933Z",
          "shell.execute_reply.started": "2022-11-10T15:09:40.703985Z"
        },
        "id": "76f7cf14-7216-4db3-afd1-ca1434837b5f",
        "outputId": "c0e0cb1a-e5f4-4915-ab18-09f98d2346f9"
      },
      "execution_count": null
    },
    {
      "cell_type": "code",
      "source": [
        "pd.json_normalize(df)"
      ],
      "outputs": [
        {
          "output_type": "stream",
          "name": "stderr",
          "text": [
            "[NOTICE] 1 output(s) filtered out"
          ]
        }
      ],
      "id": "7380d52a-5f44-4ef5-83e2-57fc3151d289",
      "metadata": {
        "execution": {
          "iopub.execute_input": "2022-11-10T15:11:03.715086Z",
          "iopub.status.busy": "2022-11-10T15:11:03.714794Z",
          "iopub.status.idle": "2022-11-10T15:11:03.801232Z",
          "shell.execute_reply": "2022-11-10T15:11:03.800636Z",
          "shell.execute_reply.started": "2022-11-10T15:11:03.715061Z"
        },
        "id": "7380d52a-5f44-4ef5-83e2-57fc3151d289",
        "outputId": "7df63f65-7cab-4deb-8c71-0f112728c5e8"
      },
      "execution_count": null
    },
    {
      "cell_type": "code",
      "source": [
        "import pandas as pd"
      ],
      "outputs": [],
      "id": "fb5b8bc5-5d1c-4a28-bde3-8d2cd10ff815",
      "metadata": {
        "execution": {
          "iopub.execute_input": "2022-11-10T15:11:10.970604Z",
          "iopub.status.busy": "2022-11-10T15:11:10.970296Z",
          "iopub.status.idle": "2022-11-10T15:11:10.973257Z",
          "shell.execute_reply": "2022-11-10T15:11:10.972813Z",
          "shell.execute_reply.started": "2022-11-10T15:11:10.970581Z"
        },
        "id": "fb5b8bc5-5d1c-4a28-bde3-8d2cd10ff815"
      },
      "execution_count": null
    },
    {
      "cell_type": "code",
      "source": [
        "pd.json_normalize(df)"
      ],
      "outputs": [
        {
          "output_type": "stream",
          "name": "stderr",
          "text": [
            "[NOTICE] 1 output(s) filtered out"
          ]
        }
      ],
      "id": "ffefc649-880e-4ae6-83da-982eaf8423c4",
      "metadata": {
        "execution": {
          "iopub.execute_input": "2022-11-10T15:11:19.681867Z",
          "iopub.status.busy": "2022-11-10T15:11:19.681577Z",
          "iopub.status.idle": "2022-11-10T15:11:19.687315Z",
          "shell.execute_reply": "2022-11-10T15:11:19.686922Z",
          "shell.execute_reply.started": "2022-11-10T15:11:19.681843Z"
        },
        "id": "ffefc649-880e-4ae6-83da-982eaf8423c4",
        "outputId": "b741df5c-0fac-4aa8-ce79-4b11890e6190"
      },
      "execution_count": null
    },
    {
      "cell_type": "code",
      "source": [
        "df[\"region_distribution\"].to_list()[0]"
      ],
      "outputs": [
        {
          "output_type": "stream",
          "name": "stderr",
          "text": [
            "[NOTICE] 1 output(s) filtered out"
          ]
        }
      ],
      "id": "21c68c2b-6439-4442-9653-2d2d635b0586",
      "metadata": {
        "execution": {
          "iopub.execute_input": "2022-11-10T15:17:51.576229Z",
          "iopub.status.busy": "2022-11-10T15:17:51.575936Z",
          "iopub.status.idle": "2022-11-10T15:17:51.579913Z",
          "shell.execute_reply": "2022-11-10T15:17:51.579517Z",
          "shell.execute_reply.started": "2022-11-10T15:17:51.576205Z"
        },
        "tags": [],
        "id": "21c68c2b-6439-4442-9653-2d2d635b0586",
        "outputId": "1d4f7f83-0962-409a-92cd-77b7a568e3ed"
      },
      "execution_count": null
    },
    {
      "cell_type": "code",
      "source": [
        "\n",
        "pd.json_normalize(df[\"region_distribution\"]"
      ],
      "outputs": [
        {
          "output_type": "stream",
          "name": "stderr",
          "text": [
            "[NOTICE] 1 output(s) filtered out"
          ]
        }
      ],
      "id": "11a9d62d-90c0-4ec2-8df6-6b2d59213d47",
      "metadata": {
        "execution": {
          "iopub.execute_input": "2022-11-10T15:13:45.503426Z",
          "iopub.status.busy": "2022-11-10T15:13:45.503143Z",
          "iopub.status.idle": "2022-11-10T15:13:45.506670Z",
          "shell.execute_reply": "2022-11-10T15:13:45.506092Z",
          "shell.execute_reply.started": "2022-11-10T15:13:45.503403Z"
        },
        "id": "11a9d62d-90c0-4ec2-8df6-6b2d59213d47",
        "outputId": "922d7228-c787-4000-ea03-a62fe592efba"
      },
      "execution_count": null
    },
    {
      "cell_type": "code",
      "source": [
        "pd.json_normalize(df[\"region_distribution\"])"
      ],
      "outputs": [
        {
          "output_type": "stream",
          "name": "stderr",
          "text": [
            "[NOTICE] 1 output(s) filtered out"
          ]
        }
      ],
      "id": "b8e28db8-5b1b-4fb9-8a89-dad892590625",
      "metadata": {
        "execution": {
          "iopub.execute_input": "2022-11-10T15:14:00.955817Z",
          "iopub.status.busy": "2022-11-10T15:14:00.955536Z",
          "iopub.status.idle": "2022-11-10T15:14:00.961236Z",
          "shell.execute_reply": "2022-11-10T15:14:00.960825Z",
          "shell.execute_reply.started": "2022-11-10T15:14:00.955795Z"
        },
        "id": "b8e28db8-5b1b-4fb9-8a89-dad892590625",
        "outputId": "19dd33db-29de-4fb8-fb3f-972f5d637ce5"
      },
      "execution_count": null
    },
    {
      "cell_type": "code",
      "source": [
        "import json"
      ],
      "outputs": [],
      "id": "e7ad8dd9-c1b2-4606-9a81-caf2d3eacd83",
      "metadata": {
        "execution": {
          "iopub.execute_input": "2022-11-10T15:18:09.806933Z",
          "iopub.status.busy": "2022-11-10T15:18:09.806640Z",
          "iopub.status.idle": "2022-11-10T15:18:09.809510Z",
          "shell.execute_reply": "2022-11-10T15:18:09.809090Z",
          "shell.execute_reply.started": "2022-11-10T15:18:09.806911Z"
        },
        "id": "e7ad8dd9-c1b2-4606-9a81-caf2d3eacd83"
      },
      "execution_count": null
    },
    {
      "cell_type": "code",
      "source": [
        "json.loads(df[\"region_distribution\"].to_list()[0])"
      ],
      "outputs": [
        {
          "output_type": "stream",
          "name": "stderr",
          "text": [
            "[NOTICE] 1 output(s) filtered out"
          ]
        }
      ],
      "id": "102a03e8-5a7a-49a5-87b9-401aebfee3e4",
      "metadata": {
        "execution": {
          "iopub.execute_input": "2022-11-10T15:19:25.960497Z",
          "iopub.status.busy": "2022-11-10T15:19:25.960221Z",
          "iopub.status.idle": "2022-11-10T15:19:25.965356Z",
          "shell.execute_reply": "2022-11-10T15:19:25.964952Z",
          "shell.execute_reply.started": "2022-11-10T15:19:25.960474Z"
        },
        "id": "102a03e8-5a7a-49a5-87b9-401aebfee3e4",
        "outputId": "6f475b80-465d-4260-9eb9-c11c10a85051"
      },
      "execution_count": null
    },
    {
      "cell_type": "code",
      "source": [
        "df[\"region_distribution\"].map(json.loads)"
      ],
      "outputs": [
        {
          "output_type": "stream",
          "name": "stderr",
          "text": [
            "[NOTICE] 1 output(s) filtered out"
          ]
        }
      ],
      "id": "27bb1055-f3aa-445f-b121-69c205780a79",
      "metadata": {
        "execution": {
          "iopub.execute_input": "2022-11-10T15:20:36.458733Z",
          "iopub.status.busy": "2022-11-10T15:20:36.458445Z",
          "iopub.status.idle": "2022-11-10T15:20:36.509800Z",
          "shell.execute_reply": "2022-11-10T15:20:36.509379Z",
          "shell.execute_reply.started": "2022-11-10T15:20:36.458710Z"
        },
        "id": "27bb1055-f3aa-445f-b121-69c205780a79",
        "outputId": "c7df3755-e9bd-4d66-a8a7-35dface4b126"
      },
      "execution_count": null
    },
    {
      "cell_type": "code",
      "source": [
        "pd.json_normalize(df[\"region_distribution\"].map(json.loads))"
      ],
      "outputs": [
        {
          "output_type": "stream",
          "name": "stderr",
          "text": [
            "[NOTICE] 1 output(s) filtered out"
          ]
        }
      ],
      "id": "9bc8610e-85b5-4667-9f2e-b08eeb3900df",
      "metadata": {
        "execution": {
          "iopub.execute_input": "2022-11-10T15:21:18.942114Z",
          "iopub.status.busy": "2022-11-10T15:21:18.941831Z",
          "iopub.status.idle": "2022-11-10T15:21:19.008908Z",
          "shell.execute_reply": "2022-11-10T15:21:19.008317Z",
          "shell.execute_reply.started": "2022-11-10T15:21:18.942091Z"
        },
        "id": "9bc8610e-85b5-4667-9f2e-b08eeb3900df",
        "outputId": "08e75f8f-43fd-41f7-c102-1200a09255bd"
      },
      "execution_count": null
    },
    {
      "cell_type": "code",
      "source": [
        "pd.json_normalize(pd.json_normalize(df[\"region_distribution\"].map(json.loads))[0])"
      ],
      "outputs": [
        {
          "output_type": "stream",
          "name": "stderr",
          "text": [
            "[NOTICE] 1 output(s) filtered out"
          ]
        }
      ],
      "id": "6dab5195-f566-489b-ae8c-a4ddef928c7b",
      "metadata": {
        "execution": {
          "iopub.execute_input": "2022-11-10T15:23:27.099629Z",
          "iopub.status.busy": "2022-11-10T15:23:27.099335Z",
          "iopub.status.idle": "2022-11-10T15:23:27.123539Z",
          "shell.execute_reply": "2022-11-10T15:23:27.122952Z",
          "shell.execute_reply.started": "2022-11-10T15:23:27.099606Z"
        },
        "tags": [],
        "id": "6dab5195-f566-489b-ae8c-a4ddef928c7b",
        "outputId": "640d133e-912e-422c-8659-3cf8e68028f1"
      },
      "execution_count": null
    },
    {
      "cell_type": "code",
      "source": [],
      "outputs": [],
      "id": "aa12134b-7efb-4765-a964-39287a449ec8",
      "metadata": {
        "id": "aa12134b-7efb-4765-a964-39287a449ec8"
      },
      "execution_count": null
    }
  ],
  "nbformat_minor": 5,
  "nbformat": 4
}