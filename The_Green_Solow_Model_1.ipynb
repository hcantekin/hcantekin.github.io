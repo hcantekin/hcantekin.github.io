{
  "cells": [
    {
      "cell_type": "markdown",
      "metadata": {
        "id": "view-in-github",
        "colab_type": "text"
      },
      "source": [
        "<a href=\"https://colab.research.google.com/github/hcantekin/hcantekin.github.io/blob/main/The_Green_Solow_Model_1.ipynb\" target=\"_parent\"><img src=\"https://colab.research.google.com/assets/colab-badge.svg\" alt=\"Open In Colab\"/></a>"
      ]
    },
    {
      "cell_type": "markdown",
      "metadata": {
        "raw_mimetype": "text/html",
        "id": "fBa-CIicy1Bt"
      },
      "source": [
        "# The Green Solow Model"
      ]
    },
    {
      "cell_type": "markdown",
      "metadata": {
        "id": "peiSuLNBy1Bz"
      },
      "source": [
        "In this notebook you will look at a simple integrated assessment model based on a Solow Growth Model. \n",
        "\n",
        "The aim of the notebook is to introduce you to the flavour of integrated assessment models, see how growth and environmental emissions might be linked and explore how abatement may counteract environmental degradation of productive activity. \n",
        "\n",
        "The notebook is interactive in the sense that it has questions and activities throughout which you should work through. Double-click into an answer cell to type your notes and answers. "
      ]
    },
    {
      "cell_type": "markdown",
      "metadata": {
        "id": "7MwnwUU8y1B0"
      },
      "source": [
        "For our Python Simulations we should first load several packages we will need for calculations and plotting. Note, loading these may take a bit, so wait till the code is fully run. Also, when you use the code for the first time, you will need to run this first box twice. "
      ]
    },
    {
      "cell_type": "markdown",
      "metadata": {
        "id": "GoqNz_qFy1B0"
      },
      "source": [
        "_Code-guide: We first load various packages which python needs to make calculations and produce graphs._"
      ]
    },
    {
      "cell_type": "code",
      "execution_count": 12,
      "metadata": {
        "ExecuteTime": {
          "end_time": "2022-08-06T16:53:10.684389Z",
          "start_time": "2022-08-06T16:53:10.170801Z"
        },
        "colab": {
          "base_uri": "https://localhost:8080/"
        },
        "id": "zLFVZl0uy1B1",
        "outputId": "fe4134d0-97fd-4842-acb0-37ee838a4266"
      },
      "outputs": [
        {
          "output_type": "stream",
          "name": "stdout",
          "text": [
            "Looking in indexes: https://pypi.org/simple, https://us-python.pkg.dev/colab-wheels/public/simple/\n",
            "Requirement already satisfied: matplotlib in /usr/local/lib/python3.8/dist-packages (3.6.3)\n",
            "Requirement already satisfied: pillow>=6.2.0 in /usr/local/lib/python3.8/dist-packages (from matplotlib) (7.1.2)\n",
            "Requirement already satisfied: cycler>=0.10 in /usr/local/lib/python3.8/dist-packages (from matplotlib) (0.11.0)\n",
            "Requirement already satisfied: numpy>=1.19 in /usr/local/lib/python3.8/dist-packages (from matplotlib) (1.21.6)\n",
            "Requirement already satisfied: kiwisolver>=1.0.1 in /usr/local/lib/python3.8/dist-packages (from matplotlib) (1.4.4)\n",
            "Requirement already satisfied: fonttools>=4.22.0 in /usr/local/lib/python3.8/dist-packages (from matplotlib) (4.38.0)\n",
            "Requirement already satisfied: packaging>=20.0 in /usr/local/lib/python3.8/dist-packages (from matplotlib) (21.3)\n",
            "Requirement already satisfied: python-dateutil>=2.7 in /usr/local/lib/python3.8/dist-packages (from matplotlib) (2.8.2)\n",
            "Requirement already satisfied: contourpy>=1.0.1 in /usr/local/lib/python3.8/dist-packages (from matplotlib) (1.0.7)\n",
            "Requirement already satisfied: pyparsing>=2.2.1 in /usr/local/lib/python3.8/dist-packages (from matplotlib) (3.0.9)\n",
            "Requirement already satisfied: six>=1.5 in /usr/local/lib/python3.8/dist-packages (from python-dateutil>=2.7->matplotlib) (1.15.0)\n"
          ]
        }
      ],
      "source": [
        "import sympy as sym\n",
        "import numpy as np\n",
        "from scipy.integrate import odeint\n",
        "import matplotlib.pyplot as plt\n",
        "plt.rcParams['savefig.dpi'] = 450\n",
        "import matplotlib.pyplot as plt\n",
        "!pip install --upgrade matplotlib"
      ]
    },
    {
      "cell_type": "markdown",
      "metadata": {
        "id": "HFOcM0iQy1B2"
      },
      "source": [
        "## Basic dynamics of a Green Solow-Swan model"
      ]
    },
    {
      "cell_type": "markdown",
      "metadata": {
        "id": "rT0r7SfVy1B2"
      },
      "source": [
        "Folowing the paper by Brock & Taylor (2010), the basic green solow model links capital investment and growth with emissions. What we are interested in are the transitional dynamics from one steady state to a new steady state. The dynamics of the capital stock and emissions in the model can be described as follows:\n",
        "$$ K_{t+1} - K_{t} = s F(K_t,L_t)(1-\\theta_t)-dK_t \\\\ E_t = F(K_t,L_t)\\times\\Omega_t\\times a(\\theta_t)$$"
      ]
    },
    {
      "cell_type": "markdown",
      "metadata": {
        "id": "zrh4lUENy1B2"
      },
      "source": [
        "The first equation captures growth of capital and is the same as in the standard solow growth model, except for the fact that each period a fraction $\\theta_t$, where $0 < \\theta_t < 1$, of output (GDP) is invested into abatement of pollution emissions $E_t$.  Hence, available GDP for capital investment is lower. This abatement could be in the form of paying for damages to be restored, or investing to prevent damages.\n",
        "\n",
        "**Per capita equations**\n",
        "\n",
        "Following Brock & Taylor (2010), we are interested in per capita changes. This is to factor out the effect of population growth. Using a production function with constant returns-to-scales (that is $ F(\\lambda K, \\lambda L) = \\lambda F(K,L)$ with $\\lambda = 1/L_t$), we get $ F(\\frac{K_t}{L_t}, 1) = \\frac{1}{L_t}F(K_t,L_t), $ and can rewrite this equation using $k_t = \\frac{K_t}{L_t}$ to get $ K_{t+1} - K_{t} = L_t(sF(k_t,1)(1-\\theta_t)-dk_t)$ and $ E_t = L_t \\times F(k_t,1) \\times \\Omega_t \\times a(\\theta_t)$. Furthermore we can rewrite $ \\frac{K_{t+1}-K_t}{L_t} \\approx k_{t+1} - k_t + k_t\\times n_t $ and organise the equations as\n",
        "$$ k_{t+1} - k_t - nk_t =sF(k_t,1)(1-\\theta_t)-dk_t \\\\ e_t = F(k_t,1) \\times \\Omega_t \\times a(\\theta_t) \\\\ L_{t+1} - L_t = n_t \\times L_t$$"
      ]
    },
    {
      "cell_type": "markdown",
      "metadata": {
        "id": "PCXVBNZRy1B3"
      },
      "source": [
        "**Abatement Effort & Efficiency of that effort**\n",
        "\n",
        "Per capita emission $e_t$ relates to the total output of the economy via two factors: an environmental technology factor $\\Omega_t$ and a factor $a(\\theta)$ that models the reduction in polluting emissions that are the result of the abatement effort."
      ]
    },
    {
      "cell_type": "markdown",
      "metadata": {
        "id": "tABS3Ssay1B3"
      },
      "source": [
        "**Student Task:**\n",
        "Think of real world examples what $\\Omega_t$ and $a(\\theta)$ may represent. Do you see any limitations in modelling abatement in this way?"
      ]
    },
    {
      "cell_type": "markdown",
      "source": [
        "  \n",
        "  Ω : environmetnal technology factor. e.g. electric cars.  Omega = captures carbon intensity of output. usually fixed as a baseline.  \n",
        "  𝑎(𝜃): models the reduction in polluting emissions, result of abatement effort. Abatement also includes paying for damages to be restored which is not preventing pollution...\n",
        "  a is funtion of pheta, an abatement function, a can be between 0 and 1. \n",
        "  = proportion of output invested in abatement tech/ output. so reduction in carbon intensity, can help predicy carbon intensity in future, whereas omega is current (initial state). additional investment in abatement (reduce level of emissions per unit of output). if a is getting smaller, emissions are getting smaller. \n",
        "its per capita to adjust for population growth, but is this sensible? real world context, population growth could be significant. \n",
        "\n",
        "\n",
        "\n",
        "\n"
      ],
      "metadata": {
        "id": "kTWX1HGz1mTs"
      }
    },
    {
      "cell_type": "markdown",
      "metadata": {
        "id": "8dT6QyDGy1B4"
      },
      "source": [
        "**Specifing abatement effort and efficiency of that effort**\n",
        "\n",
        "A typical relationship between abatement effort and reduction in poluting emissions is $$a(\\theta) = (1 - \\theta)^\\xi,$$ $\\xi$ in $\\{1, \\infty\\}$ and $\\theta$ in $\\{0,1\\}$. We can plot the relationship between abatement effort and the reduction in emissions."
      ]
    },
    {
      "cell_type": "markdown",
      "metadata": {
        "id": "5-t5Xz73y1B4"
      },
      "source": [
        "_Code Guide_\n",
        "\n",
        "1. We define a function in Python with $\\xi$ as input. \n",
        "2. The output is a set of relationships between $\\theta$ and $a(\\theta)$,  which depending on the chosen value of $\\xi$;\n",
        "2. We look at two equations, for $\\xi=4$ and $\\xi=2$ and name the output they yield for different levels of $\\theta$ $a1$ and $a2$;\n",
        "3. We plot using the command `plt.plot()`"
      ]
    },
    {
      "cell_type": "code",
      "execution_count": 13,
      "metadata": {
        "ExecuteTime": {
          "end_time": "2022-08-06T16:53:11.661994Z",
          "start_time": "2022-08-06T16:53:11.591934Z"
        },
        "colab": {
          "base_uri": "https://localhost:8080/",
          "height": 407
        },
        "id": "bKo5euEny1B5",
        "outputId": "e61f1e4b-8cad-4321-d1b6-338748ccdc7b"
      },
      "outputs": [
        {
          "output_type": "error",
          "ename": "ImportError",
          "evalue": "ignored",
          "traceback": [
            "\u001b[0;31m---------------------------------------------------------------------------\u001b[0m",
            "\u001b[0;31mImportError\u001b[0m                               Traceback (most recent call last)",
            "\u001b[0;32m/usr/local/lib/python3.8/dist-packages/IPython/core/formatters.py\u001b[0m in \u001b[0;36m__call__\u001b[0;34m(self, obj)\u001b[0m\n\u001b[1;32m    339\u001b[0m                 \u001b[0;32mpass\u001b[0m\u001b[0;34m\u001b[0m\u001b[0;34m\u001b[0m\u001b[0m\n\u001b[1;32m    340\u001b[0m             \u001b[0;32melse\u001b[0m\u001b[0;34m:\u001b[0m\u001b[0;34m\u001b[0m\u001b[0;34m\u001b[0m\u001b[0m\n\u001b[0;32m--> 341\u001b[0;31m                 \u001b[0;32mreturn\u001b[0m \u001b[0mprinter\u001b[0m\u001b[0;34m(\u001b[0m\u001b[0mobj\u001b[0m\u001b[0;34m)\u001b[0m\u001b[0;34m\u001b[0m\u001b[0;34m\u001b[0m\u001b[0m\n\u001b[0m\u001b[1;32m    342\u001b[0m             \u001b[0;31m# Finally look for special method names\u001b[0m\u001b[0;34m\u001b[0m\u001b[0;34m\u001b[0m\u001b[0;34m\u001b[0m\u001b[0m\n\u001b[1;32m    343\u001b[0m             \u001b[0mmethod\u001b[0m \u001b[0;34m=\u001b[0m \u001b[0mget_real_method\u001b[0m\u001b[0;34m(\u001b[0m\u001b[0mobj\u001b[0m\u001b[0;34m,\u001b[0m \u001b[0mself\u001b[0m\u001b[0;34m.\u001b[0m\u001b[0mprint_method\u001b[0m\u001b[0;34m)\u001b[0m\u001b[0;34m\u001b[0m\u001b[0;34m\u001b[0m\u001b[0m\n",
            "\u001b[0;32m/usr/local/lib/python3.8/dist-packages/IPython/core/pylabtools.py\u001b[0m in \u001b[0;36m<lambda>\u001b[0;34m(fig)\u001b[0m\n\u001b[1;32m    242\u001b[0m \u001b[0;34m\u001b[0m\u001b[0m\n\u001b[1;32m    243\u001b[0m     \u001b[0;32mif\u001b[0m \u001b[0;34m'png'\u001b[0m \u001b[0;32min\u001b[0m \u001b[0mformats\u001b[0m\u001b[0;34m:\u001b[0m\u001b[0;34m\u001b[0m\u001b[0;34m\u001b[0m\u001b[0m\n\u001b[0;32m--> 244\u001b[0;31m         \u001b[0mpng_formatter\u001b[0m\u001b[0;34m.\u001b[0m\u001b[0mfor_type\u001b[0m\u001b[0;34m(\u001b[0m\u001b[0mFigure\u001b[0m\u001b[0;34m,\u001b[0m \u001b[0;32mlambda\u001b[0m \u001b[0mfig\u001b[0m\u001b[0;34m:\u001b[0m \u001b[0mprint_figure\u001b[0m\u001b[0;34m(\u001b[0m\u001b[0mfig\u001b[0m\u001b[0;34m,\u001b[0m \u001b[0;34m'png'\u001b[0m\u001b[0;34m,\u001b[0m \u001b[0;34m**\u001b[0m\u001b[0mkwargs\u001b[0m\u001b[0;34m)\u001b[0m\u001b[0;34m)\u001b[0m\u001b[0;34m\u001b[0m\u001b[0;34m\u001b[0m\u001b[0m\n\u001b[0m\u001b[1;32m    245\u001b[0m     \u001b[0;32mif\u001b[0m \u001b[0;34m'retina'\u001b[0m \u001b[0;32min\u001b[0m \u001b[0mformats\u001b[0m \u001b[0;32mor\u001b[0m \u001b[0;34m'png2x'\u001b[0m \u001b[0;32min\u001b[0m \u001b[0mformats\u001b[0m\u001b[0;34m:\u001b[0m\u001b[0;34m\u001b[0m\u001b[0;34m\u001b[0m\u001b[0m\n\u001b[1;32m    246\u001b[0m         \u001b[0mpng_formatter\u001b[0m\u001b[0;34m.\u001b[0m\u001b[0mfor_type\u001b[0m\u001b[0;34m(\u001b[0m\u001b[0mFigure\u001b[0m\u001b[0;34m,\u001b[0m \u001b[0;32mlambda\u001b[0m \u001b[0mfig\u001b[0m\u001b[0;34m:\u001b[0m \u001b[0mretina_figure\u001b[0m\u001b[0;34m(\u001b[0m\u001b[0mfig\u001b[0m\u001b[0;34m,\u001b[0m \u001b[0;34m**\u001b[0m\u001b[0mkwargs\u001b[0m\u001b[0;34m)\u001b[0m\u001b[0;34m)\u001b[0m\u001b[0;34m\u001b[0m\u001b[0;34m\u001b[0m\u001b[0m\n",
            "\u001b[0;32m/usr/local/lib/python3.8/dist-packages/IPython/core/pylabtools.py\u001b[0m in \u001b[0;36mprint_figure\u001b[0;34m(fig, fmt, bbox_inches, **kwargs)\u001b[0m\n\u001b[1;32m    126\u001b[0m \u001b[0;34m\u001b[0m\u001b[0m\n\u001b[1;32m    127\u001b[0m     \u001b[0mbytes_io\u001b[0m \u001b[0;34m=\u001b[0m \u001b[0mBytesIO\u001b[0m\u001b[0;34m(\u001b[0m\u001b[0;34m)\u001b[0m\u001b[0;34m\u001b[0m\u001b[0;34m\u001b[0m\u001b[0m\n\u001b[0;32m--> 128\u001b[0;31m     \u001b[0mfig\u001b[0m\u001b[0;34m.\u001b[0m\u001b[0mcanvas\u001b[0m\u001b[0;34m.\u001b[0m\u001b[0mprint_figure\u001b[0m\u001b[0;34m(\u001b[0m\u001b[0mbytes_io\u001b[0m\u001b[0;34m,\u001b[0m \u001b[0;34m**\u001b[0m\u001b[0mkw\u001b[0m\u001b[0;34m)\u001b[0m\u001b[0;34m\u001b[0m\u001b[0;34m\u001b[0m\u001b[0m\n\u001b[0m\u001b[1;32m    129\u001b[0m     \u001b[0mdata\u001b[0m \u001b[0;34m=\u001b[0m \u001b[0mbytes_io\u001b[0m\u001b[0;34m.\u001b[0m\u001b[0mgetvalue\u001b[0m\u001b[0;34m(\u001b[0m\u001b[0;34m)\u001b[0m\u001b[0;34m\u001b[0m\u001b[0;34m\u001b[0m\u001b[0m\n\u001b[1;32m    130\u001b[0m     \u001b[0;32mif\u001b[0m \u001b[0mfmt\u001b[0m \u001b[0;34m==\u001b[0m \u001b[0;34m'svg'\u001b[0m\u001b[0;34m:\u001b[0m\u001b[0;34m\u001b[0m\u001b[0;34m\u001b[0m\u001b[0m\n",
            "\u001b[0;32m/usr/local/lib/python3.8/dist-packages/matplotlib/backend_bases.py\u001b[0m in \u001b[0;36mprint_figure\u001b[0;34m(self, filename, dpi, facecolor, edgecolor, orientation, format, bbox_inches, **kwargs)\u001b[0m\n\u001b[1;32m   2089\u001b[0m         \u001b[0mReturns\u001b[0m\u001b[0;34m\u001b[0m\u001b[0;34m\u001b[0m\u001b[0m\n\u001b[1;32m   2090\u001b[0m         \u001b[0;34m-\u001b[0m\u001b[0;34m-\u001b[0m\u001b[0;34m-\u001b[0m\u001b[0;34m-\u001b[0m\u001b[0;34m-\u001b[0m\u001b[0;34m-\u001b[0m\u001b[0;34m-\u001b[0m\u001b[0;34m\u001b[0m\u001b[0;34m\u001b[0m\u001b[0m\n\u001b[0;32m-> 2091\u001b[0;31m         \u001b[0mbool\u001b[0m\u001b[0;34m\u001b[0m\u001b[0;34m\u001b[0m\u001b[0m\n\u001b[0m\u001b[1;32m   2092\u001b[0m             \u001b[0mWhether\u001b[0m \u001b[0mthe\u001b[0m \u001b[0mratio\u001b[0m \u001b[0mhas\u001b[0m \u001b[0mchanged\u001b[0m\u001b[0;34m.\u001b[0m \u001b[0mBackends\u001b[0m \u001b[0mmay\u001b[0m \u001b[0minterpret\u001b[0m \u001b[0mthis\u001b[0m \u001b[0;32mas\u001b[0m \u001b[0ma\u001b[0m\u001b[0;34m\u001b[0m\u001b[0;34m\u001b[0m\u001b[0m\n\u001b[1;32m   2093\u001b[0m             \u001b[0msignal\u001b[0m \u001b[0mto\u001b[0m \u001b[0mresize\u001b[0m \u001b[0mthe\u001b[0m \u001b[0mwindow\u001b[0m\u001b[0;34m,\u001b[0m \u001b[0mrepaint\u001b[0m \u001b[0mthe\u001b[0m \u001b[0mcanvas\u001b[0m\u001b[0;34m,\u001b[0m \u001b[0;32mor\u001b[0m \u001b[0mchange\u001b[0m \u001b[0many\u001b[0m\u001b[0;34m\u001b[0m\u001b[0;34m\u001b[0m\u001b[0m\n",
            "\u001b[0;32m/usr/local/lib/python3.8/dist-packages/matplotlib/backend_bases.py\u001b[0m in \u001b[0;36m_get_renderer\u001b[0;34m(figure, print_method)\u001b[0m\n\u001b[1;32m   1558\u001b[0m         \u001b[0;32mtry\u001b[0m\u001b[0;34m:\u001b[0m\u001b[0;34m\u001b[0m\u001b[0;34m\u001b[0m\u001b[0m\n\u001b[1;32m   1559\u001b[0m             \u001b[0mprint_method\u001b[0m\u001b[0;34m(\u001b[0m\u001b[0mio\u001b[0m\u001b[0;34m.\u001b[0m\u001b[0mBytesIO\u001b[0m\u001b[0;34m(\u001b[0m\u001b[0;34m)\u001b[0m\u001b[0;34m)\u001b[0m\u001b[0;34m\u001b[0m\u001b[0;34m\u001b[0m\u001b[0m\n\u001b[0;32m-> 1560\u001b[0;31m         \u001b[0;32mexcept\u001b[0m \u001b[0mDone\u001b[0m \u001b[0;32mas\u001b[0m \u001b[0mexc\u001b[0m\u001b[0;34m:\u001b[0m\u001b[0;34m\u001b[0m\u001b[0;34m\u001b[0m\u001b[0m\n\u001b[0m\u001b[1;32m   1561\u001b[0m             \u001b[0mrenderer\u001b[0m\u001b[0;34m,\u001b[0m \u001b[0;34m=\u001b[0m \u001b[0mexc\u001b[0m\u001b[0;34m.\u001b[0m\u001b[0margs\u001b[0m\u001b[0;34m\u001b[0m\u001b[0;34m\u001b[0m\u001b[0m\n\u001b[1;32m   1562\u001b[0m             \u001b[0;32mreturn\u001b[0m \u001b[0mrenderer\u001b[0m\u001b[0;34m\u001b[0m\u001b[0;34m\u001b[0m\u001b[0m\n",
            "\u001b[0;32m/usr/local/lib/python3.8/dist-packages/matplotlib/backends/backend_agg.py\u001b[0m in \u001b[0;36mprint_png\u001b[0;34m(self, filename_or_obj, metadata, pil_kwargs, *args, **kwargs)\u001b[0m\n\u001b[1;32m    503\u001b[0m             \u001b[0mIf\u001b[0m \u001b[0;34m'Software'\u001b[0m \u001b[0;32mis\u001b[0m \u001b[0;32mnot\u001b[0m \u001b[0mgiven\u001b[0m\u001b[0;34m,\u001b[0m \u001b[0man\u001b[0m \u001b[0mautogenerated\u001b[0m \u001b[0mvalue\u001b[0m \u001b[0;32mfor\u001b[0m \u001b[0mMatplotlib\u001b[0m\u001b[0;34m\u001b[0m\u001b[0;34m\u001b[0m\u001b[0m\n\u001b[1;32m    504\u001b[0m             \u001b[0mwill\u001b[0m \u001b[0mbe\u001b[0m \u001b[0mused\u001b[0m\u001b[0;34m.\u001b[0m  \u001b[0mThis\u001b[0m \u001b[0mcan\u001b[0m \u001b[0mbe\u001b[0m \u001b[0mremoved\u001b[0m \u001b[0mby\u001b[0m \u001b[0msetting\u001b[0m \u001b[0mit\u001b[0m \u001b[0mto\u001b[0m \u001b[0;34m*\u001b[0m\u001b[0;32mNone\u001b[0m\u001b[0;34m*\u001b[0m\u001b[0;34m.\u001b[0m\u001b[0;34m\u001b[0m\u001b[0;34m\u001b[0m\u001b[0m\n\u001b[0;32m--> 505\u001b[0;31m \u001b[0;34m\u001b[0m\u001b[0m\n\u001b[0m\u001b[1;32m    506\u001b[0m             \u001b[0mFor\u001b[0m \u001b[0mmore\u001b[0m \u001b[0mdetails\u001b[0m \u001b[0msee\u001b[0m \u001b[0mthe\u001b[0m\u001b[0;31m \u001b[0m\u001b[0;31m`\u001b[0m\u001b[0mPNG\u001b[0m \u001b[0mspecification\u001b[0m\u001b[0;31m`\u001b[0m\u001b[0m_\u001b[0m\u001b[0;34m.\u001b[0m\u001b[0;34m\u001b[0m\u001b[0;34m\u001b[0m\u001b[0m\n\u001b[1;32m    507\u001b[0m \u001b[0;34m\u001b[0m\u001b[0m\n",
            "\u001b[0;31mImportError\u001b[0m: cannot import name '_png' from 'matplotlib' (/usr/local/lib/python3.8/dist-packages/matplotlib/__init__.py)"
          ]
        },
        {
          "output_type": "display_data",
          "data": {
            "text/plain": [
              "<Figure size 432x288 with 1 Axes>"
            ]
          },
          "metadata": {
            "needs_background": "light"
          }
        }
      ],
      "source": [
        "# Plot the relationship between abatement effort and efficiency of that effort\n",
        "\n",
        "def efficiency_of_abatement_effort(xi:float):\n",
        "    theta = np.linspace(0, 1, num = 100) # theta is abatement effort\n",
        "    a = (1-theta)** xi\n",
        "    return theta, a\n",
        "\n",
        "theta, a1 = efficiency_of_abatement_effort(xi = 4)\n",
        "theta, a2 = efficiency_of_abatement_effort(xi = 2)\n",
        "\n",
        "plt.plot(theta, a1, 'b', label='xi = 4')\n",
        "plt.plot(theta, a2, 'r', label='xi = 2')\n",
        "plt.legend()\n",
        "plt.ylabel('a(theta)')\n",
        "plt.xlabel('theta')\n",
        "plt.title('Efficiency of Abatement Effort')\n",
        "plt.show()"
      ]
    },
    {
      "cell_type": "markdown",
      "metadata": {
        "id": "sxLzR4qay1B6"
      },
      "source": [
        "**Student Task**\n",
        "Explain in your own words how abatement differs in the above cases. Can you think of real worl examples which would show the same differences?\n"
      ]
    },
    {
      "cell_type": "markdown",
      "metadata": {
        "id": "cYP346YTy1B6"
      },
      "source": [
        "**Student Answer**\n",
        "Blue is more efficient as emissions reduce faster... because xi is bigger.\n",
        "xi is an efficiency parameter... so big is more efficicent. captures how efficiently using finds to reduce emissions. SO, if bigger then same amount of money will more effectively reduce emissions. will vary in different countries? \n",
        "if a is decereasing quickly with small levels of pheta, its more efficient... pheta is investment in abatement tech. \n",
        "can see diminishing returns in slope of curves.\n",
        "lower levels of a means less emissions. \n",
        "if highly efficient, dont need to invest much in abatement technology to see impressive reduction. \n",
        "xi between 0 and 1 is 'just for fun', because creates downward curve which goes against diminishing returns. "
      ]
    },
    {
      "cell_type": "markdown",
      "metadata": {
        "id": "w_6YgQCFy1B6"
      },
      "source": [
        "**Student Task: Try it yourself**\n",
        "Below, change the parameter $\\xi$ to different values of your choice. Explain intuitively how this changes the relationship between $\\theta$ and $a(\\theta)$. Find real world examples and explanations which may match different parameterisations. Make sure you include large values of $\\xi$. What would happen if you would relax the restriction $\\xi$ in $\\{1, \\infty\\}$ and allow for values between 0 and 1? Intuituitively explain. Could you think of a real world scenario where this would be appropriate?"
      ]
    },
    {
      "cell_type": "code",
      "execution_count": 2,
      "metadata": {
        "ExecuteTime": {
          "end_time": "2022-08-06T16:53:11.661994Z",
          "start_time": "2022-08-06T16:53:11.591934Z"
        },
        "colab": {
          "base_uri": "https://localhost:8080/",
          "height": 407
        },
        "id": "q74NUjFfy1B6",
        "outputId": "739725a4-5a48-47e9-c1e1-919e39fe8b5c"
      },
      "outputs": [
        {
          "output_type": "error",
          "ename": "ImportError",
          "evalue": "ignored",
          "traceback": [
            "\u001b[0;31m---------------------------------------------------------------------------\u001b[0m",
            "\u001b[0;31mImportError\u001b[0m                               Traceback (most recent call last)",
            "\u001b[0;32m/usr/local/lib/python3.8/dist-packages/IPython/core/formatters.py\u001b[0m in \u001b[0;36m__call__\u001b[0;34m(self, obj)\u001b[0m\n\u001b[1;32m    339\u001b[0m                 \u001b[0;32mpass\u001b[0m\u001b[0;34m\u001b[0m\u001b[0;34m\u001b[0m\u001b[0m\n\u001b[1;32m    340\u001b[0m             \u001b[0;32melse\u001b[0m\u001b[0;34m:\u001b[0m\u001b[0;34m\u001b[0m\u001b[0;34m\u001b[0m\u001b[0m\n\u001b[0;32m--> 341\u001b[0;31m                 \u001b[0;32mreturn\u001b[0m \u001b[0mprinter\u001b[0m\u001b[0;34m(\u001b[0m\u001b[0mobj\u001b[0m\u001b[0;34m)\u001b[0m\u001b[0;34m\u001b[0m\u001b[0;34m\u001b[0m\u001b[0m\n\u001b[0m\u001b[1;32m    342\u001b[0m             \u001b[0;31m# Finally look for special method names\u001b[0m\u001b[0;34m\u001b[0m\u001b[0;34m\u001b[0m\u001b[0;34m\u001b[0m\u001b[0m\n\u001b[1;32m    343\u001b[0m             \u001b[0mmethod\u001b[0m \u001b[0;34m=\u001b[0m \u001b[0mget_real_method\u001b[0m\u001b[0;34m(\u001b[0m\u001b[0mobj\u001b[0m\u001b[0;34m,\u001b[0m \u001b[0mself\u001b[0m\u001b[0;34m.\u001b[0m\u001b[0mprint_method\u001b[0m\u001b[0;34m)\u001b[0m\u001b[0;34m\u001b[0m\u001b[0;34m\u001b[0m\u001b[0m\n",
            "\u001b[0;32m/usr/local/lib/python3.8/dist-packages/IPython/core/pylabtools.py\u001b[0m in \u001b[0;36m<lambda>\u001b[0;34m(fig)\u001b[0m\n\u001b[1;32m    242\u001b[0m \u001b[0;34m\u001b[0m\u001b[0m\n\u001b[1;32m    243\u001b[0m     \u001b[0;32mif\u001b[0m \u001b[0;34m'png'\u001b[0m \u001b[0;32min\u001b[0m \u001b[0mformats\u001b[0m\u001b[0;34m:\u001b[0m\u001b[0;34m\u001b[0m\u001b[0;34m\u001b[0m\u001b[0m\n\u001b[0;32m--> 244\u001b[0;31m         \u001b[0mpng_formatter\u001b[0m\u001b[0;34m.\u001b[0m\u001b[0mfor_type\u001b[0m\u001b[0;34m(\u001b[0m\u001b[0mFigure\u001b[0m\u001b[0;34m,\u001b[0m \u001b[0;32mlambda\u001b[0m \u001b[0mfig\u001b[0m\u001b[0;34m:\u001b[0m \u001b[0mprint_figure\u001b[0m\u001b[0;34m(\u001b[0m\u001b[0mfig\u001b[0m\u001b[0;34m,\u001b[0m \u001b[0;34m'png'\u001b[0m\u001b[0;34m,\u001b[0m \u001b[0;34m**\u001b[0m\u001b[0mkwargs\u001b[0m\u001b[0;34m)\u001b[0m\u001b[0;34m)\u001b[0m\u001b[0;34m\u001b[0m\u001b[0;34m\u001b[0m\u001b[0m\n\u001b[0m\u001b[1;32m    245\u001b[0m     \u001b[0;32mif\u001b[0m \u001b[0;34m'retina'\u001b[0m \u001b[0;32min\u001b[0m \u001b[0mformats\u001b[0m \u001b[0;32mor\u001b[0m \u001b[0;34m'png2x'\u001b[0m \u001b[0;32min\u001b[0m \u001b[0mformats\u001b[0m\u001b[0;34m:\u001b[0m\u001b[0;34m\u001b[0m\u001b[0;34m\u001b[0m\u001b[0m\n\u001b[1;32m    246\u001b[0m         \u001b[0mpng_formatter\u001b[0m\u001b[0;34m.\u001b[0m\u001b[0mfor_type\u001b[0m\u001b[0;34m(\u001b[0m\u001b[0mFigure\u001b[0m\u001b[0;34m,\u001b[0m \u001b[0;32mlambda\u001b[0m \u001b[0mfig\u001b[0m\u001b[0;34m:\u001b[0m \u001b[0mretina_figure\u001b[0m\u001b[0;34m(\u001b[0m\u001b[0mfig\u001b[0m\u001b[0;34m,\u001b[0m \u001b[0;34m**\u001b[0m\u001b[0mkwargs\u001b[0m\u001b[0;34m)\u001b[0m\u001b[0;34m)\u001b[0m\u001b[0;34m\u001b[0m\u001b[0;34m\u001b[0m\u001b[0m\n",
            "\u001b[0;32m/usr/local/lib/python3.8/dist-packages/IPython/core/pylabtools.py\u001b[0m in \u001b[0;36mprint_figure\u001b[0;34m(fig, fmt, bbox_inches, **kwargs)\u001b[0m\n\u001b[1;32m    126\u001b[0m \u001b[0;34m\u001b[0m\u001b[0m\n\u001b[1;32m    127\u001b[0m     \u001b[0mbytes_io\u001b[0m \u001b[0;34m=\u001b[0m \u001b[0mBytesIO\u001b[0m\u001b[0;34m(\u001b[0m\u001b[0;34m)\u001b[0m\u001b[0;34m\u001b[0m\u001b[0;34m\u001b[0m\u001b[0m\n\u001b[0;32m--> 128\u001b[0;31m     \u001b[0mfig\u001b[0m\u001b[0;34m.\u001b[0m\u001b[0mcanvas\u001b[0m\u001b[0;34m.\u001b[0m\u001b[0mprint_figure\u001b[0m\u001b[0;34m(\u001b[0m\u001b[0mbytes_io\u001b[0m\u001b[0;34m,\u001b[0m \u001b[0;34m**\u001b[0m\u001b[0mkw\u001b[0m\u001b[0;34m)\u001b[0m\u001b[0;34m\u001b[0m\u001b[0;34m\u001b[0m\u001b[0m\n\u001b[0m\u001b[1;32m    129\u001b[0m     \u001b[0mdata\u001b[0m \u001b[0;34m=\u001b[0m \u001b[0mbytes_io\u001b[0m\u001b[0;34m.\u001b[0m\u001b[0mgetvalue\u001b[0m\u001b[0;34m(\u001b[0m\u001b[0;34m)\u001b[0m\u001b[0;34m\u001b[0m\u001b[0;34m\u001b[0m\u001b[0m\n\u001b[1;32m    130\u001b[0m     \u001b[0;32mif\u001b[0m \u001b[0mfmt\u001b[0m \u001b[0;34m==\u001b[0m \u001b[0;34m'svg'\u001b[0m\u001b[0;34m:\u001b[0m\u001b[0;34m\u001b[0m\u001b[0;34m\u001b[0m\u001b[0m\n",
            "\u001b[0;32m/usr/local/lib/python3.8/dist-packages/matplotlib/backend_bases.py\u001b[0m in \u001b[0;36mprint_figure\u001b[0;34m(self, filename, dpi, facecolor, edgecolor, orientation, format, bbox_inches, **kwargs)\u001b[0m\n\u001b[1;32m   2089\u001b[0m         \u001b[0mReturns\u001b[0m\u001b[0;34m\u001b[0m\u001b[0;34m\u001b[0m\u001b[0m\n\u001b[1;32m   2090\u001b[0m         \u001b[0;34m-\u001b[0m\u001b[0;34m-\u001b[0m\u001b[0;34m-\u001b[0m\u001b[0;34m-\u001b[0m\u001b[0;34m-\u001b[0m\u001b[0;34m-\u001b[0m\u001b[0;34m-\u001b[0m\u001b[0;34m\u001b[0m\u001b[0;34m\u001b[0m\u001b[0m\n\u001b[0;32m-> 2091\u001b[0;31m         \u001b[0mbool\u001b[0m\u001b[0;34m\u001b[0m\u001b[0;34m\u001b[0m\u001b[0m\n\u001b[0m\u001b[1;32m   2092\u001b[0m             \u001b[0mWhether\u001b[0m \u001b[0mthe\u001b[0m \u001b[0mratio\u001b[0m \u001b[0mhas\u001b[0m \u001b[0mchanged\u001b[0m\u001b[0;34m.\u001b[0m \u001b[0mBackends\u001b[0m \u001b[0mmay\u001b[0m \u001b[0minterpret\u001b[0m \u001b[0mthis\u001b[0m \u001b[0;32mas\u001b[0m \u001b[0ma\u001b[0m\u001b[0;34m\u001b[0m\u001b[0;34m\u001b[0m\u001b[0m\n\u001b[1;32m   2093\u001b[0m             \u001b[0msignal\u001b[0m \u001b[0mto\u001b[0m \u001b[0mresize\u001b[0m \u001b[0mthe\u001b[0m \u001b[0mwindow\u001b[0m\u001b[0;34m,\u001b[0m \u001b[0mrepaint\u001b[0m \u001b[0mthe\u001b[0m \u001b[0mcanvas\u001b[0m\u001b[0;34m,\u001b[0m \u001b[0;32mor\u001b[0m \u001b[0mchange\u001b[0m \u001b[0many\u001b[0m\u001b[0;34m\u001b[0m\u001b[0;34m\u001b[0m\u001b[0m\n",
            "\u001b[0;32m/usr/local/lib/python3.8/dist-packages/matplotlib/backend_bases.py\u001b[0m in \u001b[0;36m_get_renderer\u001b[0;34m(figure, print_method)\u001b[0m\n\u001b[1;32m   1558\u001b[0m         \u001b[0;32mtry\u001b[0m\u001b[0;34m:\u001b[0m\u001b[0;34m\u001b[0m\u001b[0;34m\u001b[0m\u001b[0m\n\u001b[1;32m   1559\u001b[0m             \u001b[0mprint_method\u001b[0m\u001b[0;34m(\u001b[0m\u001b[0mio\u001b[0m\u001b[0;34m.\u001b[0m\u001b[0mBytesIO\u001b[0m\u001b[0;34m(\u001b[0m\u001b[0;34m)\u001b[0m\u001b[0;34m)\u001b[0m\u001b[0;34m\u001b[0m\u001b[0;34m\u001b[0m\u001b[0m\n\u001b[0;32m-> 1560\u001b[0;31m         \u001b[0;32mexcept\u001b[0m \u001b[0mDone\u001b[0m \u001b[0;32mas\u001b[0m \u001b[0mexc\u001b[0m\u001b[0;34m:\u001b[0m\u001b[0;34m\u001b[0m\u001b[0;34m\u001b[0m\u001b[0m\n\u001b[0m\u001b[1;32m   1561\u001b[0m             \u001b[0mrenderer\u001b[0m\u001b[0;34m,\u001b[0m \u001b[0;34m=\u001b[0m \u001b[0mexc\u001b[0m\u001b[0;34m.\u001b[0m\u001b[0margs\u001b[0m\u001b[0;34m\u001b[0m\u001b[0;34m\u001b[0m\u001b[0m\n\u001b[1;32m   1562\u001b[0m             \u001b[0;32mreturn\u001b[0m \u001b[0mrenderer\u001b[0m\u001b[0;34m\u001b[0m\u001b[0;34m\u001b[0m\u001b[0m\n",
            "\u001b[0;32m/usr/local/lib/python3.8/dist-packages/matplotlib/backends/backend_agg.py\u001b[0m in \u001b[0;36mprint_png\u001b[0;34m(self, filename_or_obj, metadata, pil_kwargs, *args, **kwargs)\u001b[0m\n\u001b[1;32m    503\u001b[0m             \u001b[0mIf\u001b[0m \u001b[0;34m'Software'\u001b[0m \u001b[0;32mis\u001b[0m \u001b[0;32mnot\u001b[0m \u001b[0mgiven\u001b[0m\u001b[0;34m,\u001b[0m \u001b[0man\u001b[0m \u001b[0mautogenerated\u001b[0m \u001b[0mvalue\u001b[0m \u001b[0;32mfor\u001b[0m \u001b[0mMatplotlib\u001b[0m\u001b[0;34m\u001b[0m\u001b[0;34m\u001b[0m\u001b[0m\n\u001b[1;32m    504\u001b[0m             \u001b[0mwill\u001b[0m \u001b[0mbe\u001b[0m \u001b[0mused\u001b[0m\u001b[0;34m.\u001b[0m  \u001b[0mThis\u001b[0m \u001b[0mcan\u001b[0m \u001b[0mbe\u001b[0m \u001b[0mremoved\u001b[0m \u001b[0mby\u001b[0m \u001b[0msetting\u001b[0m \u001b[0mit\u001b[0m \u001b[0mto\u001b[0m \u001b[0;34m*\u001b[0m\u001b[0;32mNone\u001b[0m\u001b[0;34m*\u001b[0m\u001b[0;34m.\u001b[0m\u001b[0;34m\u001b[0m\u001b[0;34m\u001b[0m\u001b[0m\n\u001b[0;32m--> 505\u001b[0;31m \u001b[0;34m\u001b[0m\u001b[0m\n\u001b[0m\u001b[1;32m    506\u001b[0m             \u001b[0mFor\u001b[0m \u001b[0mmore\u001b[0m \u001b[0mdetails\u001b[0m \u001b[0msee\u001b[0m \u001b[0mthe\u001b[0m\u001b[0;31m \u001b[0m\u001b[0;31m`\u001b[0m\u001b[0mPNG\u001b[0m \u001b[0mspecification\u001b[0m\u001b[0;31m`\u001b[0m\u001b[0m_\u001b[0m\u001b[0;34m.\u001b[0m\u001b[0;34m\u001b[0m\u001b[0;34m\u001b[0m\u001b[0m\n\u001b[1;32m    507\u001b[0m \u001b[0;34m\u001b[0m\u001b[0m\n",
            "\u001b[0;31mImportError\u001b[0m: cannot import name '_png' from 'matplotlib' (/usr/local/lib/python3.8/dist-packages/matplotlib/__init__.py)"
          ]
        },
        {
          "output_type": "display_data",
          "data": {
            "text/plain": [
              "<Figure size 432x288 with 1 Axes>"
            ]
          },
          "metadata": {
            "needs_background": "light"
          }
        }
      ],
      "source": [
        "# plot the relationship between abatement effort and efficiency of that effort\n",
        "\n",
        "def efficiency_of_abatement_effort(xi:float):\n",
        "    theta = np.linspace(0, 1, num = 100) # theta is abatement effort\n",
        "    a = (1-theta)** xi\n",
        "    return theta, a\n",
        "\n",
        "# CHANGE PARAMTER xi HERE: # \n",
        "theta, a1 = efficiency_of_abatement_effort(xi = 10)\n",
        "theta, a2 = efficiency_of_abatement_effort(xi = 6)\n",
        "\n",
        "# CHANGE THE LABEL FOR YOUR GRAPHS HERE: # \n",
        "plt.plot(theta, a1, 'b', label='xi = 10')\n",
        "plt.plot(theta, a2, 'r', label='xi = 6')\n",
        "plt.legend()\n",
        "plt.ylabel('a(theta)')\n",
        "plt.xlabel('theta')\n",
        "plt.title('Efficiency of Abatement Effort')\n",
        "plt.show()"
      ]
    },
    {
      "cell_type": "markdown",
      "metadata": {
        "id": "YcIA1ht7y1B7"
      },
      "source": [
        "**Student Answer:**\n",
        "(click into this cell and type your answer)\n",
        "    \n",
        "    \n",
        "    \n",
        "    \n",
        "    "
      ]
    },
    {
      "cell_type": "markdown",
      "metadata": {
        "id": "wQA942ooy1B7"
      },
      "source": [
        "**Green Technology**\n",
        "\n",
        "In addition to $a(\\theta)$ the level of green technology used in production $\\Omega_t$ impacts total emissions. In our model $\\Omega_t$ is given by $\\Omega_t = (1 - \\omega)^t$, and changes over time. "
      ]
    },
    {
      "cell_type": "markdown",
      "metadata": {
        "id": "B10HTMIyy1B7"
      },
      "source": [
        "_Code-Guide_\n",
        "1. We generate a python function with $\\omega$ as input\n",
        "2. The output is a set of $\\Omega$ for different values of $\\omega$.\n",
        "3. choose different $\\omega$, and output $\\Omega$ based on $\\omega$\n",
        "4. name $\\Omega$\n",
        "5. plot"
      ]
    },
    {
      "cell_type": "code",
      "execution_count": null,
      "metadata": {
        "ExecuteTime": {
          "end_time": "2022-08-06T17:02:34.578937Z",
          "start_time": "2022-08-06T17:02:34.479423Z"
        },
        "id": "02BBE4BAy1B7",
        "outputId": "231e8c35-15c7-4c93-845e-93641514d9b1"
      },
      "outputs": [
        {
          "data": {
            "image/png": "[encoded data removed]",
            "text/plain": [
              "<Figure size 432x288 with 1 Axes>"
            ]
          },
          "metadata": {
            "needs_background": "light"
          },
          "output_type": "display_data"
        }
      ],
      "source": [
        "# plot the relationship between abatement effort and efficiency of that effort\n",
        "\n",
        "# define function\n",
        "def green_technology_factor(omega:float):\n",
        "    t = np.linspace(0, 100, num = 100) # theta is abatement effort\n",
        "    Omega = (1-omega)**t\n",
        "    return t, Omega\n",
        "\n",
        "# set parameters\n",
        "t, Omega1 = green_technology_factor(omega = 0.3) # omega is between 0 and 1\n",
        "t, Omega2 = green_technology_factor(omega = 0.1)\n",
        "\n",
        "# plot the relationship between unknowns\n",
        "plt.plot(t, Omega1, 'b', label='omega = 0.3')\n",
        "plt.plot(t, Omega2, 'r', label='omega = 0.1')\n",
        "plt.legend()\n",
        "plt.ylabel('Omega')\n",
        "plt.xlabel('t')\n",
        "plt.title('Green Technology Factor with Time')\n",
        "plt.show()"
      ]
    },
    {
      "cell_type": "markdown",
      "metadata": {
        "id": "NJBm3Q4sy1B7"
      },
      "source": [
        "**Student Task**\n",
        "Explain in your own words how abatement differs in the above cases. Can you think of real worl examples which would show the same differences?\n"
      ]
    },
    {
      "cell_type": "markdown",
      "metadata": {
        "id": "fFcm_IaJy1B8"
      },
      "source": [
        "**Student Answer**\n",
        "green tech declining over time?\n",
        "even without abatement tech, carbon inesntiy is going down becasue of policy.\n",
        "little omega (w) is similar to pheta, but initial, a prameter in baseline investemnt in carbon tech (between 0 and 1 as proportion).\n",
        "a is similar to big omega becasue both Y in grpahical function. \n",
        "litte omega and xi is x in graph function.\n",
        "big omega captures the carbon intensity so decline over time is reducing emissions. \n",
        "so higher little omega (w) means higher basline investment in tech, and a quicker reduction in carbon intensity.\n",
        "so blue line is more efficient, abatement if faster. \n",
        "real world \n"
      ]
    },
    {
      "cell_type": "markdown",
      "metadata": {
        "id": "Bt3yt1Jjy1B8"
      },
      "source": [
        "**Student Task: Try it yourself**\n",
        "Below, use different parameterisation for $\\omega$. How does the simulation change? Explain intuitively. How would you choose teh parametarisation to capture (a) no technological progress in the green technology over time and (b)a technology revolution which significantly reduces emissions in production. Explain your answer.\n"
      ]
    },
    {
      "cell_type": "code",
      "execution_count": null,
      "metadata": {
        "ExecuteTime": {
          "end_time": "2022-08-06T17:02:34.578937Z",
          "start_time": "2022-08-06T17:02:34.479423Z"
        },
        "id": "3Ezr7syVy1B8",
        "outputId": "9ec2c6f3-f6c8-448c-ec5e-6f66cb1b6c75"
      },
      "outputs": [
        {
          "data": {
            "image/png": "[encoded data removed]",
            "text/plain": [
              "<Figure size 432x288 with 1 Axes>"
            ]
          },
          "metadata": {
            "needs_background": "light"
          },
          "output_type": "display_data"
        }
      ],
      "source": [
        "# plot the relationship between abatement effort and efficiency of that effort\n",
        "\n",
        "# define function\n",
        "def green_technology_factor(omega:float):\n",
        "    t = np.linspace(0, 100, num = 100) # theta is abatement effort\n",
        "    Omega = (1-omega)**t\n",
        "    return t, Omega\n",
        "\n",
        "# set parameters\n",
        "t, Omega1 = green_technology_factor(omega = 0.3) # omega is between 0 and 1\n",
        "t, Omega2 = green_technology_factor(omega = 0.1)\n",
        "\n",
        "# plot the relationship between unknowns\n",
        "plt.plot(t, Omega1, 'b', label='omega = 0.3')\n",
        "plt.plot(t, Omega2, 'r', label='omega = 0.1')\n",
        "plt.legend()\n",
        "plt.ylabel('Omega')\n",
        "plt.xlabel('t')\n",
        "plt.title('Green Technology Factor with Time')\n",
        "plt.show()"
      ]
    },
    {
      "cell_type": "markdown",
      "metadata": {
        "id": "QpllrVwny1B8"
      },
      "source": [
        "**Student Answer**\n",
        "(click into this cell and type your answer)"
      ]
    },
    {
      "cell_type": "markdown",
      "metadata": {
        "id": "5M_n_yZry1B9"
      },
      "source": [
        "## Simulating emissions and capital evolution"
      ]
    },
    {
      "cell_type": "markdown",
      "metadata": {
        "id": "GdY3iifgy1B9"
      },
      "source": [
        "We now simulate both capital growth and emissions. We do this in per-capita terms as discussed above. We also assume constant labour supply (no population growth). "
      ]
    },
    {
      "cell_type": "markdown",
      "metadata": {
        "id": "ugOzKc9hy1B9"
      },
      "source": [
        "__Code-Guide__\n",
        "1. define a python function with different parameters as input, producing a list of simulated values for variables of interest at discrete time points. In the function,\n",
        "    - define the variables (arguments and parameters of the function)\n",
        "    - write the rule, updating the outcome with time\n",
        "    - output the list of time points and lists of updated (simulated) values\n",
        "\n",
        "2. choose the values of the arguments of the function, and pass the output to naming variables\n",
        "3. plot "
      ]
    },
    {
      "cell_type": "code",
      "execution_count": null,
      "metadata": {
        "ExecuteTime": {
          "end_time": "2022-08-06T17:16:47.387782Z",
          "start_time": "2022-08-06T17:16:47.225690Z"
        },
        "id": "FaMyZEpky1B9",
        "outputId": "f3f98d8e-c79e-498e-9c5c-bf6d781a0507"
      },
      "outputs": [
        {
          "data": {
            "image/png": "[encoded data removed]",
            "text/plain": [
              "<Figure size 720x288 with 2 Axes>"
            ]
          },
          "metadata": {
            "needs_background": "light"
          },
          "output_type": "display_data"
        }
      ],
      "source": [
        "## DISCRETE\n",
        "\n",
        "# define functions\n",
        "def simulate_capital_intensity_with_discrete_time(T, k0, A, a, s, d, theta, xi, omega):\n",
        "    \n",
        "    n = 0.00\n",
        "    j = -0.002\n",
        "    k = [k0]\n",
        "    e = []\n",
        "    \n",
        "    t0 = 0\n",
        "    timesteps = [t0]\n",
        "\n",
        "    for t in range(T):\n",
        "        F = A * k[t] ** a\n",
        "        k.append(s* F * (1-theta) - (d-1-n)*k[t])\n",
        "\n",
        "        Omega = (1-omega)**t\n",
        "        e.append(F*Omega*(1-theta)**xi)    \n",
        "\n",
        "        timesteps.append(t)\n",
        "\n",
        "    return timesteps, k, e \n",
        "\n",
        "# choose values\n",
        "t, k, e = simulate_capital_intensity_with_discrete_time(T=750, k0=0.5, A=1, a=0.5, s=0.05, d=0.02, theta=0.1, xi=2, omega=0.01)\n",
        "\n",
        "# plot\n",
        "fig, axes = plt.subplots(nrows=1, ncols=2, sharey=False, constrained_layout=True, figsize=(10,4))\n",
        "\n",
        "axes[0].plot(k, 'b:')\n",
        "axes[0].set_title('Per capita Capital stock in the Green-Solow model')\n",
        "\n",
        "axes[1].plot(e, 'r:')\n",
        "axes[1].set_title('Per capita emissions in the Green-Solow model')\n",
        "\n",
        "fig.supxlabel('Time')\n",
        "plt.show()"
      ]
    },
    {
      "cell_type": "markdown",
      "metadata": {
        "id": "xz_3Uaudy1B9"
      },
      "source": [
        "**Student Task**\n",
        "1. Explain the simulation above intuitively. \n",
        "2. Below, change the parameterisation in the following ways and intuitively explain how the simulation changes:\n",
        "2.1. A government does invest only a small fraction of GDP into abatement\n",
        "2.2. A country has a strong research focus in environmental technologies and are leading on the implementation of green technology\n",
        "3. How are your simulations linked to the Environmental Kuznets Curve discussed in the lecture?"
      ]
    },
    {
      "cell_type": "code",
      "execution_count": null,
      "metadata": {
        "ExecuteTime": {
          "end_time": "2022-08-06T17:16:47.387782Z",
          "start_time": "2022-08-06T17:16:47.225690Z"
        },
        "id": "wRwi-oYDy1B9",
        "outputId": "72c657de-d185-43ff-85a2-5b4ca57fc6b8"
      },
      "outputs": [
        {
          "data": {
            "image/png": "[encoded data removed]",
            "text/plain": [
              "<Figure size 720x288 with 2 Axes>"
            ]
          },
          "metadata": {
            "needs_background": "light"
          },
          "output_type": "display_data"
        }
      ],
      "source": [
        "## DISCRETE\n",
        "\n",
        "# define functions\n",
        "def simulate_capital_intensity_with_discrete_time(T, k0, A, a, s, d, theta, xi, omega):\n",
        "    \n",
        "    n = 0.00\n",
        "    j = -0.002\n",
        "    k = [k0]\n",
        "    e = []\n",
        "    \n",
        "    t0 = 0\n",
        "    timesteps = [t0]\n",
        "\n",
        "    for t in range(T):\n",
        "        F = A * k[t] ** a\n",
        "        k.append(s* F * (1-theta) - (d-1-n)*k[t])\n",
        "\n",
        "        Omega = (1-omega)**t\n",
        "        e.append(F*Omega*(1-theta)**xi)    \n",
        "\n",
        "        timesteps.append(t)\n",
        "\n",
        "    return timesteps, k, e \n",
        "\n",
        "# choose values\n",
        "t, k, e = simulate_capital_intensity_with_discrete_time(T=750, k0=0.5, A=1, a=0.5, s=0.05, d=0.02, theta=0.1, xi=2, omega=0.01)\n",
        "\n",
        "# plot\n",
        "fig, axes = plt.subplots(nrows=1, ncols=2, sharey=False, constrained_layout=True, figsize=(10,4))\n",
        "\n",
        "axes[0].plot(k, 'b:')\n",
        "axes[0].set_title('Per capita Capital stock in the Green-Solow model')\n",
        "\n",
        "axes[1].plot(e, 'r:')\n",
        "axes[1].set_title('Per capita emissions in the Green-Solow model')\n",
        "\n",
        "fig.supxlabel('Time')\n",
        "plt.show()"
      ]
    },
    {
      "cell_type": "markdown",
      "metadata": {
        "id": "haWKX11Fy1B-"
      },
      "source": [
        "**Student Answer**\n",
        "(click into this cell and type your answer)"
      ]
    },
    {
      "cell_type": "markdown",
      "metadata": {
        "id": "sFgb7sgjy1B-"
      },
      "source": [
        "## Emissions versus concentrations of pollutants\n",
        "\n",
        "In the simulations above, we simulated how emissions evolve over time. Responsible for climate change and global warming is however the concentration of pollutants in the athmospehere. In the following we add how the concentration of pollutants evolves. \n",
        "\n",
        "Suppose the concentration of pollutants at time $t$ is $C_t$, The concentration evolves over time in the following model: $$ C_{t+1} = \\kappa C_t + E_t = kC_t + L_t \\times e_t$$ \n",
        "\n",
        "Look at the following simulation:"
      ]
    },
    {
      "cell_type": "code",
      "execution_count": null,
      "metadata": {
        "ExecuteTime": {
          "end_time": "2022-08-06T22:48:39.369020Z",
          "start_time": "2022-08-06T22:48:39.191396Z"
        },
        "id": "weUpW1Q3y1B-",
        "outputId": "3fa3b205-cfe7-44d4-e3ed-36c85a3c2f43"
      },
      "outputs": [
        {
          "data": {
            "image/png": "[encoded data removed]",
            "text/plain": [
              "<Figure size 1080x288 with 3 Axes>"
            ]
          },
          "metadata": {
            "needs_background": "light"
          },
          "output_type": "display_data"
        }
      ],
      "source": [
        "# define functions\n",
        "def simulate_capital_intensity(T, k0, C0, L0, A, a, s, d, theta, xi, omega, kappa):\n",
        "    \n",
        "    n = 0.0\n",
        "    j = -0.002\n",
        "    \n",
        "    k = [k0]\n",
        "    e = []\n",
        "    C = [C0]\n",
        "    L = [L0]\n",
        "\n",
        "    t0 = 0\n",
        "    timesteps = [t0]\n",
        "\n",
        "    for t in range(T):\n",
        "        F = A * k[t] ** a\n",
        "        k.append(s* F * (1-theta) - (d-1-n)*k[t])\n",
        "        \n",
        "        Omega = (1-omega)**t\n",
        "        e.append(F*Omega*(1-theta)**xi)\n",
        "\n",
        "        L.append(L[t]*np.exp(n))\n",
        "        \n",
        "        C.append(kappa*C[t] + L[t]*e[t])     \n",
        "\n",
        "        timesteps.append(t)\n",
        "\n",
        "    return timesteps, k, e, C \n",
        "\n",
        "# choose values\n",
        "t, k, e, C = simulate_capital_intensity(\n",
        "    T=750, k0=0.5, C0=10, L0=1,  A=1, a=0.1, s=0.5, d=0.02, theta=0.01, xi=2, omega=0.01, kappa=0.999)\n",
        "\n",
        "# plot\n",
        "fig, axes = plt.subplots(nrows=1, ncols=3, sharey=False, constrained_layout=False, figsize=(15,4))\n",
        "\n",
        "axes[0].plot(k, 'b:')\n",
        "axes[0].set_title('Per capita Capital stock in the Green-Solow model')\n",
        "axes[1].plot(e, 'r:')\n",
        "axes[1].set_title('Per capita emissions in the Green-Solow model')\n",
        "axes[2].plot(C, 'r:')\n",
        "axes[2].set_title('Total Polution in the Green-Solow model')\n",
        "\n",
        "fig.supxlabel('Time')\n",
        "plt.show()"
      ]
    },
    {
      "cell_type": "markdown",
      "metadata": {
        "id": "DSvQYpv3y1B-"
      },
      "source": [
        "**Student Task**\n",
        "1. Explain the simulation above intuitively. How does the above simulation link to the idea of an environmental Kuznets curve?\n",
        "2. Below, change the parameterisation in the following ways and intuitively explain how the simulation changes:\n",
        "2.1. A government does invest only a small fraction of GDP into abatement\n",
        "2.2. A country has a strong research focus in environmental technologies and are leading on the implementation of green technology\n",
        "3. Can you simulate cases where emissions per capita increase, but total emissions do not? What does that mean concerning the impact on growth on the environment? "
      ]
    },
    {
      "cell_type": "code",
      "execution_count": null,
      "metadata": {
        "ExecuteTime": {
          "end_time": "2022-08-06T22:48:39.369020Z",
          "start_time": "2022-08-06T22:48:39.191396Z"
        },
        "id": "zkulUsxhy1B-",
        "outputId": "65775c17-dad1-4d73-8f09-d0bb671cd271"
      },
      "outputs": [
        {
          "data": {
            "image/png": "[encoded data removed]",
            "text/plain": [
              "<Figure size 1080x288 with 3 Axes>"
            ]
          },
          "metadata": {
            "needs_background": "light"
          },
          "output_type": "display_data"
        }
      ],
      "source": [
        "# define functions\n",
        "def simulate_capital_intensity(T, k0, C0, L0, A, a, s, d, theta, xi, omega, kappa):\n",
        "    \n",
        "    n = 0.0\n",
        "    j = -0.002\n",
        "    \n",
        "    k = [k0]\n",
        "    e = []\n",
        "    C = [C0]\n",
        "    L = [L0]\n",
        "\n",
        "    t0 = 0\n",
        "    timesteps = [t0]\n",
        "\n",
        "    for t in range(T):\n",
        "        F = A * k[t] ** a\n",
        "        k.append(s* F * (1-theta) - (d-1-n)*k[t])\n",
        "        \n",
        "        Omega = (1-omega)**t\n",
        "        e.append(F*Omega*(1-theta)**xi)\n",
        "\n",
        "        L.append(L[t]*np.exp(n))\n",
        "        \n",
        "        C.append(kappa*C[t] + L[t]*e[t])     \n",
        "\n",
        "        timesteps.append(t)\n",
        "\n",
        "    return timesteps, k, e, C \n",
        "\n",
        "# choose values\n",
        "t, k, e, C = simulate_capital_intensity(\n",
        "    T=750, k0=0.5, C0=10, L0=1,  A=1, a=0.1, s=0.5, d=0.02, theta=0.01, xi=2, omega=0.01, kappa=0.999)\n",
        "\n",
        "# plot\n",
        "fig, axes = plt.subplots(nrows=1, ncols=3, sharey=False, constrained_layout=False, figsize=(15,4))\n",
        "\n",
        "axes[0].plot(k, 'b:')\n",
        "axes[0].set_title('Per capita Capital stock in the Green-Solow model')\n",
        "axes[1].plot(e, 'r:')\n",
        "axes[1].set_title('Per capita emissions in the Green-Solow model')\n",
        "axes[2].plot(C, 'r:')\n",
        "axes[2].set_title('Total Polution in the Green-Solow model')\n",
        "\n",
        "fig.supxlabel('Time')\n",
        "plt.show()"
      ]
    },
    {
      "cell_type": "markdown",
      "metadata": {
        "id": "sj1DvXpTy1B-"
      },
      "source": [
        "**Student Answer**\n",
        "(click into this cell and type your answer)"
      ]
    }
  ],
  "metadata": {
    "author": "at",
    "celltoolbar": "Raw Cell Format",
    "kernelspec": {
      "display_name": "Python 3 (ipykernel)",
      "language": "python",
      "name": "python3"
    },
    "language_info": {
      "codemirror_mode": {
        "name": "ipython",
        "version": 3
      },
      "file_extension": ".py",
      "mimetype": "text/x-python",
      "name": "python",
      "nbconvert_exporter": "python",
      "pygments_lexer": "ipython3",
      "version": "3.9.7"
    },
    "latex_envs": {
      "LaTeX_envs_menu_present": true,
      "autoclose": false,
      "autocomplete": true,
      "bibliofile": "biblio.bib",
      "cite_by": "apalike",
      "current_citInitial": 1,
      "eqLabelWithNumbers": true,
      "eqNumInitial": 1,
      "hotkeys": {
        "equation": "Ctrl-E",
        "itemize": "Ctrl-I"
      },
      "labels_anchors": false,
      "latex_user_defs": false,
      "report_style_numbering": false,
      "user_envs_cfg": false
    },
    "toc": {
      "base_numbering": 1,
      "nav_menu": {},
      "number_sections": true,
      "sideBar": true,
      "skip_h1_title": false,
      "title_cell": "Table of Contents",
      "title_sidebar": "Contents",
      "toc_cell": false,
      "toc_position": {},
      "toc_section_display": true,
      "toc_window_display": false
    },
    "varInspector": {
      "cols": {
        "lenName": 16,
        "lenType": 16,
        "lenVar": 40
      },
      "kernels_config": {
        "python": {
          "delete_cmd_postfix": "",
          "delete_cmd_prefix": "del ",
          "library": "var_list.py",
          "varRefreshCmd": "print(var_dic_list())"
        },
        "r": {
          "delete_cmd_postfix": ") ",
          "delete_cmd_prefix": "rm(",
          "library": "var_list.r",
          "varRefreshCmd": "cat(var_dic_list()) "
        }
      },
      "types_to_exclude": [
        "module",
        "function",
        "builtin_function_or_method",
        "instance",
        "_Feature"
      ],
      "window_display": false
    },
    "vscode": {
      "interpreter": {
        "hash": "af326a96a91f2297eda2f1df312120366ce8e3cd620dca7b8717307a740fb193"
      }
    },
    "colab": {
      "provenance": [],
      "include_colab_link": true
    }
  },
  "nbformat": 4,
  "nbformat_minor": 0
}