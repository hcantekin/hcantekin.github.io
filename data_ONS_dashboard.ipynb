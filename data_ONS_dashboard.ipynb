{
  "nbformat": 4,
  "nbformat_minor": 0,
  "metadata": {
    "colab": {
      "provenance": [],
      "collapsed_sections": [],
      "authorship_tag": "ABX9TyP7z1i9vP+P2fWET7fhIGGZ",
      "include_colab_link": true
    },
    "kernelspec": {
      "name": "python3",
      "display_name": "Python 3"
    },
    "language_info": {
      "name": "python"
    }
  },
  "cells": [
    {
      "cell_type": "markdown",
      "metadata": {
        "id": "view-in-github",
        "colab_type": "text"
      },
      "source": [
        "<a href=\"https://colab.research.google.com/github/hcantekin/hcantekin.github.io/blob/main/data_ONS_dashboard.ipynb\" target=\"_parent\"><img src=\"https://colab.research.google.com/assets/colab-badge.svg\" alt=\"Open In Colab\"/></a>"
      ]
    },
    {
      "cell_type": "code",
      "execution_count": 68,
      "metadata": {
        "colab": {
          "base_uri": "https://localhost:8080/"
        },
        "id": "obx47gEgL-N4",
        "outputId": "e8e2b7ee-0405-4264-e2cc-23149f1282a0"
      },
      "outputs": [
        {
          "output_type": "stream",
          "name": "stdout",
          "text": [
            "2.23.0\n",
            "2.0.9\n"
          ]
        }
      ],
      "source": [
        "import requests \n",
        "import json\n",
        "from google.colab import files\n",
        "import os\n",
        "print(requests.__version__)\n",
        "print(json.__version__)"
      ]
    },
    {
      "cell_type": "code",
      "source": [
        "url_base =  \"https://api.ons.gov.uk/timeseries/{}/dataset/unem/data\"\n",
        "file_base = \"data_ONS-{}.json\"\n",
        "ONSseries = ['DPDK', 'DPBE', 'DPBF', 'BCJD', 'DPAG', 'DPDJ', 'IBWK', 'DPBG', 'IBWA', 'DPAX', 'DPDG', 'DPBC', 'DPAY', 'DPDL' , 'DPBB']\n",
        "for i in ONSseries:\n",
        "  print(\"------Iteration Starts--------\")\n",
        "  print(i) \n",
        "  URL = url_base.format(i)\n",
        "  print(URL)\n",
        "  data = requests.get(URL).json()\n",
        "  print(data)\n",
        "  fileName = file_base.format(i) \n",
        "  print(fileName)\n",
        "  print(\"------Iteration Ends--------\")\n",
        "  \n"
      ],
      "metadata": {
        "id": "NrPQa8fpN54j"
      },
      "execution_count": null,
      "outputs": []
    },
    {
      "cell_type": "code",
      "source": [
        "with open(fileName, 'w', encoding='utf-8') as f:\n",
        "  json.dump(data, f, ensure_ascii=False, indent=4)\n",
        "files.download(fileName)"
      ],
      "metadata": {
        "colab": {
          "base_uri": "https://localhost:8080/",
          "height": 17
        },
        "id": "8EvXl4EyPef6",
        "outputId": "464ca480-2b0e-42b8-c3d2-b65b6138e723"
      },
      "execution_count": 71,
      "outputs": [
        {
          "output_type": "display_data",
          "data": {
            "text/plain": [
              "<IPython.core.display.Javascript object>"
            ],
            "application/javascript": [
              "\n",
              "    async function download(id, filename, size) {\n",
              "      if (!google.colab.kernel.accessAllowed) {\n",
              "        return;\n",
              "      }\n",
              "      const div = document.createElement('div');\n",
              "      const label = document.createElement('label');\n",
              "      label.textContent = `Downloading \"${filename}\": `;\n",
              "      div.appendChild(label);\n",
              "      const progress = document.createElement('progress');\n",
              "      progress.max = size;\n",
              "      div.appendChild(progress);\n",
              "      document.body.appendChild(div);\n",
              "\n",
              "      const buffers = [];\n",
              "      let downloaded = 0;\n",
              "\n",
              "      const channel = await google.colab.kernel.comms.open(id);\n",
              "      // Send a message to notify the kernel that we're ready.\n",
              "      channel.send({})\n",
              "\n",
              "      for await (const message of channel.messages) {\n",
              "        // Send a message to notify the kernel that we're ready.\n",
              "        channel.send({})\n",
              "        if (message.buffers) {\n",
              "          for (const buffer of message.buffers) {\n",
              "            buffers.push(buffer);\n",
              "            downloaded += buffer.byteLength;\n",
              "            progress.value = downloaded;\n",
              "          }\n",
              "        }\n",
              "      }\n",
              "      const blob = new Blob(buffers, {type: 'application/binary'});\n",
              "      const a = document.createElement('a');\n",
              "      a.href = window.URL.createObjectURL(blob);\n",
              "      a.download = filename;\n",
              "      div.appendChild(a);\n",
              "      a.click();\n",
              "      div.remove();\n",
              "    }\n",
              "  "
            ]
          },
          "metadata": {}
        },
        {
          "output_type": "display_data",
          "data": {
            "text/plain": [
              "<IPython.core.display.Javascript object>"
            ],
            "application/javascript": [
              "download(\"download_39839c43-2652-44b9-9498-a284fb42781b\", \"data_ONS-DPBB.json\", 260747)"
            ]
          },
          "metadata": {}
        }
      ]
    }
  ]
}