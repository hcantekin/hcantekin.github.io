{
  "nbformat": 4,
  "nbformat_minor": 0,
  "metadata": {
    "colab": {
      "provenance": [],
      "collapsed_sections": [],
      "authorship_tag": "ABX9TyNOsGBGxdtdk+lsfPKyB7Qw",
      "include_colab_link": true
    },
    "kernelspec": {
      "name": "python3",
      "display_name": "Python 3"
    },
    "language_info": {
      "name": "python"
    }
  },
  "cells": [
    {
      "cell_type": "markdown",
      "metadata": {
        "id": "view-in-github",
        "colab_type": "text"
      },
      "source": [
        "<a href=\"https://colab.research.google.com/github/hcantekin/hcantekin.github.io/blob/main/supermarket_data_cleaned.ipynb\" target=\"_parent\"><img src=\"https://colab.research.google.com/assets/colab-badge.svg\" alt=\"Open In Colab\"/></a>"
      ]
    },
    {
      "cell_type": "code",
      "execution_count": null,
      "metadata": {
        "id": "ZzzuplviSx9N"
      },
      "outputs": [],
      "source": [
        "import pandas as pd\n",
        "import numpy as np"
      ]
    },
    {
      "cell_type": "code",
      "source": [
        "Supermarkets= pd.read_html('supermarkets_table.html')\n",
        "print(Supermarkets)"
      ],
      "metadata": {
        "id": "uQqkK39w_YvR"
      },
      "execution_count": null,
      "outputs": []
    },
    {
      "cell_type": "code",
      "source": [
        "sm= np.array(Supermarkets)\n",
        "SM= sm.reshape(19,10)\n",
        "print(SM)"
      ],
      "metadata": {
        "id": "m1PBUgTf_dUR"
      },
      "execution_count": null,
      "outputs": []
    },
    {
      "cell_type": "code",
      "source": [
        "df= pd.DataFrame(SM, columns= ['Supermarket', 'Image', 'Founded/came to UK', 'Owned By', '2021-01-01','2007-01-01', '2000-01-01', 'Number of stores', 'Types of stores', 'Notes'])\n",
        "print(df)"
      ],
      "metadata": {
        "colab": {
          "base_uri": "https://localhost:8080/"
        },
        "id": "IcWODCLVAQcO",
        "outputId": "0ddab4dc-c017-4c39-dcf4-38bd3585c402"
      },
      "execution_count": null,
      "outputs": [
        {
          "output_type": "stream",
          "name": "stdout",
          "text": [
            "               Supermarket Image Founded/came to UK  \\\n",
            "0                    Tesco   NaN               1919   \n",
            "1              Sainsbury's   NaN               1869   \n",
            "2                     Asda   NaN               1949   \n",
            "3                Morrisons   NaN               1899   \n",
            "4                     Aldi   NaN               1990   \n",
            "5                     Lidl   NaN               1994   \n",
            "6               Co-op Food   NaN               1844   \n",
            "7      Waitrose & Partners   NaN               1904   \n",
            "8                  Iceland   NaN               1970   \n",
            "9                    Ocado   NaN               2002   \n",
            "10            Amazon Fresh   NaN               2021   \n",
            "11             B&M express   NaN               2018   \n",
            "12                  Booths   NaN               1847   \n",
            "13                 Budgens   NaN               1872   \n",
            "14               Farmfoods   NaN               1955   \n",
            "15          Fulton's Foods   NaN               1974   \n",
            "16             Heron Foods   NaN               1979   \n",
            "17         Marks & Spencer   NaN               1884   \n",
            "18  Proudfoot Supermarkets   NaN               1948   \n",
            "\n",
            "                                             Owned By 2021-01-01 2007-01-01  \\\n",
            "0         Publicly traded on theLondon Stock Exchange       27.7       31.6   \n",
            "1         Publicly traded on theLondon Stock Exchange       15.5       16.2   \n",
            "2   TDR Capital (50%)Zuber Issa (25%)Mohsin Issa (...       14.6       16.6   \n",
            "3                        Clayton, Dubilier & Rice[18]        9.8       11.2   \n",
            "4                                      Aldi SÃ¼d GmbH        8.0        2.6   \n",
            "5                              Lidl Stiftung & Co. KG        6.1        2.2   \n",
            "6                    Various consumers' co-operatives        5.7        4.4   \n",
            "7                              John Lewis Partnership        5.0        3.9   \n",
            "8                                  UK private company        2.3        1.6   \n",
            "9         Publicly traded on theLondon Stock Exchange        1.8          -   \n",
            "10                                             Amazon          -          -   \n",
            "11                                                B&M          -          -   \n",
            "12                             Booth Family and staff          -          -   \n",
            "13                Booker Group,[13] part of Tesco Plc          -        0.4   \n",
            "14                                 UK private company          -        0.5   \n",
            "15                                          Poundland          -          -   \n",
            "16                                                B&M          -          -   \n",
            "17        Publicly traded on theLondon Stock Exchange          -    4.3[17]   \n",
            "18                                       Family owned        NaN        NaN   \n",
            "\n",
            "   2000-01-01 Number of stores  \\\n",
            "0        25.0   3,443 (UK)[19]   \n",
            "1        17.9             1430   \n",
            "2        14.1              603   \n",
            "3         4.9              542   \n",
            "4         1.5           960[9]   \n",
            "5         1.3              760   \n",
            "6         5.4        2,500[14]   \n",
            "7         2.7              344   \n",
            "8         2.8             1030   \n",
            "9           -                0   \n",
            "10          -           19[10]   \n",
            "11          -          702[11]   \n",
            "12          -               28   \n",
            "13        0.4              190   \n",
            "14          -              320   \n",
            "15          -              100   \n",
            "16          -              290   \n",
            "17          -              852   \n",
            "18        NaN                5   \n",
            "\n",
            "                                      Types of stores  \\\n",
            "0   Tesco Extra  Tesco Superstores  Tesco Metro  T...   \n",
            "1   Sainsbury's (superstores)  Sainsbury's Local  ...   \n",
            "2   Asda Supercentre  Asda Superstore  Asda Superm...   \n",
            "3            Morrisons (superstores)  Morrisons Daily   \n",
            "4                                                 NaN   \n",
            "5                                                 NaN   \n",
            "6                                                 NaN   \n",
            "7   Waitrose  Little Waitrose  John Lewis Foodhall...   \n",
            "8                         Iceland  The Food Warehouse   \n",
            "9                                                 NaN   \n",
            "10                                                NaN   \n",
            "11                                                NaN   \n",
            "12                                                NaN   \n",
            "13                                                NaN   \n",
            "14                                                NaN   \n",
            "15                                                NaN   \n",
            "16                                                NaN   \n",
            "17                                                NaN   \n",
            "18                                                NaN   \n",
            "\n",
            "                                                Notes  \n",
            "0   Premier shops are independently owned stores o...  \n",
            "1                                                 NaN  \n",
            "2   Founded from the merger of Associated Dairies ...  \n",
            "3   Fourth biggest supermarket in the UK. From 201...  \n",
            "4                               No frills supermarket  \n",
            "5                               No frills supermarket  \n",
            "6   Identities shared by about 20 retail co-operat...  \n",
            "7                                                 NaN  \n",
            "8   First store opened at Oswestry, Shropshire in ...  \n",
            "9   Online only, product supply partnership with M&S.  \n",
            "10                                  Cashierless store  \n",
            "11  Conversion of Heron Foods under new faceplate....  \n",
            "12  Found in Lancashire,Greater Manchester,Cumbria...  \n",
            "13  Found in England and Wales, with stores up to ...  \n",
            "14                                                NaN  \n",
            "15  Small supermarket chain based in South Yorkshi...  \n",
            "16  Primarily frozen foods; operates stores throug...  \n",
            "17                         Clothing and food retailer  \n",
            "18  Small independent chain operating in North Yor...  \n"
          ]
        }
      ]
    },
    {
      "cell_type": "code",
      "source": [
        "del df['Image']\n",
        "\n"
      ],
      "metadata": {
        "id": "H3AoWpMAD5Qc"
      },
      "execution_count": null,
      "outputs": []
    },
    {
      "cell_type": "code",
      "source": [
        "del df['Notes']"
      ],
      "metadata": {
        "id": "bJHgn4HtEqr0"
      },
      "execution_count": null,
      "outputs": []
    },
    {
      "cell_type": "code",
      "source": [
        "del df['Owned By']\n",
        "del df['Types of stores']\n"
      ],
      "metadata": {
        "id": "-Y_TLvkKEz4L"
      },
      "execution_count": null,
      "outputs": []
    },
    {
      "cell_type": "code",
      "source": [
        "del df['Founded/came to UK']\n",
        "del df['Number of stores']\n",
        "print(df)"
      ],
      "metadata": {
        "colab": {
          "base_uri": "https://localhost:8080/"
        },
        "id": "wYSJMw_GE7Q8",
        "outputId": "34806869-8a9b-4b31-e789-0d80a1690d27"
      },
      "execution_count": null,
      "outputs": [
        {
          "output_type": "stream",
          "name": "stdout",
          "text": [
            "               Supermarket 2021-01-01 2007-01-01 2000-01-01\n",
            "0                    Tesco       27.7       31.6       25.0\n",
            "1              Sainsbury's       15.5       16.2       17.9\n",
            "2                     Asda       14.6       16.6       14.1\n",
            "3                Morrisons        9.8       11.2        4.9\n",
            "4                     Aldi        8.0        2.6        1.5\n",
            "5                     Lidl        6.1        2.2        1.3\n",
            "6               Co-op Food        5.7        4.4        5.4\n",
            "7      Waitrose & Partners        5.0        3.9        2.7\n",
            "8                  Iceland        2.3        1.6        2.8\n",
            "9                    Ocado        1.8          -          -\n",
            "10            Amazon Fresh          -          -          -\n",
            "11             B&M express          -          -          -\n",
            "12                  Booths          -          -          -\n",
            "13                 Budgens          -        0.4        0.4\n",
            "14               Farmfoods          -        0.5          -\n",
            "15          Fulton's Foods          -          -          -\n",
            "16             Heron Foods          -          -          -\n",
            "17         Marks & Spencer          -    4.3[17]          -\n",
            "18  Proudfoot Supermarkets        NaN        NaN        NaN\n"
          ]
        }
      ]
    },
    {
      "cell_type": "code",
      "source": [
        "df2= df.drop(labels=[9,10,11,12,13,14,15,16,17,18], axis=0)\n",
        "print(df2)"
      ],
      "metadata": {
        "colab": {
          "base_uri": "https://localhost:8080/"
        },
        "id": "IHpGhbU-FeRf",
        "outputId": "d522c6e6-fbb7-4378-a99a-c000c9228e02"
      },
      "execution_count": null,
      "outputs": [
        {
          "output_type": "stream",
          "name": "stdout",
          "text": [
            "           Supermarket 2021-01-01 2007-01-01 2000-01-01\n",
            "0                Tesco       27.7       31.6       25.0\n",
            "1          Sainsbury's       15.5       16.2       17.9\n",
            "2                 Asda       14.6       16.6       14.1\n",
            "3            Morrisons        9.8       11.2        4.9\n",
            "4                 Aldi        8.0        2.6        1.5\n",
            "5                 Lidl        6.1        2.2        1.3\n",
            "6           Co-op Food        5.7        4.4        5.4\n",
            "7  Waitrose & Partners        5.0        3.9        2.7\n",
            "8              Iceland        2.3        1.6        2.8\n"
          ]
        }
      ]
    },
    {
      "cell_type": "code",
      "source": [
        "df3= df2.stack().reset_index()\n",
        "print(df3)"
      ],
      "metadata": {
        "colab": {
          "base_uri": "https://localhost:8080/"
        },
        "id": "lmfDNZetGjhA",
        "outputId": "07d494bc-99b6-4ba5-94ee-22f561e57bed"
      },
      "execution_count": null,
      "outputs": [
        {
          "output_type": "stream",
          "name": "stdout",
          "text": [
            "    level_0      level_1                    0\n",
            "0         0  Supermarket                Tesco\n",
            "1         0   2021-01-01                 27.7\n",
            "2         0   2007-01-01                 31.6\n",
            "3         0   2000-01-01                 25.0\n",
            "4         1  Supermarket          Sainsbury's\n",
            "5         1   2021-01-01                 15.5\n",
            "6         1   2007-01-01                 16.2\n",
            "7         1   2000-01-01                 17.9\n",
            "8         2  Supermarket                 Asda\n",
            "9         2   2021-01-01                 14.6\n",
            "10        2   2007-01-01                 16.6\n",
            "11        2   2000-01-01                 14.1\n",
            "12        3  Supermarket            Morrisons\n",
            "13        3   2021-01-01                  9.8\n",
            "14        3   2007-01-01                 11.2\n",
            "15        3   2000-01-01                  4.9\n",
            "16        4  Supermarket                 Aldi\n",
            "17        4   2021-01-01                  8.0\n",
            "18        4   2007-01-01                  2.6\n",
            "19        4   2000-01-01                  1.5\n",
            "20        5  Supermarket                 Lidl\n",
            "21        5   2021-01-01                  6.1\n",
            "22        5   2007-01-01                  2.2\n",
            "23        5   2000-01-01                  1.3\n",
            "24        6  Supermarket           Co-op Food\n",
            "25        6   2021-01-01                  5.7\n",
            "26        6   2007-01-01                  4.4\n",
            "27        6   2000-01-01                  5.4\n",
            "28        7  Supermarket  Waitrose & Partners\n",
            "29        7   2021-01-01                  5.0\n",
            "30        7   2007-01-01                  3.9\n",
            "31        7   2000-01-01                  2.7\n",
            "32        8  Supermarket              Iceland\n",
            "33        8   2021-01-01                  2.3\n",
            "34        8   2007-01-01                  1.6\n",
            "35        8   2000-01-01                  2.8\n"
          ]
        }
      ]
    },
    {
      "cell_type": "code",
      "source": [
        "df3= df2.set_index(['Supermarket']).stack().reset_index()\n",
        "print(df3)"
      ],
      "metadata": {
        "colab": {
          "base_uri": "https://localhost:8080/"
        },
        "id": "ORullvBeGnQr",
        "outputId": "00cbb1e5-58df-42c8-eb8c-f4c54a3b0ea2"
      },
      "execution_count": null,
      "outputs": [
        {
          "output_type": "stream",
          "name": "stdout",
          "text": [
            "            Supermarket     level_1     0\n",
            "0                 Tesco  2021-01-01  27.7\n",
            "1                 Tesco  2007-01-01  31.6\n",
            "2                 Tesco  2000-01-01  25.0\n",
            "3           Sainsbury's  2021-01-01  15.5\n",
            "4           Sainsbury's  2007-01-01  16.2\n",
            "5           Sainsbury's  2000-01-01  17.9\n",
            "6                  Asda  2021-01-01  14.6\n",
            "7                  Asda  2007-01-01  16.6\n",
            "8                  Asda  2000-01-01  14.1\n",
            "9             Morrisons  2021-01-01   9.8\n",
            "10            Morrisons  2007-01-01  11.2\n",
            "11            Morrisons  2000-01-01   4.9\n",
            "12                 Aldi  2021-01-01   8.0\n",
            "13                 Aldi  2007-01-01   2.6\n",
            "14                 Aldi  2000-01-01   1.5\n",
            "15                 Lidl  2021-01-01   6.1\n",
            "16                 Lidl  2007-01-01   2.2\n",
            "17                 Lidl  2000-01-01   1.3\n",
            "18           Co-op Food  2021-01-01   5.7\n",
            "19           Co-op Food  2007-01-01   4.4\n",
            "20           Co-op Food  2000-01-01   5.4\n",
            "21  Waitrose & Partners  2021-01-01   5.0\n",
            "22  Waitrose & Partners  2007-01-01   3.9\n",
            "23  Waitrose & Partners  2000-01-01   2.7\n",
            "24              Iceland  2021-01-01   2.3\n",
            "25              Iceland  2007-01-01   1.6\n",
            "26              Iceland  2000-01-01   2.8\n"
          ]
        }
      ]
    },
    {
      "cell_type": "code",
      "source": [
        "df4= df3.rename(columns={'level_1':'Year', 0:'Market share (%)'})\n",
        "print(df4)"
      ],
      "metadata": {
        "colab": {
          "base_uri": "https://localhost:8080/"
        },
        "id": "H2xEEGQxIuoU",
        "outputId": "01161024-a963-46d9-cd70-ac091ef5d598"
      },
      "execution_count": null,
      "outputs": [
        {
          "output_type": "stream",
          "name": "stdout",
          "text": [
            "            Supermarket        Year Market share (%)\n",
            "0                 Tesco  2021-01-01             27.7\n",
            "1                 Tesco  2007-01-01             31.6\n",
            "2                 Tesco  2000-01-01             25.0\n",
            "3           Sainsbury's  2021-01-01             15.5\n",
            "4           Sainsbury's  2007-01-01             16.2\n",
            "5           Sainsbury's  2000-01-01             17.9\n",
            "6                  Asda  2021-01-01             14.6\n",
            "7                  Asda  2007-01-01             16.6\n",
            "8                  Asda  2000-01-01             14.1\n",
            "9             Morrisons  2021-01-01              9.8\n",
            "10            Morrisons  2007-01-01             11.2\n",
            "11            Morrisons  2000-01-01              4.9\n",
            "12                 Aldi  2021-01-01              8.0\n",
            "13                 Aldi  2007-01-01              2.6\n",
            "14                 Aldi  2000-01-01              1.5\n",
            "15                 Lidl  2021-01-01              6.1\n",
            "16                 Lidl  2007-01-01              2.2\n",
            "17                 Lidl  2000-01-01              1.3\n",
            "18           Co-op Food  2021-01-01              5.7\n",
            "19           Co-op Food  2007-01-01              4.4\n",
            "20           Co-op Food  2000-01-01              5.4\n",
            "21  Waitrose & Partners  2021-01-01              5.0\n",
            "22  Waitrose & Partners  2007-01-01              3.9\n",
            "23  Waitrose & Partners  2000-01-01              2.7\n",
            "24              Iceland  2021-01-01              2.3\n",
            "25              Iceland  2007-01-01              1.6\n",
            "26              Iceland  2000-01-01              2.8\n"
          ]
        }
      ]
    },
    {
      "cell_type": "code",
      "source": [
        "Supermarket_share = list(df4.T.to_dict().values())\n",
        "import json\n",
        "open('Supermarket_share.json','w').write(json.dumps(Supermarket_share))"
      ],
      "metadata": {
        "colab": {
          "base_uri": "https://localhost:8080/"
        },
        "id": "akxQfz1uJD96",
        "outputId": "776c4be2-7475-42cf-d887-0253f18e6a2c"
      },
      "execution_count": null,
      "outputs": [
        {
          "output_type": "execute_result",
          "data": {
            "text/plain": [
              "2119"
            ]
          },
          "metadata": {},
          "execution_count": 77
        }
      ]
    }
  ]
}