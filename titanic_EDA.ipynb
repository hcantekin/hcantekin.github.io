{
  "cells": [
    {
      "cell_type": "markdown",
      "metadata": {
        "id": "view-in-github",
        "colab_type": "text"
      },
      "source": [
        "<a href=\"https://colab.research.google.com/github/hcantekin/hcantekin.github.io/blob/main/titanic_EDA.ipynb\" target=\"_parent\"><img src=\"https://colab.research.google.com/assets/colab-badge.svg\" alt=\"Open In Colab\"/></a>"
      ]
    },
    {
      "cell_type": "code",
      "execution_count": null,
      "metadata": {
        "id": "bY8Y5Z3YJxzY"
      },
      "outputs": [],
      "source": [
        "import pandas as pd\n",
        "import numpy as np\n",
        "\n",
        "from scipy import stats\n",
        "\n",
        "import seaborn as sns\n",
        "import matplotlib.pyplot as plt\n",
        "\n"
      ]
    },
    {
      "cell_type": "code",
      "execution_count": null,
      "metadata": {
        "id": "0sF1FANlJxzZ"
      },
      "outputs": [],
      "source": [
        "pip install sweetviz"
      ]
    },
    {
      "cell_type": "code",
      "execution_count": null,
      "metadata": {
        "id": "drrfWKxaJxzZ"
      },
      "outputs": [],
      "source": [
        "import sweetviz"
      ]
    },
    {
      "cell_type": "code",
      "execution_count": null,
      "metadata": {
        "id": "CENuwCJ1JxzZ",
        "outputId": "ad557607-6c05-4507-dab0-9ed455d0c1c2"
      },
      "outputs": [
        {
          "data": {
            "text/html": [
              "<div>\n",
              "<style scoped>\n",
              "    .dataframe tbody tr th:only-of-type {\n",
              "        vertical-align: middle;\n",
              "    }\n",
              "\n",
              "    .dataframe tbody tr th {\n",
              "        vertical-align: top;\n",
              "    }\n",
              "\n",
              "    .dataframe thead th {\n",
              "        text-align: right;\n",
              "    }\n",
              "</style>\n",
              "<table border=\"1\" class=\"dataframe\">\n",
              "  <thead>\n",
              "    <tr style=\"text-align: right;\">\n",
              "      <th></th>\n",
              "      <th>PassengerId</th>\n",
              "      <th>Survived</th>\n",
              "      <th>Pclass</th>\n",
              "      <th>Name</th>\n",
              "      <th>Sex</th>\n",
              "      <th>Age</th>\n",
              "      <th>SibSp</th>\n",
              "      <th>Parch</th>\n",
              "      <th>Ticket</th>\n",
              "      <th>Fare</th>\n",
              "      <th>Cabin</th>\n",
              "      <th>Embarked</th>\n",
              "    </tr>\n",
              "  </thead>\n",
              "  <tbody>\n",
              "    <tr>\n",
              "      <th>0</th>\n",
              "      <td>1</td>\n",
              "      <td>0</td>\n",
              "      <td>3</td>\n",
              "      <td>Braund, Mr. Owen Harris</td>\n",
              "      <td>male</td>\n",
              "      <td>22.0</td>\n",
              "      <td>1</td>\n",
              "      <td>0</td>\n",
              "      <td>A/5 21171</td>\n",
              "      <td>7.2500</td>\n",
              "      <td>NaN</td>\n",
              "      <td>S</td>\n",
              "    </tr>\n",
              "    <tr>\n",
              "      <th>1</th>\n",
              "      <td>2</td>\n",
              "      <td>1</td>\n",
              "      <td>1</td>\n",
              "      <td>Cumings, Mrs. John Bradley (Florence Briggs Th...</td>\n",
              "      <td>female</td>\n",
              "      <td>38.0</td>\n",
              "      <td>1</td>\n",
              "      <td>0</td>\n",
              "      <td>PC 17599</td>\n",
              "      <td>71.2833</td>\n",
              "      <td>C85</td>\n",
              "      <td>C</td>\n",
              "    </tr>\n",
              "    <tr>\n",
              "      <th>2</th>\n",
              "      <td>3</td>\n",
              "      <td>1</td>\n",
              "      <td>3</td>\n",
              "      <td>Heikkinen, Miss. Laina</td>\n",
              "      <td>female</td>\n",
              "      <td>26.0</td>\n",
              "      <td>0</td>\n",
              "      <td>0</td>\n",
              "      <td>STON/O2. 3101282</td>\n",
              "      <td>7.9250</td>\n",
              "      <td>NaN</td>\n",
              "      <td>S</td>\n",
              "    </tr>\n",
              "    <tr>\n",
              "      <th>3</th>\n",
              "      <td>4</td>\n",
              "      <td>1</td>\n",
              "      <td>1</td>\n",
              "      <td>Futrelle, Mrs. Jacques Heath (Lily May Peel)</td>\n",
              "      <td>female</td>\n",
              "      <td>35.0</td>\n",
              "      <td>1</td>\n",
              "      <td>0</td>\n",
              "      <td>113803</td>\n",
              "      <td>53.1000</td>\n",
              "      <td>C123</td>\n",
              "      <td>S</td>\n",
              "    </tr>\n",
              "    <tr>\n",
              "      <th>4</th>\n",
              "      <td>5</td>\n",
              "      <td>0</td>\n",
              "      <td>3</td>\n",
              "      <td>Allen, Mr. William Henry</td>\n",
              "      <td>male</td>\n",
              "      <td>35.0</td>\n",
              "      <td>0</td>\n",
              "      <td>0</td>\n",
              "      <td>373450</td>\n",
              "      <td>8.0500</td>\n",
              "      <td>NaN</td>\n",
              "      <td>S</td>\n",
              "    </tr>\n",
              "  </tbody>\n",
              "</table>\n",
              "</div>"
            ],
            "text/plain": [
              "   PassengerId  Survived  Pclass  \\\n",
              "0            1         0       3   \n",
              "1            2         1       1   \n",
              "2            3         1       3   \n",
              "3            4         1       1   \n",
              "4            5         0       3   \n",
              "\n",
              "                                                Name     Sex   Age  SibSp  \\\n",
              "0                            Braund, Mr. Owen Harris    male  22.0      1   \n",
              "1  Cumings, Mrs. John Bradley (Florence Briggs Th...  female  38.0      1   \n",
              "2                             Heikkinen, Miss. Laina  female  26.0      0   \n",
              "3       Futrelle, Mrs. Jacques Heath (Lily May Peel)  female  35.0      1   \n",
              "4                           Allen, Mr. William Henry    male  35.0      0   \n",
              "\n",
              "   Parch            Ticket     Fare Cabin Embarked  \n",
              "0      0         A/5 21171   7.2500   NaN        S  \n",
              "1      0          PC 17599  71.2833   C85        C  \n",
              "2      0  STON/O2. 3101282   7.9250   NaN        S  \n",
              "3      0            113803  53.1000  C123        S  \n",
              "4      0            373450   8.0500   NaN        S  "
            ]
          },
          "execution_count": 5,
          "metadata": {},
          "output_type": "execute_result"
        }
      ],
      "source": [
        "# loading in titanic dataset\n",
        "df = pd.read_csv(\"Titanic.csv\")\n",
        "df.head()\n"
      ]
    },
    {
      "cell_type": "code",
      "execution_count": null,
      "metadata": {
        "colab": {
          "referenced_widgets": [
            "ce29c1233474497c9befeb1fc612fea0"
          ]
        },
        "id": "cbmstlarJxza",
        "outputId": "26171c63-b00f-4be1-a4d6-22cfd4e604e6"
      },
      "outputs": [
        {
          "data": {
            "application/vnd.jupyter.widget-view+json": {
              "model_id": "ce29c1233474497c9befeb1fc612fea0",
              "version_major": 2,
              "version_minor": 0
            },
            "text/plain": [
              "                                             |          | [  0%]   00:00 -> (? left)"
            ]
          },
          "metadata": {},
          "output_type": "display_data"
        },
        {
          "name": "stdout",
          "output_type": "stream",
          "text": [
            "Report sweetviz_report.html was generated! NOTEBOOK/COLAB USERS: the web browser MAY not pop up, regardless, the report IS saved in your notebook/colab files.\n"
          ]
        }
      ],
      "source": [
        "#  doing some initial analysis with sweetviz\n",
        "sweetviz_report = sweetviz.analyze(df)\n",
        "sweetviz_report.show_html('sweetviz_report.html')"
      ]
    },
    {
      "cell_type": "code",
      "execution_count": null,
      "metadata": {
        "id": "LEcLrhilJxza",
        "outputId": "dcdea262-34b3-4a84-bfed-fa4b14648d90"
      },
      "outputs": [
        {
          "data": {
            "text/plain": [
              "PassengerId      0\n",
              "Survived         0\n",
              "Pclass           0\n",
              "Name             0\n",
              "Sex              0\n",
              "Age            177\n",
              "SibSp            0\n",
              "Parch            0\n",
              "Ticket           0\n",
              "Fare             0\n",
              "Cabin          687\n",
              "Embarked         2\n",
              "dtype: int64"
            ]
          },
          "execution_count": 6,
          "metadata": {},
          "output_type": "execute_result"
        }
      ],
      "source": [
        "# checking how many null values in data\n",
        "df.isnull().sum()"
      ]
    },
    {
      "cell_type": "code",
      "execution_count": null,
      "metadata": {
        "id": "1tdqz7MKJxza"
      },
      "outputs": [],
      "source": [
        "# dropping cabin column because lack of values\n",
        "df.drop(columns=['Cabin'], inplace=True)"
      ]
    },
    {
      "cell_type": "code",
      "execution_count": null,
      "metadata": {
        "id": "7iPmamjmJxza",
        "outputId": "435ee5da-a9c1-46b0-fa1a-5a4032a98a44"
      },
      "outputs": [
        {
          "name": "stdout",
          "output_type": "stream",
          "text": [
            "Percentage of passengers in Class 3 who survived: 24.24%\n",
            "Percentage of passengers in Class 1 who survived: 62.96%\n",
            "Percentage of passengers in Class 2 who survived: 47.28%\n"
          ]
        },
        {
          "data": {
            "image/png": "[encoded data removed]",
            "text/plain": [
              "<Figure size 600x400 with 1 Axes>"
            ]
          },
          "metadata": {},
          "output_type": "display_data"
        }
      ],
      "source": [
        "# determing which factor has impact on survival\n",
        "# looking at relationship between survival with class, gender, age , fare\n",
        "\n",
        "#  creating lists to store class and survival rates\n",
        "pclass_list = []\n",
        "survived_percentages = []\n",
        "# Get unique values of 'Pclass'\n",
        "unique_pclasses = df['Pclass'].unique()\n",
        "\n",
        "# Iterate over each unique value of 'Pclass'\n",
        "for pclass in unique_pclasses:\n",
        "    # Filter DataFrame to get rows where 'Pclass' equals the current value\n",
        "    filtered_df_class = df[df['Pclass'] == pclass]\n",
        "\n",
        "    # Calculate the percentage of survivors for the current 'Pclass'\n",
        "    survived_percentage = (filtered_df_class['Survived'].sum() / len(filtered_df_class)) * 100\n",
        "#  adding results to list\n",
        "    pclass_list.append(pclass)\n",
        "    survived_percentages.append(survived_percentage)\n",
        "\n",
        "    # Printing the result\n",
        "    print(f\"Percentage of passengers in Class {pclass} who survived: {survived_percentage:.2f}%\")\n",
        "#\n",
        "#   creating bar plot to show results\n",
        "plt.bar(pclass_list, survived_percentages, color='skyblue')\n",
        "plt.title('Survival Rate by Class')\n",
        "plt.xlabel('Class')\n",
        "plt.ylabel('Survival Rate (%)')\n",
        "plt.show()"
      ]
    },
    {
      "cell_type": "code",
      "execution_count": null,
      "metadata": {
        "id": "FUz7I7R7Jxza",
        "outputId": "4feaeaa9-cc37-4ebd-825a-f816ad3475a3"
      },
      "outputs": [
        {
          "name": "stdout",
          "output_type": "stream",
          "text": [
            "Percentage of male passengers who survived: 15.08%\n",
            "Percentage of female passengers who survived: 27.71%\n"
          ]
        },
        {
          "data": {
            "image/png": "[encoded data removed]",
            "text/plain": [
              "<Figure size 600x400 with 1 Axes>"
            ]
          },
          "metadata": {},
          "output_type": "display_data"
        }
      ],
      "source": [
        "#  survival by gender\n",
        "\n",
        "sex_list = []\n",
        "survived_percentages = []\n",
        "\n",
        "unique_sex = df['Sex'].unique()\n",
        "\n",
        "for sex in unique_sex:\n",
        "\n",
        "    filtered_df_sex = df[df['Sex'] == sex]\n",
        "\n",
        "    survived_percentage = (filtered_df_class['Survived'].sum() / len(filtered_df_sex)) * 100\n",
        "#  adding results to list\n",
        "    sex_list.append(sex)\n",
        "    survived_percentages.append(survived_percentage)\n",
        "\n",
        "    # Printing the result\n",
        "    print(f\"Percentage of {sex} passengers who survived: {survived_percentage:.2f}%\")\n",
        "#\n",
        "#   creating bar plot to show results\n",
        "plt.bar(sex_list, survived_percentages, color='pink')\n",
        "plt.title('Survival Rate by Sex')\n",
        "plt.ylabel('Survival Rate (%)')\n",
        "plt.show()\n",
        "\n",
        "\n"
      ]
    },
    {
      "cell_type": "code",
      "execution_count": null,
      "metadata": {
        "id": "FuuyPohzJxzb",
        "outputId": "03e74f5c-172a-4128-da6b-645255c0079b"
      },
      "outputs": [
        {
          "data": {
            "text/plain": [
              "Text(0, 0.5, 'Age')"
            ]
          },
          "execution_count": 38,
          "metadata": {},
          "output_type": "execute_result"
        },
        {
          "data": {
            "image/png": "[encoded data removed]",
            "text/plain": [
              "<Figure size 600x400 with 1 Axes>"
            ]
          },
          "metadata": {},
          "output_type": "display_data"
        }
      ],
      "source": [
        "#  survival count by age, grouping age to give clearer insight\n",
        "df['Age_group'] = pd.cut(df['Age'], [0,1,9,20,29,39,49,59,69,79,89,99],\n",
        "                   labels=['0-1', '2-9', '10-19', '20-29','30-39','40-49','50-59','60-69','70-79',\n",
        "                           '80-89','90-99'])\n",
        "\n",
        "plt.figure()\n",
        "sns.countplot(y=df['Age_group'], data=df)\n",
        "plt.title('Survival Count by Age')\n",
        "plt.xlabel('Survival Count')\n",
        "plt.ylabel('Age')\n",
        "\n"
      ]
    },
    {
      "cell_type": "code",
      "execution_count": null,
      "metadata": {
        "id": "FrcXSwrsJxzb",
        "outputId": "af8eafdd-933c-4722-e49e-ad76c821bf00"
      },
      "outputs": [
        {
          "name": "stdout",
          "output_type": "stream",
          "text": [
            "Percentage of passengers aged 0-1 who survived: 85.71%\n",
            "Percentage of passengers aged 2-9 who survived: 54.17%\n",
            "Percentage of passengers aged 10-19 who survived: 40.20%\n",
            "Percentage of passengers aged 20-29 who survived: 35.00%\n",
            "Percentage of passengers aged 30-39 who survived: 43.71%\n",
            "Percentage of passengers aged 40-49 who survived: 38.20%\n",
            "Percentage of passengers aged 50-59 who survived: 41.67%\n",
            "Percentage of passengers aged 60-69 who survived: 31.58%\n"
          ]
        },
        {
          "data": {
            "image/png": "[encoded data removed]",
            "text/plain": [
              "<Figure size 600x400 with 1 Axes>"
            ]
          },
          "metadata": {},
          "output_type": "display_data"
        }
      ],
      "source": [
        "\n",
        "# Define age groups\n",
        "age_groups = ['0-1', '2-9', '10-19', '20-29', '30-39', '40-49', '50-59', '60-69']\n",
        "# omitting older than 70 because only 5 individuals (i.e. 100% of 80 year ols survived because only one person)\n",
        "\n",
        "# create lists to store age group and corresponding survival percentages\n",
        "age_group_list = []\n",
        "survived_percentages = []\n",
        "\n",
        "# iterate over each age group\n",
        "for age_group in age_groups:\n",
        "    # spliting age group into start and end values\n",
        "    start_age, end_age = map(int, age_group.split('-'))\n",
        "\n",
        "    # filtering df to get rows within the current age group\n",
        "    filtered_df_age = df[(df['Age'] >= start_age) & (df['Age'] <= end_age)]\n",
        "\n",
        "    # calculate the percentage of survivors for the current age group\n",
        "    survived_percentage = (filtered_df_age['Survived'].sum() / len(filtered_df_age)) * 100\n",
        "\n",
        "    age_group_list.append(age_group)\n",
        "    survived_percentages.append(survived_percentage)\n",
        "\n",
        "    print(f\"Percentage of passengers aged {age_group} who survived: {survived_percentage:.2f}%\")\n",
        "\n",
        "plt.bar(age_group_list, survived_percentages, color='purple')\n",
        "plt.title('Survival Rate by Age Group')\n",
        "plt.xlabel('Age Group')\n",
        "plt.ylabel('Survival Rate (%)')\n",
        "plt.show()\n"
      ]
    },
    {
      "cell_type": "code",
      "execution_count": null,
      "metadata": {
        "id": "mGVqEOGJJxzb"
      },
      "outputs": [],
      "source": []
    },
    {
      "cell_type": "markdown",
      "source": [
        "# **Answers:**\n",
        "1. The most important factor determining survival was class and sex, with women having a 27% survival rate compared to 15% for men. Similarly, the upper class passengers were more likely to survive.\n",
        "2. Yes, it appears that upper class passengers were favoured by the lifeboats because the data show that the first class passengers had a survival rate of over 62% while third class passengers only had a survival rate of 24.24%.\n",
        "3. The data suggest that women and children were prioritised in evacuation, the survival rate for women was almost twice that of men. Similarly, the survival rate for children under 10 is comparatively high compared to other age groups.\n",
        "4. For the babies on board (aged under one years old), the survival rate was approximately 85%."
      ],
      "metadata": {
        "id": "UbeR89-KJ1mt"
      }
    }
  ],
  "metadata": {
    "kernelspec": {
      "display_name": "base",
      "language": "python",
      "name": "python3"
    },
    "language_info": {
      "codemirror_mode": {
        "name": "ipython",
        "version": 3
      },
      "file_extension": ".py",
      "mimetype": "text/x-python",
      "name": "python",
      "nbconvert_exporter": "python",
      "pygments_lexer": "ipython3",
      "version": "3.9.12"
    },
    "colab": {
      "provenance": [],
      "include_colab_link": true
    }
  },
  "nbformat": 4,
  "nbformat_minor": 0
}